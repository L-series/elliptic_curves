{
  "nbformat": 4,
  "nbformat_minor": 0,
  "metadata": {
    "colab": {
      "provenance": []
    },
    "kernelspec": {
      "name": "python3",
      "display_name": "Python 3"
    },
    "language_info": {
      "name": "python"
    }
  },
  "cells": [
    {
      "cell_type": "code",
      "execution_count": null,
      "metadata": {
        "colab": {
          "base_uri": "https://localhost:8080/"
        },
        "id": "rx1GokQ8Rh3_",
        "outputId": "e7825e7c-9f70-4529-e004-23adb4ba44e2"
      },
      "outputs": [
        {
          "output_type": "stream",
          "name": "stdout",
          "text": [
            "Looking in indexes: https://pypi.org/simple, https://us-python.pkg.dev/colab-wheels/public/simple/\n",
            "Requirement already satisfied: kaggle in /usr/local/lib/python3.9/dist-packages (1.5.13)\n",
            "Requirement already satisfied: urllib3 in /usr/local/lib/python3.9/dist-packages (from kaggle) (1.26.15)\n",
            "Requirement already satisfied: six>=1.10 in /usr/local/lib/python3.9/dist-packages (from kaggle) (1.16.0)\n",
            "Requirement already satisfied: requests in /usr/local/lib/python3.9/dist-packages (from kaggle) (2.27.1)\n",
            "Requirement already satisfied: python-slugify in /usr/local/lib/python3.9/dist-packages (from kaggle) (8.0.1)\n",
            "Requirement already satisfied: certifi in /usr/local/lib/python3.9/dist-packages (from kaggle) (2022.12.7)\n",
            "Requirement already satisfied: tqdm in /usr/local/lib/python3.9/dist-packages (from kaggle) (4.65.0)\n",
            "Requirement already satisfied: python-dateutil in /usr/local/lib/python3.9/dist-packages (from kaggle) (2.8.2)\n",
            "Requirement already satisfied: text-unidecode>=1.3 in /usr/local/lib/python3.9/dist-packages (from python-slugify->kaggle) (1.3)\n",
            "Requirement already satisfied: charset-normalizer~=2.0.0 in /usr/local/lib/python3.9/dist-packages (from requests->kaggle) (2.0.12)\n",
            "Requirement already satisfied: idna<4,>=2.5 in /usr/local/lib/python3.9/dist-packages (from requests->kaggle) (3.4)\n"
          ]
        }
      ],
      "source": [
        "! pip install kaggle\n"
      ]
    },
    {
      "cell_type": "code",
      "source": [
        "from google.colab import drive\n",
        "drive.mount('/content/drive')\n",
        "\n",
        "! cp /content/drive/MyDrive/kaggle.json ~/\n",
        "! mkdir ~/.kaggle\n",
        "! mv ~/kaggle.json ~/.kaggle/kaggle.json\n",
        "! chmod 600 ~/.kaggle/kaggle.json"
      ],
      "metadata": {
        "colab": {
          "base_uri": "https://localhost:8080/"
        },
        "id": "sUMzM6EzRtsr",
        "outputId": "f2ea21af-7ab6-4b7c-c9e7-4bc9ef3b9932"
      },
      "execution_count": null,
      "outputs": [
        {
          "output_type": "stream",
          "name": "stdout",
          "text": [
            "Mounted at /content/drive\n"
          ]
        }
      ]
    },
    {
      "cell_type": "code",
      "source": [
        "! kaggle datasets download -d eldarsultanow/ml-bsd-dataset-integers"
      ],
      "metadata": {
        "colab": {
          "base_uri": "https://localhost:8080/"
        },
        "id": "2clb5OcTRwnM",
        "outputId": "0cf37836-1b7d-4f20-ad42-20a25296fddb"
      },
      "execution_count": null,
      "outputs": [
        {
          "output_type": "stream",
          "name": "stdout",
          "text": [
            "Downloading ml-bsd-dataset-integers.zip to /content\n",
            " 98% 269M/274M [00:02<00:00, 120MB/s]\n",
            "100% 274M/274M [00:02<00:00, 97.9MB/s]\n"
          ]
        }
      ]
    },
    {
      "cell_type": "code",
      "source": [
        "! unzip ml-bsd-dataset-integers.zip"
      ],
      "metadata": {
        "colab": {
          "base_uri": "https://localhost:8080/"
        },
        "id": "usC_FZaW7pfi",
        "outputId": "e84a63b0-e2c7-4eaf-849f-2bd3586a81b3"
      },
      "execution_count": null,
      "outputs": [
        {
          "output_type": "stream",
          "name": "stdout",
          "text": [
            "Archive:  ml-bsd-dataset-integers.zip\n",
            "  inflating: rank-vs-ap-integers.csv  \n"
          ]
        }
      ]
    },
    {
      "cell_type": "code",
      "source": [
        "import pandas as pd\n",
        "import numpy as np\n",
        "import sympy\n",
        "from scipy.interpolate import interp1d\n",
        "from sklearn.cluster import KMeans\n",
        "from sklearn.model_selection import GridSearchCV, train_test_split\n",
        "from sklearn.metrics import mean_squared_error\n",
        "from keras.models import Sequential\n",
        "from sklearn.preprocessing import StandardScaler\n",
        "from tensorflow.keras.models import Sequential\n",
        "from tensorflow.keras.layers import Dense, Dropout, Conv1D, MaxPooling1D, Flatten\n",
        "from sklearn.ensemble import RandomForestClassifier, GradientBoostingClassifier\n",
        "from tensorflow.keras.wrappers.scikit_learn import KerasRegressor\n",
        "from keras.optimizers import SGD\n",
        "from keras.callbacks import EarlyStopping\n",
        "from sympy import prime, isprime, primerange\n",
        "import random\n",
        "import math\n",
        "from sklearn.metrics import mean_absolute_error\n",
        "from sklearn.metrics import mean_squared_error, r2_score, accuracy_score, f1_score\n"
      ],
      "metadata": {
        "id": "eVPQL_tm7w4h"
      },
      "execution_count": null,
      "outputs": []
    },
    {
      "cell_type": "code",
      "source": [
        "df = pd.read_csv(\"rank-vs-ap-integers.csv\", index_col=False, header=None)\n"
      ],
      "metadata": {
        "id": "MoG-zADo70ma"
      },
      "execution_count": null,
      "outputs": []
    },
    {
      "cell_type": "code",
      "source": [
        "new_columns = ['rank', 'con', 'root'] + [f'ap_{i}' for i in range(3, 1232)]\n",
        "\n",
        "df.columns = new_columns"
      ],
      "metadata": {
        "id": "RCGkmlKx8MVb"
      },
      "execution_count": null,
      "outputs": []
    },
    {
      "cell_type": "code",
      "source": [
        "df['rank'].value_counts()"
      ],
      "metadata": {
        "colab": {
          "base_uri": "https://localhost:8080/"
        },
        "id": "LjUzSXVC8v3V",
        "outputId": "9f02fd23-f92b-4b88-cec1-19dd4950f152"
      },
      "execution_count": null,
      "outputs": [
        {
          "output_type": "execute_result",
          "data": {
            "text/plain": [
              "1    62710\n",
              "0    42290\n",
              "2    30000\n",
              "3    13616\n",
              "4     1335\n",
              "5       48\n",
              "6        1\n",
              "Name: rank, dtype: int64"
            ]
          },
          "metadata": {},
          "execution_count": 4
        }
      ]
    },
    {
      "cell_type": "code",
      "source": [
        "df_2 = df.loc[df['rank'] == 2].sample(n=13616, random_state=1)\n",
        "df_3 = df.loc[df['rank'] == 3]\n",
        "df_3_2 = pd.concat([df_3, df_2])\n",
        "df_1 = df.loc[df['rank'] == 1].sample(n=42290, random_state=1)\n",
        "df_0 = df.loc[df['rank'] == 0]\n",
        "df_0_1 = pd.concat([df_1, df_0])\n",
        "\n",
        "df_sub = pd.concat([df_0_1, df_3_2])\n",
        "df_sub['rank'].value_counts()"
      ],
      "metadata": {
        "colab": {
          "base_uri": "https://localhost:8080/"
        },
        "id": "zmKNaiOl86OM",
        "outputId": "785342d1-78fc-499d-9698-42650bbcdf3a"
      },
      "execution_count": null,
      "outputs": [
        {
          "output_type": "execute_result",
          "data": {
            "text/plain": [
              "1    42290\n",
              "0    42290\n",
              "3    13616\n",
              "2    13616\n",
              "Name: rank, dtype: int64"
            ]
          },
          "metadata": {},
          "execution_count": 5
        }
      ]
    },
    {
      "cell_type": "code",
      "source": [
        "df_sub = df_sub[~df_sub['rank'].isin([4,5,6])]"
      ],
      "metadata": {
        "id": "4U1mMhen-pOr"
      },
      "execution_count": null,
      "outputs": []
    },
    {
      "cell_type": "code",
      "source": [
        "df_sub['rank'].value_counts()"
      ],
      "metadata": {
        "colab": {
          "base_uri": "https://localhost:8080/"
        },
        "id": "sw_pOpi9--DQ",
        "outputId": "7e366582-dc21-489a-d588-289c88ce187b"
      },
      "execution_count": null,
      "outputs": [
        {
          "output_type": "execute_result",
          "data": {
            "text/plain": [
              "1    42290\n",
              "0    42290\n",
              "3    13616\n",
              "2    13616\n",
              "Name: rank, dtype: int64"
            ]
          },
          "metadata": {},
          "execution_count": 7
        }
      ]
    },
    {
      "cell_type": "code",
      "source": [
        "print(df_sub)"
      ],
      "metadata": {
        "colab": {
          "base_uri": "https://localhost:8080/"
        },
        "id": "ULz_t81f8f7L",
        "outputId": "2e6e72e8-1178-4cf4-8a5e-bee3f4a00507"
      },
      "execution_count": null,
      "outputs": [
        {
          "output_type": "stream",
          "name": "stdout",
          "text": [
            "        rank         con  root      ap_3      ap_4      ap_5      ap_6  \\\n",
            "76492      1  7900158977    -1 -1.000000  1.000000 -0.063251  4.000000   \n",
            "62660      1  7160450273    -1 -1.000000 -0.045161 -0.063251  2.000000   \n",
            "26131      1  7368135787    -1 -0.031522 -0.045161  4.000000  1.000000   \n",
            "74087      1  7601926747    -1 -1.000000 -2.000000  2.000000  2.000000   \n",
            "8084       1  7716687347    -1  2.000000  1.000000  2.000000 -1.000000   \n",
            "...      ...         ...   ...       ...       ...       ...       ...   \n",
            "117731     2  7959469501     1 -1.000000  2.000000  1.000000  4.000000   \n",
            "133602     2  7068244081     1 -1.000000  1.000000 -1.000000 -4.000000   \n",
            "126113     2  7289095621     1 -1.000000 -1.000000 -1.000000 -4.000000   \n",
            "113982     2  7299096653     1 -1.000000  2.000000 -0.063251  1.000000   \n",
            "120408     2  7745847787     1 -2.000000 -0.045161  2.000000 -0.068315   \n",
            "\n",
            "            ap_7  ap_8      ap_9  ...  ap_1222  ap_1223  ap_1224  ap_1225  \\\n",
            "76492  -4.000000   5.0 -2.000000  ...     52.0     85.0    -38.0     43.0   \n",
            "62660   6.000000   2.0 -1.000000  ...    114.0    -98.0    -28.0    146.0   \n",
            "26131  -0.070557   3.0  2.000000  ...    -34.0    150.0   -107.0    -17.0   \n",
            "74087   4.000000   3.0 -0.076488  ...    -44.0     27.0   -118.0    138.0   \n",
            "8084    4.000000  -6.0  5.000000  ...     80.0    103.0    -30.0      4.0   \n",
            "...          ...   ...       ...  ...      ...      ...      ...      ...   \n",
            "117731 -2.000000   5.0 -0.076488  ...     42.0   -131.0   -148.0    -99.0   \n",
            "133602  4.000000   4.0  4.000000  ...    -68.0     35.0    106.0    -50.0   \n",
            "126113 -4.000000  -2.0 -2.000000  ...   -192.0     69.0    116.0    -96.0   \n",
            "113982 -4.000000   5.0 -6.000000  ...     40.0    -47.0     28.0    132.0   \n",
            "120408  3.000000   2.0  5.000000  ...   -150.0     -8.0    -98.0      7.0   \n",
            "\n",
            "        ap_1226  ap_1227  ap_1228  ap_1229  ap_1230  ap_1231  \n",
            "76492     -66.0   -118.0     24.0     61.0     92.0     63.0  \n",
            "62660     -84.0     14.0   -170.0    -64.0     40.0    -89.0  \n",
            "26131     102.0    -34.0     20.0   -146.0    -67.0    -28.0  \n",
            "74087       7.0     80.0     13.0    -94.0    141.0    -82.0  \n",
            "8084       15.0     14.0     90.0     52.0     60.0      8.0  \n",
            "...         ...      ...      ...      ...      ...      ...  \n",
            "117731    -14.0    149.0    -12.0    164.0     95.0    152.0  \n",
            "133602    145.0   -132.0      7.0     22.0    140.0   -108.0  \n",
            "126113     87.0    -79.0   -174.0   -102.0     20.0     -4.0  \n",
            "113982    -51.0    130.0     54.0    -86.0     93.0     73.0  \n",
            "120408    -54.0      6.0    -66.0    -50.0    -84.0    116.0  \n",
            "\n",
            "[111812 rows x 1232 columns]\n"
          ]
        }
      ]
    },
    {
      "cell_type": "code",
      "source": [
        "from sympy import primepi\n",
        "\n",
        "def get_r_sequence(N:int):\n",
        "  pi_N = primepi(N)\n",
        "  res = [None]*pi_N\n",
        "\n",
        "  for i in range(1,pi_N+1):\n",
        "    res[i-1] = -1 + i*2/pi_N\n",
        "  return res\n",
        "\n",
        "print(len(get_r_sequence(2000)))\n",
        "print(get_r_sequence(2000))\n"
      ],
      "metadata": {
        "colab": {
          "base_uri": "https://localhost:8080/"
        },
        "id": "_L9hWIj5_A6I",
        "outputId": "98567f3d-04e8-4a54-a743-0a64ea465cdb"
      },
      "execution_count": null,
      "outputs": [
        {
          "output_type": "stream",
          "name": "stdout",
          "text": [
            "303\n",
            "[-301/303, -299/303, -99/101, -295/303, -293/303, -97/101, -289/303, -287/303, -95/101, -283/303, -281/303, -93/101, -277/303, -275/303, -91/101, -271/303, -269/303, -89/101, -265/303, -263/303, -87/101, -259/303, -257/303, -85/101, -253/303, -251/303, -83/101, -247/303, -245/303, -81/101, -241/303, -239/303, -79/101, -235/303, -233/303, -77/101, -229/303, -227/303, -75/101, -223/303, -221/303, -73/101, -217/303, -215/303, -71/101, -211/303, -209/303, -69/101, -205/303, -203/303, -67/101, -199/303, -197/303, -65/101, -193/303, -191/303, -63/101, -187/303, -185/303, -61/101, -181/303, -179/303, -59/101, -175/303, -173/303, -57/101, -169/303, -167/303, -55/101, -163/303, -161/303, -53/101, -157/303, -155/303, -51/101, -151/303, -149/303, -49/101, -145/303, -143/303, -47/101, -139/303, -137/303, -45/101, -133/303, -131/303, -43/101, -127/303, -125/303, -41/101, -121/303, -119/303, -39/101, -115/303, -113/303, -37/101, -109/303, -107/303, -35/101, -103/303, -1/3, -33/101, -97/303, -95/303, -31/101, -91/303, -89/303, -29/101, -85/303, -83/303, -27/101, -79/303, -77/303, -25/101, -73/303, -71/303, -23/101, -67/303, -65/303, -21/101, -61/303, -59/303, -19/101, -55/303, -53/303, -17/101, -49/303, -47/303, -15/101, -43/303, -41/303, -13/101, -37/303, -35/303, -11/101, -31/303, -29/303, -9/101, -25/303, -23/303, -7/101, -19/303, -17/303, -5/101, -13/303, -11/303, -3/101, -7/303, -5/303, -1/101, -1/303, 1/303, 1/101, 5/303, 7/303, 3/101, 11/303, 13/303, 5/101, 17/303, 19/303, 7/101, 23/303, 25/303, 9/101, 29/303, 31/303, 11/101, 35/303, 37/303, 13/101, 41/303, 43/303, 15/101, 47/303, 49/303, 17/101, 53/303, 55/303, 19/101, 59/303, 61/303, 21/101, 65/303, 67/303, 23/101, 71/303, 73/303, 25/101, 77/303, 79/303, 27/101, 83/303, 85/303, 29/101, 89/303, 91/303, 31/101, 95/303, 97/303, 33/101, 1/3, 103/303, 35/101, 107/303, 109/303, 37/101, 113/303, 115/303, 39/101, 119/303, 121/303, 41/101, 125/303, 127/303, 43/101, 131/303, 133/303, 45/101, 137/303, 139/303, 47/101, 143/303, 145/303, 49/101, 149/303, 151/303, 51/101, 155/303, 157/303, 53/101, 161/303, 163/303, 55/101, 167/303, 169/303, 57/101, 173/303, 175/303, 59/101, 179/303, 181/303, 61/101, 185/303, 187/303, 63/101, 191/303, 193/303, 65/101, 197/303, 199/303, 67/101, 203/303, 205/303, 69/101, 209/303, 211/303, 71/101, 215/303, 217/303, 73/101, 221/303, 223/303, 75/101, 227/303, 229/303, 77/101, 233/303, 235/303, 79/101, 239/303, 241/303, 81/101, 245/303, 247/303, 83/101, 251/303, 253/303, 85/101, 257/303, 259/303, 87/101, 263/303, 265/303, 89/101, 269/303, 271/303, 91/101, 275/303, 277/303, 93/101, 281/303, 283/303, 95/101, 287/303, 289/303, 97/101, 293/303, 295/303, 99/101, 299/303, 301/303, 1]\n"
          ]
        }
      ]
    },
    {
      "cell_type": "code",
      "source": [
        "primes = [-301/303, -299/303, -99/101, -295/303, -293/303, -97/101, -289/303, -287/303, -95/101, -283/303, -281/303, -93/101, -277/303, -275/303, -91/101, -271/303, -269/303, -89/101, -265/303, -263/303, -87/101, -259/303, -257/303, -85/101, -253/303, -251/303, -83/101, -247/303, -245/303, -81/101, -241/303, -239/303, -79/101, -235/303, -233/303, -77/101, -229/303, -227/303, -75/101, -223/303, -221/303, -73/101, -217/303, -215/303, -71/101, -211/303, -209/303, -69/101, -205/303, -203/303, -67/101, -199/303, -197/303, -65/101, -193/303, -191/303, -63/101, -187/303, -185/303, -61/101, -181/303, -179/303, -59/101, -175/303, -173/303, -57/101, -169/303, -167/303, -55/101, -163/303, -161/303, -53/101, -157/303, -155/303, -51/101, -151/303, -149/303, -49/101, -145/303, -143/303, -47/101, -139/303, -137/303, -45/101, -133/303, -131/303, -43/101, -127/303, -125/303, -41/101, -121/303, -119/303, -39/101, -115/303, -113/303, -37/101, -109/303, -107/303, -35/101, -103/303, -1/3, -33/101, -97/303, -95/303, -31/101, -91/303, -89/303, -29/101, -85/303, -83/303, -27/101, -79/303, -77/303, -25/101, -73/303, -71/303, -23/101, -67/303, -65/303, -21/101, -61/303, -59/303, -19/101, -55/303, -53/303, -17/101, -49/303, -47/303, -15/101, -43/303, -41/303, -13/101, -37/303, -35/303, -11/101, -31/303, -29/303, -9/101, -25/303, -23/303, -7/101, -19/303, -17/303, -5/101, -13/303, -11/303, -3/101, -7/303, -5/303, -1/101, -1/303, 1/303, 1/101, 5/303, 7/303, 3/101, 11/303, 13/303, 5/101, 17/303, 19/303, 7/101, 23/303, 25/303, 9/101, 29/303, 31/303, 11/101, 35/303, 37/303, 13/101, 41/303, 43/303, 15/101, 47/303, 49/303, 17/101, 53/303, 55/303, 19/101, 59/303, 61/303, 21/101, 65/303, 67/303, 23/101, 71/303, 73/303, 25/101, 77/303, 79/303, 27/101, 83/303, 85/303, 29/101, 89/303, 91/303, 31/101, 95/303, 97/303, 33/101, 1/3, 103/303, 35/101, 107/303, 109/303, 37/101, 113/303, 115/303, 39/101, 119/303, 121/303, 41/101, 125/303, 127/303, 43/101, 131/303, 133/303, 45/101, 137/303, 139/303, 47/101, 143/303, 145/303, 49/101, 149/303, 151/303, 51/101, 155/303, 157/303, 53/101, 161/303, 163/303, 55/101, 167/303, 169/303, 57/101, 173/303, 175/303, 59/101, 179/303, 181/303, 61/101, 185/303, 187/303, 63/101, 191/303, 193/303, 65/101, 197/303, 199/303, 67/101, 203/303, 205/303, 69/101, 209/303, 211/303, 71/101, 215/303, 217/303, 73/101, 221/303, 223/303, 75/101, 227/303, 229/303, 77/101, 233/303, 235/303, 79/101, 239/303, 241/303, 81/101, 245/303, 247/303, 83/101, 251/303, 253/303, 85/101, 257/303, 259/303, 87/101, 263/303, 265/303, 89/101, 269/303, 271/303, 91/101, 275/303, 277/303, 93/101, 281/303, 283/303, 95/101, 287/303, 289/303, 97/101, 293/303, 295/303, 99/101, 299/303, 301/303, 1]\n"
      ],
      "metadata": {
        "id": "yT9qeKO4AoZv"
      },
      "execution_count": null,
      "outputs": []
    },
    {
      "cell_type": "code",
      "source": [
        "abs_prime = [abs(prime) for prime in primes]"
      ],
      "metadata": {
        "id": "I7N6J1p1AqhJ"
      },
      "execution_count": null,
      "outputs": []
    },
    {
      "cell_type": "code",
      "source": [
        "ap_cols = [col for col in df_sub.columns if col.startswith(\"ap_\")]\n",
        "df_sub[ap_cols] = df_sub[ap_cols].replace(0, np.nan)\n",
        "df_sub[ap_cols] = df_sub[ap_cols].fillna(df_sub[ap_cols].mean())"
      ],
      "metadata": {
        "id": "zzWfX77KAvSZ"
      },
      "execution_count": null,
      "outputs": []
    },
    {
      "cell_type": "code",
      "source": [
        "for i in range(len(abs_prime)):\n",
        "    ap_col = f\"ap_{i+3}\"\n",
        "    df_sub[ap_col].dropna(inplace=True)\n",
        "    if (df_sub[ap_col] == 0).any():\n",
        "        df_sub[ap_col].replace(0, df_sub[ap_col].mean(), inplace=True)\n",
        "    df_sub[ap_col] = df_sub[ap_col].apply(lambda x, p=abs_prime[i]: x / math.sqrt(p))\n"
      ],
      "metadata": {
        "id": "M106TS2XA4N7"
      },
      "execution_count": null,
      "outputs": []
    },
    {
      "cell_type": "code",
      "source": [
        "modified_ap = pd.concat([df_sub['rank'], df_sub.iloc[:,3:301]], axis=1)"
      ],
      "metadata": {
        "id": "wnVfInc7Iju_"
      },
      "execution_count": null,
      "outputs": []
    },
    {
      "cell_type": "code",
      "source": [
        "print(modified_ap)"
      ],
      "metadata": {
        "colab": {
          "base_uri": "https://localhost:8080/"
        },
        "id": "d_f72AqwIsUJ",
        "outputId": "fbc9e219-7a4a-4352-ccf6-dbdfc8783850"
      },
      "execution_count": null,
      "outputs": [
        {
          "output_type": "stream",
          "name": "stdout",
          "text": [
            "        rank  root      ap_3      ap_4      ap_5      ap_6      ap_7  \\\n",
            "76492      1    -1 -1.006678  1.013446 -0.064536  4.109032 -4.137225   \n",
            "62660      1    -1 -1.006678 -0.045768 -0.064536  2.054516  6.205837   \n",
            "26131      1    -1 -0.031733 -0.045768  4.081220  1.027258 -0.072978   \n",
            "74087      1    -1 -1.006678 -2.026891  2.040610  2.054516  4.137225   \n",
            "8084       1    -1  2.013356  1.013446  2.040610 -1.027258  4.137225   \n",
            "...      ...   ...       ...       ...       ...       ...       ...   \n",
            "117731     2     1 -1.006678  2.026891  1.020305  4.109032 -2.068612   \n",
            "133602     2     1 -1.006678  1.013446 -1.020305 -4.109032  4.137225   \n",
            "126113     2     1 -1.006678 -1.013446 -1.020305 -4.109032 -4.137225   \n",
            "113982     2     1 -1.006678  2.026891 -0.064536  1.027258 -4.137225   \n",
            "120408     2     1 -2.013356 -0.045768  2.040610 -0.070177  3.102919   \n",
            "\n",
            "            ap_8      ap_9     ap_10  ...     ap_291     ap_292     ap_293  \\\n",
            "76492   5.207259 -2.097394  2.112087  ...  67.179218 -18.825821 -16.673977   \n",
            "62660   2.082904 -1.048697  4.224174  ... -29.390908  52.293948  77.117143   \n",
            "26131   3.124356  2.097394 -0.092459  ... -15.745129 -17.779942 -14.589730   \n",
            "74087   3.124356 -0.080213  5.280218  ...   4.198701  25.101095  -6.252741   \n",
            "8084   -6.248711  5.243485  4.224174  ... -48.285063  -6.275274 -56.274672   \n",
            "...          ...       ...       ...  ...        ...        ...        ...   \n",
            "117731  5.207259 -0.080213 -3.168131  ... -71.377919  16.734063  55.232548   \n",
            "133602  4.165807  4.194788 -3.168131  ...  33.589609  70.073891  59.401043   \n",
            "126113 -2.082904 -2.097394  2.112087  ...  12.596103 -48.110433 -22.926718   \n",
            "113982  5.207259 -6.292182  4.224174  ... -10.496753 -30.330490 -25.010965   \n",
            "120408  2.082904  5.243485 -8.448348  ...  26.241882 -14.642306  64.611660   \n",
            "\n",
            "           ap_294     ap_295     ap_296     ap_297     ap_298     ap_299  \\\n",
            "76492  -29.075433  46.562963 -20.621910  63.704785  22.526570 -20.408205   \n",
            "62660   31.152249  70.361811 -59.803538   6.164979   6.143610   6.122462   \n",
            "26131   20.768166  -7.243128 -81.456543 -14.384951 -22.526570  65.306257   \n",
            "74087   37.382699  14.486255  41.243819 -70.897261 -27.646245 -71.428719   \n",
            "8084    28.037024 -51.736626 -86.612021 -23.632420 -24.574440  14.285744   \n",
            "...           ...        ...        ...        ...        ...        ...   \n",
            "117731 -74.765398 -18.625185 -49.492583  -8.219972  -6.143610 -28.571487   \n",
            "133602 -84.111073 -21.729383  -3.093286  22.604924 -20.478700 -48.979693   \n",
            "126113  -6.230450 -64.153416  34.026151  59.594799  54.268556 -12.244923   \n",
            "113982 -21.806574  72.431276 -17.528623  -0.065317  53.244621  38.775590   \n",
            "120408  12.460900 -71.396544 -12.373146 -35.962379  20.478700  20.408205   \n",
            "\n",
            "           ap_300  \n",
            "76492  -83.387577  \n",
            "62660  -18.304590  \n",
            "26131   -9.152295  \n",
            "74087   67.116831  \n",
            "8084    21.355355  \n",
            "...           ...  \n",
            "117731  83.387577  \n",
            "133602  46.778397  \n",
            "126113  66.099909  \n",
            "113982  42.710710  \n",
            "120408  19.321512  \n",
            "\n",
            "[111812 rows x 300 columns]\n"
          ]
        }
      ]
    },
    {
      "cell_type": "code",
      "source": [
        "modified_ap.to_csv('final_ap.csv',index=False)"
      ],
      "metadata": {
        "id": "5AkuyitVIwrx"
      },
      "execution_count": null,
      "outputs": []
    },
    {
      "cell_type": "code",
      "source": [
        "df = pd.read_csv('final_ap.csv')"
      ],
      "metadata": {
        "id": "DeppKjkHI0NR"
      },
      "execution_count": null,
      "outputs": []
    },
    {
      "cell_type": "code",
      "source": [
        "df = df.sample(frac=0.2, random_state=42)"
      ],
      "metadata": {
        "id": "_mCB5N3nKwhk"
      },
      "execution_count": null,
      "outputs": []
    },
    {
      "cell_type": "code",
      "source": [
        "feature_col = [col for col in df.columns if col.startswith('ap_')]\n",
        "X = df[feature_col]\n",
        "y = df['rank']\n",
        "n_clusters = 4\n",
        "kmeans = KMeans(n_clusters=n_clusters)\n",
        "kmeans.fit(X)\n",
        "df['cluster_label'] = kmeans.labels_"
      ],
      "metadata": {
        "colab": {
          "base_uri": "https://localhost:8080/"
        },
        "id": "IYKHzIvgQVcu",
        "outputId": "d0adc41f-6c83-4849-8828-caedb0150c28"
      },
      "execution_count": null,
      "outputs": [
        {
          "output_type": "stream",
          "name": "stderr",
          "text": [
            "/usr/local/lib/python3.9/dist-packages/sklearn/cluster/_kmeans.py:870: FutureWarning: The default value of `n_init` will change from 10 to 'auto' in 1.4. Set the value of `n_init` explicitly to suppress the warning\n",
            "  warnings.warn(\n"
          ]
        }
      ]
    },
    {
      "cell_type": "code",
      "source": [
        "print(df['cluster_label'])"
      ],
      "metadata": {
        "colab": {
          "base_uri": "https://localhost:8080/"
        },
        "id": "9Ua8m4vTR1xA",
        "outputId": "f15628e0-1ca7-4dc8-e350-577b7210b76d"
      },
      "execution_count": null,
      "outputs": [
        {
          "output_type": "stream",
          "name": "stdout",
          "text": [
            "14521    0\n",
            "12772    3\n",
            "64844    1\n",
            "50963    3\n",
            "16822    3\n",
            "        ..\n",
            "92088    1\n",
            "18005    3\n",
            "16357    0\n",
            "67044    3\n",
            "75465    1\n",
            "Name: cluster_label, Length: 22362, dtype: int32\n"
          ]
        }
      ]
    },
    {
      "cell_type": "code",
      "source": [
        "X_reduced = df[['cluster_label']+feature_col].values\n",
        "y_reduced = df['rank'].values"
      ],
      "metadata": {
        "id": "JDlG8br9P8-2"
      },
      "execution_count": null,
      "outputs": []
    },
    {
      "cell_type": "code",
      "source": [
        "print(X_reduced)"
      ],
      "metadata": {
        "id": "2PuSAtWqSTrw"
      },
      "execution_count": null,
      "outputs": []
    },
    {
      "cell_type": "code",
      "source": [
        "X_reduced_np = np.array(X_reduced)\n",
        "y_reduced_np =np.array(y_reduced) "
      ],
      "metadata": {
        "id": "7-fA6MDLSYhh"
      },
      "execution_count": null,
      "outputs": []
    },
    {
      "cell_type": "code",
      "source": [
        "X_train, X_test, y_train, y_test = train_test_split(X_reduced_np, y_reduced_np, test_size=0.4, random_state=42)\n"
      ],
      "metadata": {
        "id": "FuK9kht-SesI"
      },
      "execution_count": null,
      "outputs": []
    },
    {
      "cell_type": "code",
      "source": [
        "scaler = StandardScaler()\n",
        "X_train = scaler.fit_transform(X_train)\n",
        "X_test = scaler.transform(X_test)"
      ],
      "metadata": {
        "id": "QpUtt3lzSh84"
      },
      "execution_count": null,
      "outputs": []
    },
    {
      "cell_type": "code",
      "source": [
        "def create_model(filters=64, kernel_size=3, dropout=0.5):\n",
        "    model = Sequential()\n",
        "    model.add(Conv1D(filters=filters, kernel_size=kernel_size, activation='relu', input_shape=(X_train.shape[1], 1)))\n",
        "    model.add(MaxPooling1D(pool_size=2))\n",
        "    model.add(Flatten())\n",
        "    model.add(Dense(128, activation='relu'))\n",
        "    model.add(Dropout(dropout))\n",
        "    model.add(Dense(1))\n",
        "    model.compile(loss='mse', optimizer='adam')\n",
        "    return model"
      ],
      "metadata": {
        "id": "8xrR3aEYSmkh"
      },
      "execution_count": null,
      "outputs": []
    },
    {
      "cell_type": "code",
      "source": [
        "model = create_model(filters=64, kernel_size=3, dropout=0.5)\n"
      ],
      "metadata": {
        "id": "RRXTsN9kSpZ4"
      },
      "execution_count": null,
      "outputs": []
    },
    {
      "cell_type": "code",
      "source": [
        "model.fit(X_train.reshape((X_train.shape[0], X_train.shape[1], 1)), y_train, epochs=10, batch_size=32, verbose=0)"
      ],
      "metadata": {
        "colab": {
          "base_uri": "https://localhost:8080/"
        },
        "id": "6vS9mAjiSsY4",
        "outputId": "b4303bd1-df05-48dc-f9e6-9a13feaf0e43"
      },
      "execution_count": null,
      "outputs": [
        {
          "output_type": "execute_result",
          "data": {
            "text/plain": [
              "<keras.callbacks.History at 0x7fb1354de250>"
            ]
          },
          "metadata": {},
          "execution_count": 79
        }
      ]
    },
    {
      "cell_type": "code",
      "source": [
        "sgd = SGD(lr=0.01, momentum=0.9)\n",
        "\n",
        "model.compile(optimizer=sgd,\n",
        "              loss='mse',\n",
        "              metrics=['mae', 'mse'])\n",
        "\n",
        "history = model.fit(X_train, y_train, epochs=50, batch_size=64, validation_data=(X_test, y_test), verbose=1)\n",
        "\n",
        "\n",
        "y_pred = model.predict(X_test)"
      ],
      "metadata": {
        "id": "PGc5etM6Svjo"
      },
      "execution_count": null,
      "outputs": []
    },
    {
      "cell_type": "code",
      "source": [
        "mse, mae, accuracy = model.evaluate(X_test.reshape((X_test.shape[0], X_test.shape[1], 1)), y_test, verbose=0)\n",
        "\n",
        "print(\"Accuracy:\", accuracy)"
      ],
      "metadata": {
        "colab": {
          "base_uri": "https://localhost:8080/"
        },
        "id": "bNEaHBR8SywQ",
        "outputId": "20afb503-caee-4f71-9536-0443687ea9b6"
      },
      "execution_count": null,
      "outputs": [
        {
          "output_type": "stream",
          "name": "stdout",
          "text": [
            "Accuracy: 0.999197781085968\n"
          ]
        }
      ]
    }
  ]
}