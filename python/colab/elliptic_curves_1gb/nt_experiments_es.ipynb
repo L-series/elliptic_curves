{
  "nbformat": 4,
  "nbformat_minor": 0,
  "metadata": {
    "colab": {
      "provenance": []
    },
    "kernelspec": {
      "name": "python3",
      "display_name": "Python 3"
    },
    "language_info": {
      "name": "python"
    }
  },
  "cells": [
    {
      "cell_type": "code",
      "execution_count": 1,
      "metadata": {
        "colab": {
          "base_uri": "https://localhost:8080/"
        },
        "id": "uI-R79Ncw3gG",
        "outputId": "3e73dc08-4ad8-4e05-afb8-c72072f0f0d4"
      },
      "outputs": [
        {
          "output_type": "stream",
          "name": "stdout",
          "text": [
            "Looking in indexes: https://pypi.org/simple, https://us-python.pkg.dev/colab-wheels/public/simple/\n",
            "Requirement already satisfied: kaggle in /usr/local/lib/python3.9/dist-packages (1.5.13)\n",
            "Requirement already satisfied: python-slugify in /usr/local/lib/python3.9/dist-packages (from kaggle) (8.0.1)\n",
            "Requirement already satisfied: certifi in /usr/local/lib/python3.9/dist-packages (from kaggle) (2022.12.7)\n",
            "Requirement already satisfied: requests in /usr/local/lib/python3.9/dist-packages (from kaggle) (2.27.1)\n",
            "Requirement already satisfied: six>=1.10 in /usr/local/lib/python3.9/dist-packages (from kaggle) (1.16.0)\n",
            "Requirement already satisfied: tqdm in /usr/local/lib/python3.9/dist-packages (from kaggle) (4.65.0)\n",
            "Requirement already satisfied: urllib3 in /usr/local/lib/python3.9/dist-packages (from kaggle) (1.26.15)\n",
            "Requirement already satisfied: python-dateutil in /usr/local/lib/python3.9/dist-packages (from kaggle) (2.8.2)\n",
            "Requirement already satisfied: text-unidecode>=1.3 in /usr/local/lib/python3.9/dist-packages (from python-slugify->kaggle) (1.3)\n",
            "Requirement already satisfied: charset-normalizer~=2.0.0 in /usr/local/lib/python3.9/dist-packages (from requests->kaggle) (2.0.12)\n",
            "Requirement already satisfied: idna<4,>=2.5 in /usr/local/lib/python3.9/dist-packages (from requests->kaggle) (3.4)\n"
          ]
        }
      ],
      "source": [
        "! pip install kaggle"
      ]
    },
    {
      "cell_type": "code",
      "source": [
        "from google.colab import drive\n",
        "drive.mount('/content/drive')\n",
        "\n",
        "! cp /content/drive/MyDrive/kaggle.json ~/\n",
        "! mkdir ~/.kaggle\n",
        "! mv ~/kaggle.json ~/.kaggle/kaggle.json\n",
        "! chmod 600 ~/.kaggle/kaggle.json"
      ],
      "metadata": {
        "colab": {
          "base_uri": "https://localhost:8080/"
        },
        "id": "QVb3YpqHxQrT",
        "outputId": "292534b5-790b-4da4-a622-fdb5fc313974"
      },
      "execution_count": 2,
      "outputs": [
        {
          "output_type": "stream",
          "name": "stdout",
          "text": [
            "Mounted at /content/drive\n"
          ]
        }
      ]
    },
    {
      "cell_type": "code",
      "source": [
        "! kaggle datasets download -d eldarsultanow/ml-bsd-dataset-integers"
      ],
      "metadata": {
        "colab": {
          "base_uri": "https://localhost:8080/"
        },
        "id": "t5FD8f7qxUUz",
        "outputId": "00e8a57c-7be6-4c02-819c-6631daaec8a6"
      },
      "execution_count": 3,
      "outputs": [
        {
          "output_type": "stream",
          "name": "stdout",
          "text": [
            "Downloading ml-bsd-dataset-integers.zip to /content\n",
            " 98% 269M/274M [00:03<00:00, 112MB/s] \n",
            "100% 274M/274M [00:03<00:00, 72.8MB/s]\n"
          ]
        }
      ]
    },
    {
      "cell_type": "code",
      "source": [
        "! unzip ml-bsd-dataset-integers.zip"
      ],
      "metadata": {
        "colab": {
          "base_uri": "https://localhost:8080/"
        },
        "id": "QIdnf0FuxfRF",
        "outputId": "d1a0eb58-3c58-4d47-a5cd-4545ce9dc70e"
      },
      "execution_count": 4,
      "outputs": [
        {
          "output_type": "stream",
          "name": "stdout",
          "text": [
            "Archive:  ml-bsd-dataset-integers.zip\n",
            "  inflating: rank-vs-ap-integers.csv  \n"
          ]
        }
      ]
    },
    {
      "cell_type": "code",
      "source": [
        "import pandas as pd\n",
        "import numpy as np"
      ],
      "metadata": {
        "id": "N-XeJzhr21NI"
      },
      "execution_count": 5,
      "outputs": []
    },
    {
      "cell_type": "code",
      "source": [
        "df = pd.read_csv(\"rank-vs-ap-integers.csv\", index_col=False, header=None)\n",
        "df.drop_duplicates(inplace=True)\n",
        "df.dropna(inplace=True)"
      ],
      "metadata": {
        "id": "o__g25sexkHu"
      },
      "execution_count": 6,
      "outputs": []
    },
    {
      "cell_type": "code",
      "source": [
        "df.head()"
      ],
      "metadata": {
        "colab": {
          "base_uri": "https://localhost:8080/",
          "height": 236
        },
        "id": "tzBk4MBjzN6H",
        "outputId": "90072f30-bb03-4ab5-a295-8108c9016bc3"
      },
      "execution_count": 7,
      "outputs": [
        {
          "output_type": "execute_result",
          "data": {
            "text/plain": [
              "   0           1     2     3     4     5     6     7     8     9     ...  \\\n",
              "0     1  7073163673    -1     1     1     2    -1     3    -2     0  ...   \n",
              "1     1  7578874153    -1     1     0     0    -2     6    -4     0  ...   \n",
              "2     1  7526030717    -1     0     2     0    -1     0     2     3  ...   \n",
              "3     1  7078096709    -1     1     0    -3     2    -4    -6    -1  ...   \n",
              "4     0  7886103067     1    -1     0     0     5    -1     2    -4  ...   \n",
              "\n",
              "   1222  1223  1224  1225  1226  1227  1228  1229  1230  1231  \n",
              "0   -72    85   172   158  -126  -138    44   -85    85   -13  \n",
              "1  -119   -97  -170   -31  -169   -76   -37    42   -78   122  \n",
              "2   172  -186    93  -168    66   120   -74   -78   -96   100  \n",
              "3   103   127   -97   -24   122   -67    67    29   -95    56  \n",
              "4   138   -29   -34     9   -83    64   140   102    62   139  \n",
              "\n",
              "[5 rows x 1232 columns]"
            ],
            "text/html": [
              "\n",
              "  <div id=\"df-bf9e5d62-3cf1-4c3d-8bf8-53053fe8b522\">\n",
              "    <div class=\"colab-df-container\">\n",
              "      <div>\n",
              "<style scoped>\n",
              "    .dataframe tbody tr th:only-of-type {\n",
              "        vertical-align: middle;\n",
              "    }\n",
              "\n",
              "    .dataframe tbody tr th {\n",
              "        vertical-align: top;\n",
              "    }\n",
              "\n",
              "    .dataframe thead th {\n",
              "        text-align: right;\n",
              "    }\n",
              "</style>\n",
              "<table border=\"1\" class=\"dataframe\">\n",
              "  <thead>\n",
              "    <tr style=\"text-align: right;\">\n",
              "      <th></th>\n",
              "      <th>0</th>\n",
              "      <th>1</th>\n",
              "      <th>2</th>\n",
              "      <th>3</th>\n",
              "      <th>4</th>\n",
              "      <th>5</th>\n",
              "      <th>6</th>\n",
              "      <th>7</th>\n",
              "      <th>8</th>\n",
              "      <th>9</th>\n",
              "      <th>...</th>\n",
              "      <th>1222</th>\n",
              "      <th>1223</th>\n",
              "      <th>1224</th>\n",
              "      <th>1225</th>\n",
              "      <th>1226</th>\n",
              "      <th>1227</th>\n",
              "      <th>1228</th>\n",
              "      <th>1229</th>\n",
              "      <th>1230</th>\n",
              "      <th>1231</th>\n",
              "    </tr>\n",
              "  </thead>\n",
              "  <tbody>\n",
              "    <tr>\n",
              "      <th>0</th>\n",
              "      <td>1</td>\n",
              "      <td>7073163673</td>\n",
              "      <td>-1</td>\n",
              "      <td>1</td>\n",
              "      <td>1</td>\n",
              "      <td>2</td>\n",
              "      <td>-1</td>\n",
              "      <td>3</td>\n",
              "      <td>-2</td>\n",
              "      <td>0</td>\n",
              "      <td>...</td>\n",
              "      <td>-72</td>\n",
              "      <td>85</td>\n",
              "      <td>172</td>\n",
              "      <td>158</td>\n",
              "      <td>-126</td>\n",
              "      <td>-138</td>\n",
              "      <td>44</td>\n",
              "      <td>-85</td>\n",
              "      <td>85</td>\n",
              "      <td>-13</td>\n",
              "    </tr>\n",
              "    <tr>\n",
              "      <th>1</th>\n",
              "      <td>1</td>\n",
              "      <td>7578874153</td>\n",
              "      <td>-1</td>\n",
              "      <td>1</td>\n",
              "      <td>0</td>\n",
              "      <td>0</td>\n",
              "      <td>-2</td>\n",
              "      <td>6</td>\n",
              "      <td>-4</td>\n",
              "      <td>0</td>\n",
              "      <td>...</td>\n",
              "      <td>-119</td>\n",
              "      <td>-97</td>\n",
              "      <td>-170</td>\n",
              "      <td>-31</td>\n",
              "      <td>-169</td>\n",
              "      <td>-76</td>\n",
              "      <td>-37</td>\n",
              "      <td>42</td>\n",
              "      <td>-78</td>\n",
              "      <td>122</td>\n",
              "    </tr>\n",
              "    <tr>\n",
              "      <th>2</th>\n",
              "      <td>1</td>\n",
              "      <td>7526030717</td>\n",
              "      <td>-1</td>\n",
              "      <td>0</td>\n",
              "      <td>2</td>\n",
              "      <td>0</td>\n",
              "      <td>-1</td>\n",
              "      <td>0</td>\n",
              "      <td>2</td>\n",
              "      <td>3</td>\n",
              "      <td>...</td>\n",
              "      <td>172</td>\n",
              "      <td>-186</td>\n",
              "      <td>93</td>\n",
              "      <td>-168</td>\n",
              "      <td>66</td>\n",
              "      <td>120</td>\n",
              "      <td>-74</td>\n",
              "      <td>-78</td>\n",
              "      <td>-96</td>\n",
              "      <td>100</td>\n",
              "    </tr>\n",
              "    <tr>\n",
              "      <th>3</th>\n",
              "      <td>1</td>\n",
              "      <td>7078096709</td>\n",
              "      <td>-1</td>\n",
              "      <td>1</td>\n",
              "      <td>0</td>\n",
              "      <td>-3</td>\n",
              "      <td>2</td>\n",
              "      <td>-4</td>\n",
              "      <td>-6</td>\n",
              "      <td>-1</td>\n",
              "      <td>...</td>\n",
              "      <td>103</td>\n",
              "      <td>127</td>\n",
              "      <td>-97</td>\n",
              "      <td>-24</td>\n",
              "      <td>122</td>\n",
              "      <td>-67</td>\n",
              "      <td>67</td>\n",
              "      <td>29</td>\n",
              "      <td>-95</td>\n",
              "      <td>56</td>\n",
              "    </tr>\n",
              "    <tr>\n",
              "      <th>4</th>\n",
              "      <td>0</td>\n",
              "      <td>7886103067</td>\n",
              "      <td>1</td>\n",
              "      <td>-1</td>\n",
              "      <td>0</td>\n",
              "      <td>0</td>\n",
              "      <td>5</td>\n",
              "      <td>-1</td>\n",
              "      <td>2</td>\n",
              "      <td>-4</td>\n",
              "      <td>...</td>\n",
              "      <td>138</td>\n",
              "      <td>-29</td>\n",
              "      <td>-34</td>\n",
              "      <td>9</td>\n",
              "      <td>-83</td>\n",
              "      <td>64</td>\n",
              "      <td>140</td>\n",
              "      <td>102</td>\n",
              "      <td>62</td>\n",
              "      <td>139</td>\n",
              "    </tr>\n",
              "  </tbody>\n",
              "</table>\n",
              "<p>5 rows × 1232 columns</p>\n",
              "</div>\n",
              "      <button class=\"colab-df-convert\" onclick=\"convertToInteractive('df-bf9e5d62-3cf1-4c3d-8bf8-53053fe8b522')\"\n",
              "              title=\"Convert this dataframe to an interactive table.\"\n",
              "              style=\"display:none;\">\n",
              "        \n",
              "  <svg xmlns=\"http://www.w3.org/2000/svg\" height=\"24px\"viewBox=\"0 0 24 24\"\n",
              "       width=\"24px\">\n",
              "    <path d=\"M0 0h24v24H0V0z\" fill=\"none\"/>\n",
              "    <path d=\"M18.56 5.44l.94 2.06.94-2.06 2.06-.94-2.06-.94-.94-2.06-.94 2.06-2.06.94zm-11 1L8.5 8.5l.94-2.06 2.06-.94-2.06-.94L8.5 2.5l-.94 2.06-2.06.94zm10 10l.94 2.06.94-2.06 2.06-.94-2.06-.94-.94-2.06-.94 2.06-2.06.94z\"/><path d=\"M17.41 7.96l-1.37-1.37c-.4-.4-.92-.59-1.43-.59-.52 0-1.04.2-1.43.59L10.3 9.45l-7.72 7.72c-.78.78-.78 2.05 0 2.83L4 21.41c.39.39.9.59 1.41.59.51 0 1.02-.2 1.41-.59l7.78-7.78 2.81-2.81c.8-.78.8-2.07 0-2.86zM5.41 20L4 18.59l7.72-7.72 1.47 1.35L5.41 20z\"/>\n",
              "  </svg>\n",
              "      </button>\n",
              "      \n",
              "  <style>\n",
              "    .colab-df-container {\n",
              "      display:flex;\n",
              "      flex-wrap:wrap;\n",
              "      gap: 12px;\n",
              "    }\n",
              "\n",
              "    .colab-df-convert {\n",
              "      background-color: #E8F0FE;\n",
              "      border: none;\n",
              "      border-radius: 50%;\n",
              "      cursor: pointer;\n",
              "      display: none;\n",
              "      fill: #1967D2;\n",
              "      height: 32px;\n",
              "      padding: 0 0 0 0;\n",
              "      width: 32px;\n",
              "    }\n",
              "\n",
              "    .colab-df-convert:hover {\n",
              "      background-color: #E2EBFA;\n",
              "      box-shadow: 0px 1px 2px rgba(60, 64, 67, 0.3), 0px 1px 3px 1px rgba(60, 64, 67, 0.15);\n",
              "      fill: #174EA6;\n",
              "    }\n",
              "\n",
              "    [theme=dark] .colab-df-convert {\n",
              "      background-color: #3B4455;\n",
              "      fill: #D2E3FC;\n",
              "    }\n",
              "\n",
              "    [theme=dark] .colab-df-convert:hover {\n",
              "      background-color: #434B5C;\n",
              "      box-shadow: 0px 1px 3px 1px rgba(0, 0, 0, 0.15);\n",
              "      filter: drop-shadow(0px 1px 2px rgba(0, 0, 0, 0.3));\n",
              "      fill: #FFFFFF;\n",
              "    }\n",
              "  </style>\n",
              "\n",
              "      <script>\n",
              "        const buttonEl =\n",
              "          document.querySelector('#df-bf9e5d62-3cf1-4c3d-8bf8-53053fe8b522 button.colab-df-convert');\n",
              "        buttonEl.style.display =\n",
              "          google.colab.kernel.accessAllowed ? 'block' : 'none';\n",
              "\n",
              "        async function convertToInteractive(key) {\n",
              "          const element = document.querySelector('#df-bf9e5d62-3cf1-4c3d-8bf8-53053fe8b522');\n",
              "          const dataTable =\n",
              "            await google.colab.kernel.invokeFunction('convertToInteractive',\n",
              "                                                     [key], {});\n",
              "          if (!dataTable) return;\n",
              "\n",
              "          const docLinkHtml = 'Like what you see? Visit the ' +\n",
              "            '<a target=\"_blank\" href=https://colab.research.google.com/notebooks/data_table.ipynb>data table notebook</a>'\n",
              "            + ' to learn more about interactive tables.';\n",
              "          element.innerHTML = '';\n",
              "          dataTable['output_type'] = 'display_data';\n",
              "          await google.colab.output.renderOutput(dataTable, element);\n",
              "          const docLink = document.createElement('div');\n",
              "          docLink.innerHTML = docLinkHtml;\n",
              "          element.appendChild(docLink);\n",
              "        }\n",
              "      </script>\n",
              "    </div>\n",
              "  </div>\n",
              "  "
            ]
          },
          "metadata": {},
          "execution_count": 7
        }
      ]
    },
    {
      "cell_type": "code",
      "source": [
        "df[0].value_counts()"
      ],
      "metadata": {
        "colab": {
          "base_uri": "https://localhost:8080/"
        },
        "id": "7PBVFVkQ1IeS",
        "outputId": "40531401-6b50-46ae-a00d-b5234d5d4929"
      },
      "execution_count": 8,
      "outputs": [
        {
          "output_type": "execute_result",
          "data": {
            "text/plain": [
              "1    62710\n",
              "0    42282\n",
              "2    30000\n",
              "3    13616\n",
              "4     1335\n",
              "5       48\n",
              "6        1\n",
              "Name: 0, dtype: int64"
            ]
          },
          "metadata": {},
          "execution_count": 8
        }
      ]
    },
    {
      "cell_type": "code",
      "source": [
        "df_3 = df.loc[df[0] == 3].sample(n=1335, random_state=1)\n",
        "df_4 = df.loc[df[0] == 4]\n",
        "df_3_4 = pd.concat([df_3, df_4])\n",
        "\n",
        "df_1 = df.loc[df[0] == 1].sample(n=42282, random_state=1)\n",
        "df_0 = df.loc[df[0] == 0]\n",
        "df_0_1 = pd.concat([df_0, df_1])\n",
        "\n",
        "df_sub = df_3_4\n",
        "df_sub[0].value_counts()"
      ],
      "metadata": {
        "colab": {
          "base_uri": "https://localhost:8080/"
        },
        "id": "xmKu7kyNzR_Z",
        "outputId": "0109c7f6-5bb2-428f-95a6-5bacdfa4e643"
      },
      "execution_count": 9,
      "outputs": [
        {
          "output_type": "execute_result",
          "data": {
            "text/plain": [
              "3    1335\n",
              "4    1335\n",
              "Name: 0, dtype: int64"
            ]
          },
          "metadata": {},
          "execution_count": 9
        }
      ]
    },
    {
      "cell_type": "code",
      "source": [
        "#converts a 2d integer matrix into a 1d bool matrix\n",
        "def binary_mask_2d(ap_values):\n",
        "    diffs = np.abs(ap_values[:, 1:] - ap_values[:, :-1])\n",
        "    sums = np.sum(diffs, axis=1)\n",
        "\n",
        "    median_sum = np.median(sums)\n",
        "    std_sum = np.std(sums)\n",
        "\n",
        "    binary_mask = np.zeros((len(ap_values),))\n",
        "    for i in range(len(ap_values)):\n",
        "        if sums[i] > median_sum + std_sum:\n",
        "            binary_mask[i] = 1\n",
        "    return binary_mask"
      ],
      "metadata": {
        "id": "YofM1GjyzTP5"
      },
      "execution_count": null,
      "outputs": []
    },
    {
      "cell_type": "code",
      "source": [
        "ap_cols = range(2, 10)\n",
        "ap_col_mat = df_sub[ap_cols].to_numpy()\n",
        "\n",
        "X = df_sub[ap_cols].values\n",
        "#X = np.sign(ap_col_mat)\n",
        "\n",
        "y = df_sub[0]\n",
        "#y = df_sub[0].astype('category').cat.codes.values\n",
        "\n",
        "print(X.shape)\n",
        "print(y.shape)"
      ],
      "metadata": {
        "colab": {
          "base_uri": "https://localhost:8080/"
        },
        "id": "DTamE44P287t",
        "outputId": "92f10a1b-2f58-4c2d-b8bc-cc80d5257881"
      },
      "execution_count": 52,
      "outputs": [
        {
          "output_type": "stream",
          "name": "stdout",
          "text": [
            "(2670, 8)\n",
            "(2670,)\n"
          ]
        }
      ]
    },
    {
      "cell_type": "code",
      "source": [
        "from sklearn.model_selection import train_test_split\n",
        "from sklearn.metrics import mean_squared_error, r2_score, accuracy_score, f1_score"
      ],
      "metadata": {
        "id": "V5dvUSRIyyBD"
      },
      "execution_count": 53,
      "outputs": []
    },
    {
      "cell_type": "code",
      "source": [
        "x_var_2d = df_sub.loc[:, ap_cols]\n",
        "y_var = df_sub.loc[:, 0]\n",
        "X_train, X_test, y_train, y_test = train_test_split(X, y, test_size = 0.7, random_state = 10)"
      ],
      "metadata": {
        "id": "XReznu6C6Qeh"
      },
      "execution_count": 58,
      "outputs": []
    },
    {
      "cell_type": "code",
      "source": [
        "print(y_train)"
      ],
      "metadata": {
        "colab": {
          "base_uri": "https://localhost:8080/"
        },
        "id": "MC2tNcCXF4wt",
        "outputId": "09ba45a4-1ff3-4142-ec11-b87dc85ea564"
      },
      "execution_count": 59,
      "outputs": [
        {
          "output_type": "stream",
          "name": "stdout",
          "text": [
            "137999    3\n",
            "144826    3\n",
            "146372    4\n",
            "136461    4\n",
            "140735    4\n",
            "         ..\n",
            "142591    4\n",
            "138994    3\n",
            "135083    4\n",
            "145872    3\n",
            "139465    3\n",
            "Name: 0, Length: 801, dtype: int64\n"
          ]
        }
      ]
    },
    {
      "cell_type": "code",
      "source": [
        "import lightgbm as lgb\n",
        "\n",
        "clf = lgb.LGBMClassifier()\n",
        "clf.fit(X_train, y_train)\n",
        "y_pred=clf.predict(X_test)"
      ],
      "metadata": {
        "id": "ckw3Dkoty6Hb"
      },
      "execution_count": 60,
      "outputs": []
    },
    {
      "cell_type": "code",
      "source": [
        "print(\"RMSE: {:.4f}\".format(np.sqrt(mean_squared_error(y_test, y_pred))))\n",
        "print(\"R^2 Score: {:.4f}\".format(r2_score(y_test, y_pred)))\n",
        "print(\"ACC Score: {:.4f}\".format(accuracy_score(y_test, y_pred)))"
      ],
      "metadata": {
        "colab": {
          "base_uri": "https://localhost:8080/"
        },
        "id": "IdWruwzyAZHN",
        "outputId": "ba8138c6-8345-47c6-95bb-54ccac398e1a"
      },
      "execution_count": 61,
      "outputs": [
        {
          "output_type": "stream",
          "name": "stdout",
          "text": [
            "RMSE: 0.0000\n",
            "R^2 Score: 1.0000\n",
            "ACC Score: 1.0000\n"
          ]
        }
      ]
    },
    {
      "cell_type": "code",
      "source": [
        "from keras.callbacks import EarlyStopping\n",
        "from keras.models import Sequential\n",
        "from tensorflow.keras.layers import Dense, Dropout, Conv1D, MaxPooling1D, Flatten"
      ],
      "metadata": {
        "id": "PFRRgw-FHaEO"
      },
      "execution_count": 64,
      "outputs": []
    },
    {
      "cell_type": "code",
      "source": [
        "X_train, X_test, y_train, y_test = train_test_split(x_var_2d, y_var, test_size=0.2, random_state=1)\n",
        "X_train, X_val, y_train, y_val = train_test_split(X_train, y_train, test_size=0.25, random_state=1) # 0.25 x 0.8 = 0.2"
      ],
      "metadata": {
        "id": "AgNn3fkMeCcR"
      },
      "execution_count": 62,
      "outputs": []
    },
    {
      "cell_type": "code",
      "source": [
        "callback = EarlyStopping(monitor='val_loss', patience=20, restore_best_weights=True)\n",
        "input_dim = X_train.shape[1]\n",
        "dropout = 0.2\n",
        "classifier = Sequential()\n",
        "classifier.add(Dropout(dropout, input_shape=(input_dim,)))\n",
        "classifier.add(Dense(units = round(.8*input_dim), activation = 'relu', input_dim = input_dim))\n",
        "classifier.add(Dropout(.8*dropout))\n",
        "classifier.add(Dense(units = 1,  activation = 'sigmoid'))\n",
        "classifier.compile(optimizer = 'Adamax', loss = 'binary_crossentropy', metrics = ['binary_accuracy'])\n",
        "progress = classifier.fit(X_train, y_train, batch_size = 32, epochs = 60, callbacks = [callback], validation_data=(X_val, y_val), verbose=0)\n",
        "results = classifier.evaluate(X_test, y_test, batch_size=16)"
      ],
      "metadata": {
        "colab": {
          "base_uri": "https://localhost:8080/"
        },
        "id": "C_aJSeRnHPCW",
        "outputId": "5826b45e-dcac-4b3b-f2f7-c7533748845d"
      },
      "execution_count": 65,
      "outputs": [
        {
          "output_type": "stream",
          "name": "stdout",
          "text": [
            "34/34 [==============================] - 0s 2ms/step - loss: -261.1505 - binary_accuracy: 0.0000e+00\n"
          ]
        }
      ]
    },
    {
      "cell_type": "code",
      "source": [
        "!pip install sympy"
      ],
      "metadata": {
        "id": "BGN4n-xIxJ4Q"
      },
      "execution_count": null,
      "outputs": []
    },
    {
      "cell_type": "code",
      "source": [
        "from sympy import primepi\n",
        "\n",
        "def get_r_sequence(N:int):\n",
        "  pi_N = primepi(N)\n",
        "  res = [None]*pi_N\n",
        "\n",
        "  for i in range(1,pi_N+1):\n",
        "    res[i-1] = -1 + i*2/pi_N\n",
        "  return res\n",
        "\n",
        "print(len(get_r_sequence(10**2)))\n",
        "print(get_r_sequence(10**2))"
      ],
      "metadata": {
        "id": "48xXwNEB73vZ"
      },
      "execution_count": null,
      "outputs": []
    }
  ]
}