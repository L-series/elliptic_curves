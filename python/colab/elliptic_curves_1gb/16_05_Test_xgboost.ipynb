{
  "nbformat": 4,
  "nbformat_minor": 0,
  "metadata": {
    "colab": {
      "provenance": []
    },
    "kernelspec": {
      "name": "python3",
      "display_name": "Python 3"
    },
    "language_info": {
      "name": "python"
    }
  },
  "cells": [
    {
      "cell_type": "code",
      "execution_count": null,
      "metadata": {
        "colab": {
          "base_uri": "https://localhost:8080/"
        },
        "id": "WaSYFtiPpuhl",
        "outputId": "6e548cb9-614f-4360-e29b-6a6ba6bd0b8e"
      },
      "outputs": [
        {
          "output_type": "stream",
          "name": "stdout",
          "text": [
            "Looking in indexes: https://pypi.org/simple, https://us-python.pkg.dev/colab-wheels/public/simple/\n",
            "Requirement already satisfied: kaggle in /usr/local/lib/python3.10/dist-packages (1.5.13)\n",
            "Requirement already satisfied: six>=1.10 in /usr/local/lib/python3.10/dist-packages (from kaggle) (1.16.0)\n",
            "Requirement already satisfied: certifi in /usr/local/lib/python3.10/dist-packages (from kaggle) (2022.12.7)\n",
            "Requirement already satisfied: python-dateutil in /usr/local/lib/python3.10/dist-packages (from kaggle) (2.8.2)\n",
            "Requirement already satisfied: requests in /usr/local/lib/python3.10/dist-packages (from kaggle) (2.27.1)\n",
            "Requirement already satisfied: tqdm in /usr/local/lib/python3.10/dist-packages (from kaggle) (4.65.0)\n",
            "Requirement already satisfied: python-slugify in /usr/local/lib/python3.10/dist-packages (from kaggle) (8.0.1)\n",
            "Requirement already satisfied: urllib3 in /usr/local/lib/python3.10/dist-packages (from kaggle) (1.26.15)\n",
            "Requirement already satisfied: text-unidecode>=1.3 in /usr/local/lib/python3.10/dist-packages (from python-slugify->kaggle) (1.3)\n",
            "Requirement already satisfied: charset-normalizer~=2.0.0 in /usr/local/lib/python3.10/dist-packages (from requests->kaggle) (2.0.12)\n",
            "Requirement already satisfied: idna<4,>=2.5 in /usr/local/lib/python3.10/dist-packages (from requests->kaggle) (3.4)\n"
          ]
        }
      ],
      "source": [
        "! pip install kaggle\n"
      ]
    },
    {
      "cell_type": "code",
      "source": [
        "from google.colab import drive\n",
        "drive.mount('/content/drive')\n",
        "\n",
        "! cp /content/drive/MyDrive/kaggle.json ~/\n",
        "! mkdir ~/.kaggle\n",
        "! mv ~/kaggle.json ~/.kaggle/kaggle.json\n",
        "! chmod 600 ~/.kaggle/kaggle.json"
      ],
      "metadata": {
        "colab": {
          "base_uri": "https://localhost:8080/"
        },
        "id": "F9KjaRBmryGm",
        "outputId": "3af54874-26fb-401f-a4d3-ee68a66112d2"
      },
      "execution_count": null,
      "outputs": [
        {
          "output_type": "stream",
          "name": "stdout",
          "text": [
            "Mounted at /content/drive\n"
          ]
        }
      ]
    },
    {
      "cell_type": "code",
      "source": [
        "! kaggle datasets download -d eldarsultanow/ml-bsd-dataset-integers"
      ],
      "metadata": {
        "colab": {
          "base_uri": "https://localhost:8080/"
        },
        "id": "0SEcUv8msA1n",
        "outputId": "caefbf00-8e82-4a19-d4f4-1190c5e61362"
      },
      "execution_count": null,
      "outputs": [
        {
          "output_type": "stream",
          "name": "stdout",
          "text": [
            "Downloading ml-bsd-dataset-integers.zip to /content\n",
            " 97% 265M/274M [00:02<00:00, 100MB/s]\n",
            "100% 274M/274M [00:03<00:00, 95.1MB/s]\n"
          ]
        }
      ]
    },
    {
      "cell_type": "code",
      "source": [
        "! unzip ml-bsd-dataset-integers.zip"
      ],
      "metadata": {
        "colab": {
          "base_uri": "https://localhost:8080/"
        },
        "id": "P7jKmMfDs_NJ",
        "outputId": "ee069f69-51e8-4d82-98fe-da335667064e"
      },
      "execution_count": null,
      "outputs": [
        {
          "output_type": "stream",
          "name": "stdout",
          "text": [
            "Archive:  ml-bsd-dataset-integers.zip\n",
            "  inflating: rank-vs-ap-integers.csv  \n"
          ]
        }
      ]
    },
    {
      "cell_type": "code",
      "source": [
        "import pandas as pd\n",
        "import numpy as np\n",
        "import sympy\n",
        "from scipy.interpolate import interp1d\n",
        "from sklearn.cluster import KMeans\n",
        "from sklearn.model_selection import GridSearchCV, train_test_split\n",
        "from sklearn.metrics import mean_squared_error\n",
        "from keras.models import Sequential\n",
        "from sklearn.preprocessing import StandardScaler\n",
        "from tensorflow.keras.models import Sequential\n",
        "from tensorflow.keras.layers import Dense, Dropout, Conv1D, MaxPooling1D, Flatten\n",
        "from sklearn.ensemble import RandomForestClassifier, GradientBoostingClassifier\n",
        "from tensorflow.keras.wrappers.scikit_learn import KerasRegressor\n",
        "from sklearn.ensemble import GradientBoostingRegressor\n",
        "from keras.optimizers import SGD\n",
        "from keras.callbacks import EarlyStopping\n",
        "from sympy import prime, isprime, primerange\n",
        "import random\n",
        "import math\n",
        "from sklearn.metrics import mean_absolute_error\n",
        "from sklearn.metrics import mean_squared_error, r2_score, accuracy_score, f1_score\n"
      ],
      "metadata": {
        "id": "1O1efPtEtCjI"
      },
      "execution_count": null,
      "outputs": []
    },
    {
      "cell_type": "code",
      "source": [
        "df = pd.read_csv(\"rank-vs-ap-integers.csv\", index_col=False, header=None)\n"
      ],
      "metadata": {
        "id": "Hw2NlhfWyNOU"
      },
      "execution_count": null,
      "outputs": []
    },
    {
      "cell_type": "code",
      "source": [
        "new_columns = ['rank', 'con', 'root'] + [f'ap_{i}' for i in range(1, 1230)]\n",
        "\n",
        "df.columns = new_columns"
      ],
      "metadata": {
        "id": "VkWSwoS2yORs"
      },
      "execution_count": null,
      "outputs": []
    },
    {
      "cell_type": "code",
      "source": [
        "df_2 = df.loc[df['rank'] == 2].sample(n=13616, random_state=1)\n",
        "df_3 = df.loc[df['rank'] == 3]\n",
        "df_3_2 = pd.concat([df_3, df_2])\n",
        "df_1 = df.loc[df['rank'] == 1].sample(n=42290, random_state=1)\n",
        "df_0 = df.loc[df['rank'] == 0]\n",
        "df_0_1 = pd.concat([df_1, df_0])\n",
        "\n",
        "df_sub = pd.concat([df_0_1, df_3_2])\n",
        "df_sub['rank'].value_counts()"
      ],
      "metadata": {
        "colab": {
          "base_uri": "https://localhost:8080/"
        },
        "id": "RW74TGRPyQz8",
        "outputId": "22e6f6d4-f18b-4846-cd1d-42c073dba73a"
      },
      "execution_count": null,
      "outputs": [
        {
          "output_type": "execute_result",
          "data": {
            "text/plain": [
              "1    42290\n",
              "0    42290\n",
              "3    13616\n",
              "2    13616\n",
              "Name: rank, dtype: int64"
            ]
          },
          "metadata": {},
          "execution_count": 4
        }
      ]
    },
    {
      "cell_type": "code",
      "source": [
        "df_sub = df_sub[~df_sub['rank'].isin([4,5,6])]"
      ],
      "metadata": {
        "id": "-mAPk71KyTjd"
      },
      "execution_count": null,
      "outputs": []
    },
    {
      "cell_type": "code",
      "source": [
        "feature_col = [col for col in df.columns if col.startswith('ap_')]\n",
        "X = df_sub[ feature_col]\n",
        "y = df_sub['rank']"
      ],
      "metadata": {
        "id": "gbDhsfbHyewl"
      },
      "execution_count": null,
      "outputs": []
    },
    {
      "cell_type": "code",
      "source": [
        "print(X)"
      ],
      "metadata": {
        "colab": {
          "base_uri": "https://localhost:8080/"
        },
        "id": "qs3RHzch8Gdp",
        "outputId": "46ed217e-48cc-49fb-c573-6e4dc40ed9d6"
      },
      "execution_count": null,
      "outputs": [
        {
          "output_type": "stream",
          "name": "stdout",
          "text": [
            "        ap_1  ap_2  ap_3  ap_4  ap_5  ap_6  ap_7  ap_8  ap_9  ap_10  ...  \\\n",
            "76492     -1     1     0     4    -4     5    -2     2    -8     -6  ...   \n",
            "62660     -1     0     0     2     6     2    -1     4     3     -6  ...   \n",
            "26131      0     0     4     1     0     3     2     0     7      5  ...   \n",
            "74087     -1    -2     2     2     4     3     0     5     8      0  ...   \n",
            "8084       2     1     2    -1     4    -6     5     4    -8      3  ...   \n",
            "...      ...   ...   ...   ...   ...   ...   ...   ...   ...    ...  ...   \n",
            "117731    -1     2     1     4    -2     5     0    -3     2      9  ...   \n",
            "133602    -1     1    -1    -4     4     4     4    -3    -3      4  ...   \n",
            "126113    -1    -1    -1    -4    -4    -2    -2     2     8      3  ...   \n",
            "113982    -1     2     0     1    -4     5    -6     4     1     -5  ...   \n",
            "120408    -2     0     2     0     3     2     5    -8    -1      6  ...   \n",
            "\n",
            "        ap_1220  ap_1221  ap_1222  ap_1223  ap_1224  ap_1225  ap_1226  \\\n",
            "76492        52       85      -38       43      -66     -118       24   \n",
            "62660       114      -98      -28      146      -84       14     -170   \n",
            "26131       -34      150     -107      -17      102      -34       20   \n",
            "74087       -44       27     -118      138        7       80       13   \n",
            "8084         80      103      -30        4       15       14       90   \n",
            "...         ...      ...      ...      ...      ...      ...      ...   \n",
            "117731       42     -131     -148      -99      -14      149      -12   \n",
            "133602      -68       35      106      -50      145     -132        7   \n",
            "126113     -192       69      116      -96       87      -79     -174   \n",
            "113982       40      -47       28      132      -51      130       54   \n",
            "120408     -150       -8      -98        7      -54        6      -66   \n",
            "\n",
            "        ap_1227  ap_1228  ap_1229  \n",
            "76492        61       92       63  \n",
            "62660       -64       40      -89  \n",
            "26131      -146      -67      -28  \n",
            "74087       -94      141      -82  \n",
            "8084         52       60        8  \n",
            "...         ...      ...      ...  \n",
            "117731      164       95      152  \n",
            "133602       22      140     -108  \n",
            "126113     -102       20       -4  \n",
            "113982      -86       93       73  \n",
            "120408      -50      -84      116  \n",
            "\n",
            "[111812 rows x 1229 columns]\n"
          ]
        }
      ]
    },
    {
      "cell_type": "code",
      "source": [
        "top_features = ['ap_4', 'ap_3', 'ap_5', 'ap_6', 'ap_7', 'ap_8', 'ap_9', 'ap_10', 'ap_11', 'ap_12', 'ap_13', 'ap_14', 'ap_16', 'ap_15', 'ap_17', 'ap_18', 'ap_20', 'ap_19', 'ap_21', 'ap_23', 'ap_22', 'ap_24', 'ap_26', 'ap_29', 'ap_27', 'ap_28', 'ap_30', 'ap_25', 'ap_31', 'ap_32', 'ap_33', 'ap_36', 'ap_37', 'ap_43', 'ap_34', 'ap_35', 'ap_38', 'ap_40', 'ap_39', 'ap_44', 'ap_47', 'ap_42', 'ap_49', 'ap_46', 'ap_45', 'ap_48', 'ap_52', 'ap_53', 'ap_61', 'ap_62']\n"
      ],
      "metadata": {
        "id": "2Yw5XxgA9FtG"
      },
      "execution_count": null,
      "outputs": []
    },
    {
      "cell_type": "code",
      "source": [
        "from sympy import primepi\n",
        "\n",
        "def get_r_sequence(N:int):\n",
        "  pi_N = primepi(N)\n",
        "  res = [None]*pi_N\n",
        "\n",
        "  for i in range(1,pi_N+1):\n",
        "    res[i-1] = -1 + i*2/pi_N\n",
        "  return res\n",
        "\n",
        "print(len(get_r_sequence(2000)))\n",
        "print(get_r_sequence(2000))"
      ],
      "metadata": {
        "colab": {
          "base_uri": "https://localhost:8080/"
        },
        "id": "ouWDWbunREpC",
        "outputId": "5e91af06-4847-4f22-b5b4-3e12dc415fd3"
      },
      "execution_count": null,
      "outputs": [
        {
          "output_type": "stream",
          "name": "stdout",
          "text": [
            "303\n",
            "[-301/303, -299/303, -99/101, -295/303, -293/303, -97/101, -289/303, -287/303, -95/101, -283/303, -281/303, -93/101, -277/303, -275/303, -91/101, -271/303, -269/303, -89/101, -265/303, -263/303, -87/101, -259/303, -257/303, -85/101, -253/303, -251/303, -83/101, -247/303, -245/303, -81/101, -241/303, -239/303, -79/101, -235/303, -233/303, -77/101, -229/303, -227/303, -75/101, -223/303, -221/303, -73/101, -217/303, -215/303, -71/101, -211/303, -209/303, -69/101, -205/303, -203/303, -67/101, -199/303, -197/303, -65/101, -193/303, -191/303, -63/101, -187/303, -185/303, -61/101, -181/303, -179/303, -59/101, -175/303, -173/303, -57/101, -169/303, -167/303, -55/101, -163/303, -161/303, -53/101, -157/303, -155/303, -51/101, -151/303, -149/303, -49/101, -145/303, -143/303, -47/101, -139/303, -137/303, -45/101, -133/303, -131/303, -43/101, -127/303, -125/303, -41/101, -121/303, -119/303, -39/101, -115/303, -113/303, -37/101, -109/303, -107/303, -35/101, -103/303, -1/3, -33/101, -97/303, -95/303, -31/101, -91/303, -89/303, -29/101, -85/303, -83/303, -27/101, -79/303, -77/303, -25/101, -73/303, -71/303, -23/101, -67/303, -65/303, -21/101, -61/303, -59/303, -19/101, -55/303, -53/303, -17/101, -49/303, -47/303, -15/101, -43/303, -41/303, -13/101, -37/303, -35/303, -11/101, -31/303, -29/303, -9/101, -25/303, -23/303, -7/101, -19/303, -17/303, -5/101, -13/303, -11/303, -3/101, -7/303, -5/303, -1/101, -1/303, 1/303, 1/101, 5/303, 7/303, 3/101, 11/303, 13/303, 5/101, 17/303, 19/303, 7/101, 23/303, 25/303, 9/101, 29/303, 31/303, 11/101, 35/303, 37/303, 13/101, 41/303, 43/303, 15/101, 47/303, 49/303, 17/101, 53/303, 55/303, 19/101, 59/303, 61/303, 21/101, 65/303, 67/303, 23/101, 71/303, 73/303, 25/101, 77/303, 79/303, 27/101, 83/303, 85/303, 29/101, 89/303, 91/303, 31/101, 95/303, 97/303, 33/101, 1/3, 103/303, 35/101, 107/303, 109/303, 37/101, 113/303, 115/303, 39/101, 119/303, 121/303, 41/101, 125/303, 127/303, 43/101, 131/303, 133/303, 45/101, 137/303, 139/303, 47/101, 143/303, 145/303, 49/101, 149/303, 151/303, 51/101, 155/303, 157/303, 53/101, 161/303, 163/303, 55/101, 167/303, 169/303, 57/101, 173/303, 175/303, 59/101, 179/303, 181/303, 61/101, 185/303, 187/303, 63/101, 191/303, 193/303, 65/101, 197/303, 199/303, 67/101, 203/303, 205/303, 69/101, 209/303, 211/303, 71/101, 215/303, 217/303, 73/101, 221/303, 223/303, 75/101, 227/303, 229/303, 77/101, 233/303, 235/303, 79/101, 239/303, 241/303, 81/101, 245/303, 247/303, 83/101, 251/303, 253/303, 85/101, 257/303, 259/303, 87/101, 263/303, 265/303, 89/101, 269/303, 271/303, 91/101, 275/303, 277/303, 93/101, 281/303, 283/303, 95/101, 287/303, 289/303, 97/101, 293/303, 295/303, 99/101, 299/303, 301/303, 1]\n"
          ]
        }
      ]
    },
    {
      "cell_type": "code",
      "source": [
        "primes = [-301/303, -299/303, -99/101, -295/303, -293/303, -97/101, -289/303, -287/303, -95/101, -283/303, -281/303, -93/101, -277/303, -275/303, -91/101, -271/303, -269/303, -89/101, -265/303, -263/303, -87/101, -259/303, -257/303, -85/101, -253/303, -251/303, -83/101, -247/303, -245/303, -81/101, -241/303, -239/303, -79/101, -235/303, -233/303, -77/101, -229/303, -227/303, -75/101, -223/303, -221/303, -73/101, -217/303, -215/303, -71/101, -211/303, -209/303, -69/101, -205/303, -203/303, -67/101, -199/303, -197/303, -65/101, -193/303, -191/303, -63/101, -187/303, -185/303, -61/101, -181/303, -179/303, -59/101, -175/303, -173/303, -57/101, -169/303, -167/303, -55/101, -163/303, -161/303, -53/101, -157/303, -155/303, -51/101, -151/303, -149/303, -49/101, -145/303, -143/303, -47/101, -139/303, -137/303, -45/101, -133/303, -131/303, -43/101, -127/303, -125/303, -41/101, -121/303, -119/303, -39/101, -115/303, -113/303, -37/101, -109/303, -107/303, -35/101, -103/303, -1/3, -33/101, -97/303, -95/303, -31/101, -91/303, -89/303, -29/101, -85/303, -83/303, -27/101, -79/303, -77/303, -25/101, -73/303, -71/303, -23/101, -67/303, -65/303, -21/101, -61/303, -59/303, -19/101, -55/303, -53/303, -17/101, -49/303, -47/303, -15/101, -43/303, -41/303, -13/101, -37/303, -35/303, -11/101, -31/303, -29/303, -9/101, -25/303, -23/303, -7/101, -19/303, -17/303, -5/101, -13/303, -11/303, -3/101, -7/303, -5/303, -1/101, -1/303, 1/303, 1/101, 5/303, 7/303, 3/101, 11/303, 13/303, 5/101, 17/303, 19/303, 7/101, 23/303, 25/303, 9/101, 29/303, 31/303, 11/101, 35/303, 37/303, 13/101, 41/303, 43/303, 15/101, 47/303, 49/303, 17/101, 53/303, 55/303, 19/101, 59/303, 61/303, 21/101, 65/303, 67/303, 23/101, 71/303, 73/303, 25/101, 77/303, 79/303, 27/101, 83/303, 85/303, 29/101, 89/303, 91/303, 31/101, 95/303, 97/303, 33/101, 1/3, 103/303, 35/101, 107/303, 109/303, 37/101, 113/303, 115/303, 39/101, 119/303, 121/303, 41/101, 125/303, 127/303, 43/101, 131/303, 133/303, 45/101, 137/303, 139/303, 47/101, 143/303, 145/303, 49/101, 149/303, 151/303, 51/101, 155/303, 157/303, 53/101, 161/303, 163/303, 55/101, 167/303, 169/303, 57/101, 173/303, 175/303, 59/101, 179/303, 181/303, 61/101, 185/303, 187/303, 63/101, 191/303, 193/303, 65/101, 197/303, 199/303, 67/101, 203/303, 205/303, 69/101, 209/303, 211/303, 71/101, 215/303, 217/303, 73/101, 221/303, 223/303, 75/101, 227/303, 229/303, 77/101, 233/303, 235/303, 79/101, 239/303, 241/303, 81/101, 245/303, 247/303, 83/101, 251/303, 253/303, 85/101, 257/303, 259/303, 87/101, 263/303, 265/303, 89/101, 269/303, 271/303, 91/101, 275/303, 277/303, 93/101, 281/303, 283/303, 95/101, 287/303, 289/303, 97/101, 293/303, 295/303, 99/101, 299/303, 301/303, 1]\n"
      ],
      "metadata": {
        "id": "X6n2hiW8SqTB"
      },
      "execution_count": null,
      "outputs": []
    },
    {
      "cell_type": "code",
      "source": [
        "abs_prime = [abs(prime) for prime in primes]"
      ],
      "metadata": {
        "id": "VxUXX47BStxh"
      },
      "execution_count": null,
      "outputs": []
    },
    {
      "cell_type": "code",
      "source": [
        "ap_cols = [col for col in df_sub.columns if col.startswith(\"ap_\")]\n",
        "df_sub[ap_cols] = df_sub[ap_cols].replace(0, np.nan)\n",
        "df_sub[ap_cols] = df_sub[ap_cols].fillna(df_sub[ap_cols].mean())"
      ],
      "metadata": {
        "id": "X4Ca84h6Sv0I"
      },
      "execution_count": null,
      "outputs": []
    },
    {
      "cell_type": "code",
      "source": [
        "for i in range(len(abs_prime)):\n",
        "    ap_col = f\"ap_{i+1}\"\n",
        "    df_sub[ap_col].dropna(inplace=True)\n",
        "    if (df_sub[ap_col] == 0).any():\n",
        "        df_sub[ap_col].replace(0, df_sub[ap_col].mean(), inplace=True)\n",
        "    df_sub[ap_col] = df_sub[ap_col].apply(lambda x, p=abs_prime[i]: x / math.sqrt(p))\n"
      ],
      "metadata": {
        "id": "Qe_m5qVOS1Qs"
      },
      "execution_count": null,
      "outputs": []
    },
    {
      "cell_type": "code",
      "source": [
        "print(X)"
      ],
      "metadata": {
        "colab": {
          "base_uri": "https://localhost:8080/"
        },
        "id": "IMZeoT9CWPVv",
        "outputId": "3a2a3364-04e6-4c6e-fa78-311621617bd7"
      },
      "execution_count": null,
      "outputs": [
        {
          "output_type": "stream",
          "name": "stdout",
          "text": [
            "        root      ap_4      ap_3      ap_5      ap_6      ap_7      ap_8  \\\n",
            "76492     -1  4.053874 -0.063887 -4.067687  5.102051 -2.047870  2.054993   \n",
            "62660     -1  2.026937 -0.063887  6.101530  2.040821 -1.023935  4.109986   \n",
            "26131     -1  1.013469  4.040202 -0.071751  3.061231  2.047870 -0.089960   \n",
            "74087     -1  2.026937  2.020101  4.067687  3.061231 -0.078319  5.137483   \n",
            "8084      -1 -1.013469  2.020101  4.067687 -6.122462  5.119675  4.109986   \n",
            "...      ...       ...       ...       ...       ...       ...       ...   \n",
            "117731     1  4.053874  1.010051 -2.033843  5.102051 -0.078319 -3.082490   \n",
            "133602     1 -4.053874 -1.010051  4.067687  4.081641  4.095740 -3.082490   \n",
            "126113     1 -4.053874 -1.010051 -4.067687 -2.040821 -2.047870  2.054993   \n",
            "113982     1  1.013469 -0.063887 -4.067687  5.102051 -6.143610  4.109986   \n",
            "120408     1 -0.069235  2.020101  3.050765  2.040821  5.119675 -8.219972   \n",
            "\n",
            "            ap_9     ap_10     ap_11  ...      ap_47      ap_42      ap_49  \\\n",
            "76492  -8.248764 -6.208395 -5.192042  ...  18.060902  14.114988 -21.883505   \n",
            "62660   3.093286 -6.208395  5.192042  ...  -0.038166  -8.233743  17.020504   \n",
            "26131   7.217668  5.173663  2.076817  ... -26.489323  14.114988  15.804754   \n",
            "74087   8.248764 -0.110052 -8.307266  ...   4.816240  27.053726  24.315006   \n",
            "8084   -8.248764  3.104198 -2.076817  ...  28.897443  12.938739   3.647251   \n",
            "...          ...       ...       ...  ...        ...        ...        ...   \n",
            "117731  2.062191  9.312593  4.153633  ...  15.652782  -9.409992  -3.647251   \n",
            "133602 -3.093286  4.138930  1.038408  ...   4.816240  -3.528747  -4.863001   \n",
            "126113  8.248764  3.104198 -5.192042  ...  15.652782   7.057494  -3.647251   \n",
            "113982  1.031095 -5.173663  4.153633  ...   7.224361  -9.409992  26.746506   \n",
            "120408 -1.031095  6.208395 -2.076817  ...  -4.816240   2.352498   4.863001   \n",
            "\n",
            "            ap_46      ap_45      ap_48      ap_52      ap_53      ap_61  \\\n",
            "76492  -20.371781 -13.119709   6.049314 -18.509131  34.725318  -7.763066   \n",
            "62660   19.173441  17.890512  -1.209863  -0.098389 -17.362659 -10.350755   \n",
            "26131  -25.165142  -0.080058  -2.419726 -29.614610  -0.134774 -16.819976   \n",
            "74087   19.173441   8.348906  -9.678903  -0.098389  -6.200950 -36.227641   \n",
            "8084    19.173441 -17.890512   7.259177   1.233942 -22.323419 -20.701509   \n",
            "...           ...        ...        ...        ...        ...        ...   \n",
            "117731  23.966802   4.770803  24.197257  19.743073 -35.965508   5.175377   \n",
            "133602  23.966802  21.468614 -15.728217  19.743073  -0.134774 -18.113821   \n",
            "126113  -0.038603  -1.192701  -1.209863  -6.169710  -4.960760  10.350755   \n",
            "113982  19.173441   1.192701 -25.407120  -9.871537  -1.240190  -5.175377   \n",
            "120408   2.396680 -32.202922  -7.259177 -11.105479  -6.200950 -37.521486   \n",
            "\n",
            "            ap_62  \n",
            "76492  -23.418944  \n",
            "62660   -7.806315  \n",
            "26131    7.806315  \n",
            "74087   -3.903157  \n",
            "8084    20.816839  \n",
            "...           ...  \n",
            "117731 -42.934730  \n",
            "133602 -10.408419  \n",
            "126113  23.418944  \n",
            "113982 -11.709472  \n",
            "120408 -39.031573  \n",
            "\n",
            "[111812 rows x 51 columns]\n"
          ]
        }
      ]
    },
    {
      "cell_type": "code",
      "source": [
        "feature_col = [col for col in df.columns if col.startswith('ap_')]\n",
        "X = df_sub[['root']+ top_features]\n",
        "y = df_sub['rank']"
      ],
      "metadata": {
        "id": "4TsQRd5nXjjM"
      },
      "execution_count": null,
      "outputs": []
    },
    {
      "cell_type": "code",
      "source": [
        "print(y)"
      ],
      "metadata": {
        "id": "zXCsCY7QZCCI"
      },
      "execution_count": null,
      "outputs": []
    },
    {
      "cell_type": "code",
      "source": [
        "from sklearn.decomposition import FastICA\n",
        "import xgboost as xgb\n",
        "n_components = 4  \n",
        "ica = FastICA(n_components=n_components, random_state=10)\n",
        "independent_components = ica.fit_transform(X)"
      ],
      "metadata": {
        "colab": {
          "base_uri": "https://localhost:8080/"
        },
        "id": "cB03UgE8ZI_w",
        "outputId": "2043d1d9-628c-4f7f-f6b0-8ddcfd361e29"
      },
      "execution_count": null,
      "outputs": [
        {
          "output_type": "stream",
          "name": "stderr",
          "text": [
            "/usr/local/lib/python3.10/dist-packages/sklearn/decomposition/_fastica.py:542: FutureWarning: Starting in v1.3, whiten='unit-variance' will be used by default.\n",
            "  warnings.warn(\n"
          ]
        }
      ]
    },
    {
      "cell_type": "code",
      "source": [
        "print(independent_components)"
      ],
      "metadata": {
        "colab": {
          "base_uri": "https://localhost:8080/"
        },
        "id": "0uS8ruOWaNOt",
        "outputId": "33c1ec0c-41a8-4143-dfde-e6aa8e46c5d0"
      },
      "execution_count": null,
      "outputs": [
        {
          "output_type": "stream",
          "name": "stdout",
          "text": [
            "[[-5.27768629e-03 -3.18767549e-03 -2.88786430e-03 -1.03682880e-03]\n",
            " [ 2.57015288e-03 -1.02905882e-03 -1.38783075e-04 -1.42194472e-03]\n",
            " [-2.65067584e-05  9.85003435e-04 -4.71550934e-03 -2.34374540e-03]\n",
            " ...\n",
            " [ 7.18808537e-04  3.14323841e-03 -9.61742680e-04  1.52844499e-03]\n",
            " [ 1.63439402e-05 -1.56036641e-03 -1.50256221e-03 -6.65234003e-04]\n",
            " [ 8.27282140e-04 -5.16172701e-03 -1.63551401e-03 -5.12989004e-03]]\n"
          ]
        }
      ]
    },
    {
      "cell_type": "code",
      "source": [
        "X_train, X_test, y_train, y_test = train_test_split(X, y, test_size=0.6, random_state=10)\n",
        "X_train_val, X_test_val, y_train_val, y_test_val = train_test_split(X_train, y_train, test_size=0.5, random_state=10)"
      ],
      "metadata": {
        "id": "wwPcy41taRod"
      },
      "execution_count": null,
      "outputs": []
    },
    {
      "cell_type": "code",
      "source": [
        "xgb_model = xgb.XGBClassifier()\n",
        "xgb_model.fit(X_train, y_train)\n",
        "\n",
        "val_predictions = xgb_model.predict(X_test_val)\n",
        "val_accuracy = np.sum(val_predictions == y_test_val) / len(y_test_val)\n",
        "print(\"Validation Accuracy:\", val_accuracy)\n",
        "\n",
        "# Evaluate the XGBoost model on test set\n",
        "test_predictions = xgb_model.predict(X_test)\n",
        "test_accuracy = np.sum(test_predictions == y_test) / len(y_test)\n",
        "print(\"Test Accuracy:\", test_accuracy)"
      ],
      "metadata": {
        "colab": {
          "base_uri": "https://localhost:8080/"
        },
        "id": "3OwxjqfhbI0z",
        "outputId": "4f38ca7b-6a70-4124-d062-b65afc8def3c"
      },
      "execution_count": null,
      "outputs": [
        {
          "output_type": "stream",
          "name": "stdout",
          "text": [
            "Validation Accuracy: 0.9623468383865487\n",
            "Test Accuracy: 0.8012610302885762\n"
          ]
        }
      ]
    },
    {
      "cell_type": "code",
      "source": [
        "import lightgbm as lgb\n",
        "\n",
        "clf = lgb.LGBMClassifier(n_estimators=100,max_depth=50,learning_rate= 0.1)\n",
        "clf.fit(X_train, y_train)\n",
        "y_pred=clf.predict(X_test_val)\n",
        "\n",
        "print(\"RMSE: {:.4f}\".format(np.sqrt(mean_squared_error(y_test_val, y_pred))))\n",
        "print(\"R^2 Score: {:.4f}\".format(r2_score(y_test_val, y_pred)))\n",
        "print(\"ACC Score: {:.4f}\".format(accuracy_score(y_test_val, y_pred)))"
      ],
      "metadata": {
        "colab": {
          "base_uri": "https://localhost:8080/"
        },
        "id": "5ASQy71veOr2",
        "outputId": "e935ee88-8b9b-4bae-d174-076b58600b4d"
      },
      "execution_count": null,
      "outputs": [
        {
          "output_type": "stream",
          "name": "stdout",
          "text": [
            "RMSE: 0.6053\n",
            "R^2 Score: 0.6243\n",
            "ACC Score: 0.9084\n"
          ]
        }
      ]
    },
    {
      "cell_type": "code",
      "source": [
        "import time\n",
        "from sklearn.metrics import confusion_matrix, classification_report\n",
        "def forest_test(X, Y):\n",
        "    X_train, X_test, y_train, y_test = train_test_split(X, y, test_size=0.6, random_state=10)\n",
        "\n",
        "    start = time.process_time()\n",
        "    trainedforest = RandomForestClassifier(n_estimators=100).fit(X_train,y_train)\n",
        "    print(time.process_time() - start)\n",
        "    predictionforest = trainedforest.predict(X_test)\n",
        "    print(confusion_matrix(y_test,predictionforest))\n",
        "    print(classification_report(y_test,predictionforest))"
      ],
      "metadata": {
        "id": "cHiEV6SFqTLl"
      },
      "execution_count": null,
      "outputs": []
    },
    {
      "cell_type": "code",
      "source": [
        "#from sklearn.manifold import LocallyLinearEmbedding\n",
        "\n",
        "#embedding = LocallyLinearEmbedding(n_components=4)\n",
        "#X_lle = embedding.fit_transform(X)\n",
        "\n",
        "forest_test(X, y)"
      ],
      "metadata": {
        "colab": {
          "base_uri": "https://localhost:8080/"
        },
        "id": "phFJG0hinz5t",
        "outputId": "08d40793-7ae5-44e7-cf07-e4eba776bb00"
      },
      "execution_count": null,
      "outputs": [
        {
          "output_type": "stream",
          "name": "stdout",
          "text": [
            "21.881620767999948\n",
            "[[25286     0    52     0]\n",
            " [    0 25187     0   208]\n",
            " [ 7938     0   144     0]\n",
            " [    0  6871     0  1402]]\n",
            "              precision    recall  f1-score   support\n",
            "\n",
            "           0       0.76      1.00      0.86     25338\n",
            "           1       0.79      0.99      0.88     25395\n",
            "           2       0.73      0.02      0.03      8082\n",
            "           3       0.87      0.17      0.28      8273\n",
            "\n",
            "    accuracy                           0.78     67088\n",
            "   macro avg       0.79      0.54      0.51     67088\n",
            "weighted avg       0.78      0.78      0.70     67088\n",
            "\n"
          ]
        }
      ]
    },
    {
      "cell_type": "code",
      "source": [
        "\n",
        "from sklearn.discriminant_analysis import LinearDiscriminantAnalysis\n",
        "\n",
        "lda = LinearDiscriminantAnalysis(n_components=1)\n",
        "\n",
        "# run an LDA and use it to transform the features\n",
        "X_lda = lda.fit(X, y).transform(X)\n",
        "print('Original number of features:', X.shape[1])\n",
        "print('Reduced number of features:', X_lda.shape[1])"
      ],
      "metadata": {
        "colab": {
          "base_uri": "https://localhost:8080/"
        },
        "id": "reHUK9Jyg1I6",
        "outputId": "5c9581b4-176e-426c-bc42-6738987176db"
      },
      "execution_count": null,
      "outputs": [
        {
          "output_type": "stream",
          "name": "stdout",
          "text": [
            "Original number of features: 51\n",
            "Reduced number of features: 1\n"
          ]
        }
      ]
    },
    {
      "cell_type": "code",
      "source": [
        "forest_test(X_lda, y)"
      ],
      "metadata": {
        "colab": {
          "base_uri": "https://localhost:8080/"
        },
        "id": "ftCo6TfXhwPk",
        "outputId": "ed86c5b0-d259-46f3-a684-22a6dc8854de"
      },
      "execution_count": null,
      "outputs": [
        {
          "output_type": "stream",
          "name": "stdout",
          "text": [
            "17.592462361999992\n",
            "[[11296 10206  2633  1203]\n",
            " [10422 10104  2901  1968]\n",
            " [ 2457  2859  1272  1494]\n",
            " [ 1258  2023  1571  3421]]\n",
            "              precision    recall  f1-score   support\n",
            "\n",
            "           0       0.44      0.45      0.44     25338\n",
            "           1       0.40      0.40      0.40     25395\n",
            "           2       0.15      0.16      0.15      8082\n",
            "           3       0.42      0.41      0.42      8273\n",
            "\n",
            "    accuracy                           0.39     67088\n",
            "   macro avg       0.36      0.35      0.35     67088\n",
            "weighted avg       0.39      0.39      0.39     67088\n",
            "\n"
          ]
        }
      ]
    },
    {
      "cell_type": "code",
      "source": [
        "#from sklearn.manifold import TSNE\n",
        "\n",
        "#start = time.process_time()\n",
        "#tsne = TSNE(n_components=3, verbose=1, perplexity=40, n_iter=300)\n",
        "#X_tsne = tsne.fit_transform(X)\n",
        "#print(time.process_time() - start)"
      ],
      "metadata": {
        "id": "mE0X_OGgiE-3"
      },
      "execution_count": null,
      "outputs": []
    }
  ]
}