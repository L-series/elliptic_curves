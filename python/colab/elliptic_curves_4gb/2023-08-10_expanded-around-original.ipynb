{
  "cells": [
    {
      "cell_type": "code",
      "execution_count": null,
      "metadata": {
        "colab": {
          "base_uri": "https://localhost:8080/"
        },
        "id": "wZVqxuZOv7e3",
        "outputId": "fdb0bbb1-c88c-49cf-f0aa-48e13b031099"
      },
      "outputs": [
        {
          "output_type": "stream",
          "name": "stdout",
          "text": [
            "Requirement already satisfied: kaggle in /usr/local/lib/python3.10/dist-packages (1.5.16)\n",
            "Requirement already satisfied: six>=1.10 in /usr/local/lib/python3.10/dist-packages (from kaggle) (1.16.0)\n",
            "Requirement already satisfied: certifi in /usr/local/lib/python3.10/dist-packages (from kaggle) (2023.7.22)\n",
            "Requirement already satisfied: python-dateutil in /usr/local/lib/python3.10/dist-packages (from kaggle) (2.8.2)\n",
            "Requirement already satisfied: requests in /usr/local/lib/python3.10/dist-packages (from kaggle) (2.31.0)\n",
            "Requirement already satisfied: tqdm in /usr/local/lib/python3.10/dist-packages (from kaggle) (4.65.0)\n",
            "Requirement already satisfied: python-slugify in /usr/local/lib/python3.10/dist-packages (from kaggle) (8.0.1)\n",
            "Requirement already satisfied: urllib3 in /usr/local/lib/python3.10/dist-packages (from kaggle) (1.26.16)\n",
            "Requirement already satisfied: bleach in /usr/local/lib/python3.10/dist-packages (from kaggle) (6.0.0)\n",
            "Requirement already satisfied: webencodings in /usr/local/lib/python3.10/dist-packages (from bleach->kaggle) (0.5.1)\n",
            "Requirement already satisfied: text-unidecode>=1.3 in /usr/local/lib/python3.10/dist-packages (from python-slugify->kaggle) (1.3)\n",
            "Requirement already satisfied: charset-normalizer<4,>=2 in /usr/local/lib/python3.10/dist-packages (from requests->kaggle) (3.2.0)\n",
            "Requirement already satisfied: idna<4,>=2.5 in /usr/local/lib/python3.10/dist-packages (from requests->kaggle) (3.4)\n"
          ]
        }
      ],
      "source": [
        "! pip install kaggle\n"
      ]
    },
    {
      "cell_type": "code",
      "execution_count": null,
      "metadata": {
        "colab": {
          "base_uri": "https://localhost:8080/"
        },
        "id": "RRgdCjPQz-FG",
        "outputId": "d81e8f10-cfd7-4204-8421-eb9bd8ba74d9"
      },
      "outputs": [
        {
          "output_type": "stream",
          "name": "stdout",
          "text": [
            "Mounted at /content/drive\n"
          ]
        }
      ],
      "source": [
        "from google.colab import drive\n",
        "drive.mount('/content/drive')\n",
        "\n",
        "! cp /content/drive/MyDrive/kaggle.json ~/\n",
        "! mkdir ~/.kaggle\n",
        "! mv ~/kaggle.json ~/.kaggle/kaggle.json\n",
        "! chmod 600 ~/.kaggle/kaggle.json"
      ]
    },
    {
      "cell_type": "code",
      "execution_count": null,
      "metadata": {
        "colab": {
          "base_uri": "https://localhost:8080/"
        },
        "id": "Ugzhrl_i0Aic",
        "outputId": "030ce61f-db23-4ac5-daaf-a12922fc7f78"
      },
      "outputs": [
        {
          "output_type": "stream",
          "name": "stdout",
          "text": [
            "Downloading bsd-dataset-expanded-around-original.zip to /content\n",
            "100% 1.51G/1.51G [00:19<00:00, 98.8MB/s]\n",
            "100% 1.51G/1.51G [00:19<00:00, 83.4MB/s]\n"
          ]
        }
      ],
      "source": [
        "! kaggle datasets download -d eldarsultanow/bsd-dataset-expanded-around-original"
      ]
    },
    {
      "cell_type": "code",
      "execution_count": null,
      "metadata": {
        "colab": {
          "base_uri": "https://localhost:8080/"
        },
        "id": "PFDgEPYq0DOV",
        "outputId": "9e73f45d-40d9-4e57-962a-05af27e66307"
      },
      "outputs": [
        {
          "output_type": "stream",
          "name": "stdout",
          "text": [
            "Archive:  bsd-dataset-expanded-around-original.zip\n",
            "  inflating: expanded_dataset.csv    \n"
          ]
        }
      ],
      "source": [
        "! unzip bsd-dataset-expanded-around-original.zip"
      ]
    },
    {
      "cell_type": "code",
      "execution_count": null,
      "metadata": {
        "id": "l2WyVSjP0Yi1"
      },
      "outputs": [],
      "source": [
        "import pandas as pd\n",
        "import numpy as np\n",
        "import sympy\n",
        "from scipy.interpolate import interp1d\n",
        "from sklearn.cluster import KMeans\n",
        "from sklearn.model_selection import GridSearchCV, train_test_split\n",
        "from sklearn.metrics import mean_squared_error\n",
        "from keras.models import Sequential\n",
        "from sklearn.preprocessing import StandardScaler\n",
        "from tensorflow.keras.models import Sequential\n",
        "from tensorflow.keras.layers import Dense, Dropout, Conv1D, MaxPooling1D, Flatten\n",
        "from sklearn.ensemble import RandomForestClassifier, GradientBoostingClassifier\n",
        "from tensorflow.keras.wrappers.scikit_learn import KerasRegressor\n",
        "from sklearn.ensemble import GradientBoostingRegressor\n",
        "from keras.optimizers import SGD\n",
        "from keras.callbacks import EarlyStopping\n",
        "from sympy import prime, isprime, primerange\n",
        "import random\n",
        "import math\n",
        "import fileinput\n",
        "from sklearn.metrics import mean_absolute_error\n",
        "from sklearn.metrics import mean_squared_error, r2_score, accuracy_score, f1_score\n"
      ]
    },
    {
      "cell_type": "code",
      "execution_count": null,
      "metadata": {
        "id": "FVlf_8n50bY6"
      },
      "outputs": [],
      "source": [
        "import pandas as pd\n",
        "\n",
        "df = pd.read_csv(\"expanded_dataset.csv\", index_col=False, header=None, skiprows=lambda i: i % 5 != 0)\n"
      ]
    },
    {
      "cell_type": "code",
      "execution_count": null,
      "metadata": {
        "colab": {
          "base_uri": "https://localhost:8080/"
        },
        "id": "5X2O7z5ZK_iq",
        "outputId": "e5bbe085-613a-4b14-bcef-324f7bab3cf9"
      },
      "outputs": [
        {
          "output_type": "stream",
          "name": "stdout",
          "text": [
            "        0           1     2     3     4     5     6     7     8     9     ...  \\\n",
            "0          1  7578874153    -1     1     0     0    -2     6    -4     0  ...   \n",
            "1          1  7526030717    -1     0     2     0    -1     0     2     3  ...   \n",
            "2          1  7078096709    -1     1     0    -3     2    -4    -6    -1  ...   \n",
            "3          0  7886103067     1    -1     0     0     5    -1     2    -4  ...   \n",
            "4          1  7124778971    -1    -1    -2     2    -1     0    -2    -4  ...   \n",
            "...      ...         ...   ...   ...   ...   ...   ...   ...   ...   ...  ...   \n",
            "959994     3  8130625091    -1     0    -3    -2     0    -3    -1     0  ...   \n",
            "959995     3  8278561751    -1    -1     1    -3     1    -4     4     6  ...   \n",
            "959996     3  8919340363    -1     0    -2     0    -5    -1     4     0  ...   \n",
            "959997     3  8375056733     1     1    -2     2    -3     0     1    -1  ...   \n",
            "959998     3  8213233843     1    -1    -1     2    -4    -3    -5    -2  ...   \n",
            "\n",
            "        433   434   435   436   437   438   439   440   468   1160  \n",
            "0        -70   -12    68   -58   -70   -33     1     6  -107    90  \n",
            "1         -9   -15   -32    -8    88    54    16   -64   -61   172  \n",
            "2        -47   -13    29    99   -55   -78    26   -70  -101  -158  \n",
            "3          1    -8    46   -39   103    49    32    32    43   125  \n",
            "4         38    52    -1    -9   -94   -77   -56    -2    -6   170  \n",
            "...      ...   ...   ...   ...   ...   ...   ...   ...   ...   ...  \n",
            "959994   -28    -6   -95    44   106   -39   -74   -22    43  -117  \n",
            "959995   -61   -75   -15   -66    40   -36    30  -102    88  -182  \n",
            "959996    -4   -20    76    70    98    31   -47   -15   -19    68  \n",
            "959997   -58   -89    83   -72   -60   -50   -76    22    23   -88  \n",
            "959998   -34    31   -54    16   -30   -14    83   -61    50  -159  \n",
            "\n",
            "[959999 rows x 100 columns]\n"
          ]
        }
      ],
      "source": [
        "import pandas as pd\n",
        "\n",
        "# List of indices to read\n",
        "indices_to_read = [1, 0, 2, 3, 4, 5, 6, 7, 8, 9, 10, 11, 12, 13, 14, 15, 16, 17, 19, 18,\n",
        "                   21, 20, 26, 25, 23, 30, 28, 27, 22, 24, 35, 31, 29, 42, 41, 37, 34, 33,\n",
        "                   49, 45, 46, 32, 52, 56, 44, 36, 51, 58, 39, 57, 47, 50, 69, 43, 40, 53,\n",
        "                   59, 60, 64, 38, 67, 55, 125, 82, 138, 341, 1160, 368, 435, 436, 437,\n",
        "                   425, 434, 433, 432, 431, 430, 429, 428, 427, 438, 426, 410, 424, 423,\n",
        "                   422, 421, 420, 419, 418, 417, 416, 415, 414, 413, 412, 411, 440, 439,\n",
        "                   468]\n",
        "\n",
        "df = pd.read_csv(\"expanded_dataset.csv\", index_col=False, header=None, usecols=indices_to_read,skiprows=1)\n",
        "\n",
        "print(df)\n"
      ]
    },
    {
      "cell_type": "code",
      "execution_count": null,
      "metadata": {
        "id": "8XIzVbYd0fAs"
      },
      "outputs": [],
      "source": [
        "new_columns = ['rank', 'con', 'root'] + [f'ap_{i}' for i in range(1, 98)]\n",
        "\n",
        "df.columns = new_columns"
      ]
    },
    {
      "cell_type": "code",
      "execution_count": null,
      "metadata": {
        "colab": {
          "base_uri": "https://localhost:8080/"
        },
        "id": "4i5x6oR11SOm",
        "outputId": "53f6055f-c7eb-4c36-8f6c-ddc7c3cdd883"
      },
      "outputs": [
        {
          "output_type": "stream",
          "name": "stdout",
          "text": [
            "        rank         con  root  ap_1  ap_2  ap_3  ap_4  ap_5  ap_6  ap_7  ...  \\\n",
            "0          1  7578874153    -1     1     0     0    -2     6    -4     0  ...   \n",
            "1          1  7526030717    -1     0     2     0    -1     0     2     3  ...   \n",
            "2          1  7078096709    -1     1     0    -3     2    -4    -6    -1  ...   \n",
            "3          0  7886103067     1    -1     0     0     5    -1     2    -4  ...   \n",
            "4          1  7124778971    -1    -1    -2     2    -1     0    -2    -4  ...   \n",
            "...      ...         ...   ...   ...   ...   ...   ...   ...   ...   ...  ...   \n",
            "959994     3  8130625091    -1     0    -3    -2     0    -3    -1     0  ...   \n",
            "959995     3  8278561751    -1    -1     1    -3     1    -4     4     6  ...   \n",
            "959996     3  8919340363    -1     0    -2     0    -5    -1     4     0  ...   \n",
            "959997     3  8375056733     1     1    -2     2    -3     0     1    -1  ...   \n",
            "959998     3  8213233843     1    -1    -1     2    -4    -3    -5    -2  ...   \n",
            "\n",
            "        ap_88  ap_89  ap_90  ap_91  ap_92  ap_93  ap_94  ap_95  ap_96  ap_97  \n",
            "0         -70    -12     68    -58    -70    -33      1      6   -107     90  \n",
            "1          -9    -15    -32     -8     88     54     16    -64    -61    172  \n",
            "2         -47    -13     29     99    -55    -78     26    -70   -101   -158  \n",
            "3           1     -8     46    -39    103     49     32     32     43    125  \n",
            "4          38     52     -1     -9    -94    -77    -56     -2     -6    170  \n",
            "...       ...    ...    ...    ...    ...    ...    ...    ...    ...    ...  \n",
            "959994    -28     -6    -95     44    106    -39    -74    -22     43   -117  \n",
            "959995    -61    -75    -15    -66     40    -36     30   -102     88   -182  \n",
            "959996     -4    -20     76     70     98     31    -47    -15    -19     68  \n",
            "959997    -58    -89     83    -72    -60    -50    -76     22     23    -88  \n",
            "959998    -34     31    -54     16    -30    -14     83    -61     50   -159  \n",
            "\n",
            "[959999 rows x 100 columns]\n"
          ]
        }
      ],
      "source": [
        "print(df)"
      ]
    },
    {
      "cell_type": "code",
      "execution_count": null,
      "metadata": {
        "colab": {
          "base_uri": "https://localhost:8080/"
        },
        "id": "JfdcEx0E1WXd",
        "outputId": "6bedf658-ca9c-44a9-f141-caf2b2f6e20e"
      },
      "outputs": [
        {
          "output_type": "execute_result",
          "data": {
            "text/plain": [
              "1    332709\n",
              "0    312290\n",
              "2    210000\n",
              "3    103616\n",
              "4      1335\n",
              "5        48\n",
              "6         1\n",
              "Name: rank, dtype: int64"
            ]
          },
          "metadata": {},
          "execution_count": 10
        }
      ],
      "source": [
        "df['rank'].value_counts()"
      ]
    },
    {
      "cell_type": "code",
      "execution_count": null,
      "metadata": {
        "colab": {
          "base_uri": "https://localhost:8080/"
        },
        "id": "cm4i3ie31gWK",
        "outputId": "4bfd6427-c26b-4ea7-a146-8a7090b46d9a"
      },
      "outputs": [
        {
          "output_type": "execute_result",
          "data": {
            "text/plain": [
              "1    30000\n",
              "0    30000\n",
              "2    30000\n",
              "3    30000\n",
              "Name: rank, dtype: int64"
            ]
          },
          "metadata": {},
          "execution_count": 11
        }
      ],
      "source": [
        "df_2 = df.loc[df['rank'] == 2].sample(n=30000, random_state=1)\n",
        "df_3 = df.loc[df['rank'] == 3].sample(n=30000, random_state=1)\n",
        "df_3_2 = pd.concat([df_2, df_3])\n",
        "df_1 = df.loc[df['rank'] == 1].sample(n=30000, random_state=1)\n",
        "df_0 = df.loc[df['rank'] == 0].sample(n=30000, random_state=1)\n",
        "df_0_1 = pd.concat([df_1, df_0])\n",
        "\n",
        "df_sub = pd.concat([df_0_1, df_3_2])\n",
        "df_sub['rank'].value_counts()"
      ]
    },
    {
      "cell_type": "code",
      "execution_count": null,
      "metadata": {
        "id": "kkQUvTno2JGp"
      },
      "outputs": [],
      "source": [
        "df_sub = df_sub[~df_sub['rank'].isin([4,5,6])]"
      ]
    },
    {
      "cell_type": "code",
      "execution_count": null,
      "metadata": {
        "id": "4re4FhSv2R5F"
      },
      "outputs": [],
      "source": [
        "for i in range(1, 97):\n",
        "    ap_col = f\"ap_{i+1}\"\n",
        "    df_sub[ap_col].dropna(inplace=True)\n",
        "    if (df_sub[ap_col] == 0).any():\n",
        "        df_sub[ap_col].replace(0, df_sub[ap_col].mean(), inplace=True)"
      ]
    },
    {
      "cell_type": "code",
      "execution_count": null,
      "metadata": {
        "id": "4jW8ZiVE2Yq-"
      },
      "outputs": [],
      "source": [
        "feature_col = [col for col in df.columns if col.startswith('ap_')]\n",
        "X = df_sub[ feature_col]\n",
        "y = df_sub['rank']"
      ]
    },
    {
      "cell_type": "code",
      "execution_count": null,
      "metadata": {
        "colab": {
          "base_uri": "https://localhost:8080/",
          "height": 75
        },
        "id": "rc1HG1RI2zsJ",
        "outputId": "8faa68d4-00fb-42fc-a114-c3eeefd8dd76"
      },
      "outputs": [
        {
          "data": {
            "text/html": [
              "<style>#sk-container-id-2 {color: black;background-color: white;}#sk-container-id-2 pre{padding: 0;}#sk-container-id-2 div.sk-toggleable {background-color: white;}#sk-container-id-2 label.sk-toggleable__label {cursor: pointer;display: block;width: 100%;margin-bottom: 0;padding: 0.3em;box-sizing: border-box;text-align: center;}#sk-container-id-2 label.sk-toggleable__label-arrow:before {content: \"▸\";float: left;margin-right: 0.25em;color: #696969;}#sk-container-id-2 label.sk-toggleable__label-arrow:hover:before {color: black;}#sk-container-id-2 div.sk-estimator:hover label.sk-toggleable__label-arrow:before {color: black;}#sk-container-id-2 div.sk-toggleable__content {max-height: 0;max-width: 0;overflow: hidden;text-align: left;background-color: #f0f8ff;}#sk-container-id-2 div.sk-toggleable__content pre {margin: 0.2em;color: black;border-radius: 0.25em;background-color: #f0f8ff;}#sk-container-id-2 input.sk-toggleable__control:checked~div.sk-toggleable__content {max-height: 200px;max-width: 100%;overflow: auto;}#sk-container-id-2 input.sk-toggleable__control:checked~label.sk-toggleable__label-arrow:before {content: \"▾\";}#sk-container-id-2 div.sk-estimator input.sk-toggleable__control:checked~label.sk-toggleable__label {background-color: #d4ebff;}#sk-container-id-2 div.sk-label input.sk-toggleable__control:checked~label.sk-toggleable__label {background-color: #d4ebff;}#sk-container-id-2 input.sk-hidden--visually {border: 0;clip: rect(1px 1px 1px 1px);clip: rect(1px, 1px, 1px, 1px);height: 1px;margin: -1px;overflow: hidden;padding: 0;position: absolute;width: 1px;}#sk-container-id-2 div.sk-estimator {font-family: monospace;background-color: #f0f8ff;border: 1px dotted black;border-radius: 0.25em;box-sizing: border-box;margin-bottom: 0.5em;}#sk-container-id-2 div.sk-estimator:hover {background-color: #d4ebff;}#sk-container-id-2 div.sk-parallel-item::after {content: \"\";width: 100%;border-bottom: 1px solid gray;flex-grow: 1;}#sk-container-id-2 div.sk-label:hover label.sk-toggleable__label {background-color: #d4ebff;}#sk-container-id-2 div.sk-serial::before {content: \"\";position: absolute;border-left: 1px solid gray;box-sizing: border-box;top: 0;bottom: 0;left: 50%;z-index: 0;}#sk-container-id-2 div.sk-serial {display: flex;flex-direction: column;align-items: center;background-color: white;padding-right: 0.2em;padding-left: 0.2em;position: relative;}#sk-container-id-2 div.sk-item {position: relative;z-index: 1;}#sk-container-id-2 div.sk-parallel {display: flex;align-items: stretch;justify-content: center;background-color: white;position: relative;}#sk-container-id-2 div.sk-item::before, #sk-container-id-2 div.sk-parallel-item::before {content: \"\";position: absolute;border-left: 1px solid gray;box-sizing: border-box;top: 0;bottom: 0;left: 50%;z-index: -1;}#sk-container-id-2 div.sk-parallel-item {display: flex;flex-direction: column;z-index: 1;position: relative;background-color: white;}#sk-container-id-2 div.sk-parallel-item:first-child::after {align-self: flex-end;width: 50%;}#sk-container-id-2 div.sk-parallel-item:last-child::after {align-self: flex-start;width: 50%;}#sk-container-id-2 div.sk-parallel-item:only-child::after {width: 0;}#sk-container-id-2 div.sk-dashed-wrapped {border: 1px dashed gray;margin: 0 0.4em 0.5em 0.4em;box-sizing: border-box;padding-bottom: 0.4em;background-color: white;}#sk-container-id-2 div.sk-label label {font-family: monospace;font-weight: bold;display: inline-block;line-height: 1.2em;}#sk-container-id-2 div.sk-label-container {text-align: center;}#sk-container-id-2 div.sk-container {/* jupyter's `normalize.less` sets `[hidden] { display: none; }` but bootstrap.min.css set `[hidden] { display: none !important; }` so we also need the `!important` here to be able to override the default hidden behavior on the sphinx rendered scikit-learn.org. See: https://github.com/scikit-learn/scikit-learn/issues/21755 */display: inline-block !important;position: relative;}#sk-container-id-2 div.sk-text-repr-fallback {display: none;}</style><div id=\"sk-container-id-2\" class=\"sk-top-container\"><div class=\"sk-text-repr-fallback\"><pre>GradientBoostingRegressor()</pre><b>In a Jupyter environment, please rerun this cell to show the HTML representation or trust the notebook. <br />On GitHub, the HTML representation is unable to render, please try loading this page with nbviewer.org.</b></div><div class=\"sk-container\" hidden><div class=\"sk-item\"><div class=\"sk-estimator sk-toggleable\"><input class=\"sk-toggleable__control sk-hidden--visually\" id=\"sk-estimator-id-2\" type=\"checkbox\" checked><label for=\"sk-estimator-id-2\" class=\"sk-toggleable__label sk-toggleable__label-arrow\">GradientBoostingRegressor</label><div class=\"sk-toggleable__content\"><pre>GradientBoostingRegressor()</pre></div></div></div></div></div>"
            ],
            "text/plain": [
              "GradientBoostingRegressor()"
            ]
          },
          "execution_count": 33,
          "metadata": {},
          "output_type": "execute_result"
        }
      ],
      "source": [
        "gbm = GradientBoostingRegressor(n_estimators=100, max_depth=3, learning_rate=0.1)\n",
        "gbm.fit(X, y)"
      ]
    },
    {
      "cell_type": "code",
      "execution_count": null,
      "metadata": {
        "colab": {
          "base_uri": "https://localhost:8080/"
        },
        "id": "-QPTbZch21qF",
        "outputId": "cdbd2a6e-aada-48fe-d4ba-67f1be33c0ec"
      },
      "outputs": [
        {
          "name": "stdout",
          "output_type": "stream",
          "text": [
            "[   1    0    2    3    4    5    6    7    8    9   10   11   12   13\n",
            "   14   15   16   17   19   18   21   20   26   25   23   30   28   27\n",
            "   22   24   35   31   29   42   41   37   34   33   49   45   46   32\n",
            "   52   56   44   36   51   58   39   57   47   50   69   43   40   53\n",
            "   59   60   64   38   67   55  125   82  138  341 1160  368  435  436\n",
            "  437  425  434  433  432  431  430  429  428  427  438  426  410  424\n",
            "  423  422  421  420  419  418  417  416  415  414  413  412  411  440\n",
            "  439  468]\n"
          ]
        }
      ],
      "source": [
        "importances = gbm.feature_importances_\n",
        "top_100_indices = importances.argsort()[::-1][:100]\n",
        "print(top_100_indices)"
      ]
    },
    {
      "cell_type": "code",
      "execution_count": null,
      "metadata": {
        "colab": {
          "base_uri": "https://localhost:8080/"
        },
        "id": "2qIG9zvQDOjR",
        "outputId": "e88482aa-750a-4f04-9db0-be8cb8ec0b62"
      },
      "outputs": [
        {
          "name": "stdout",
          "output_type": "stream",
          "text": [
            "['ap_2', 'ap_1', 'ap_3', 'ap_4', 'ap_5', 'ap_6', 'ap_7', 'ap_8', 'ap_9', 'ap_10', 'ap_11', 'ap_12', 'ap_13', 'ap_14', 'ap_15', 'ap_16', 'ap_17', 'ap_18', 'ap_20', 'ap_19', 'ap_22', 'ap_21', 'ap_27', 'ap_26', 'ap_24', 'ap_31', 'ap_29', 'ap_28', 'ap_23', 'ap_25', 'ap_36', 'ap_32', 'ap_30', 'ap_43', 'ap_42', 'ap_38', 'ap_35', 'ap_34', 'ap_50', 'ap_46', 'ap_47', 'ap_33', 'ap_53', 'ap_57', 'ap_45', 'ap_37', 'ap_52', 'ap_59', 'ap_40', 'ap_58', 'ap_48', 'ap_51', 'ap_70', 'ap_44', 'ap_41', 'ap_54', 'ap_60', 'ap_61', 'ap_65', 'ap_39', 'ap_68', 'ap_56', 'ap_126', 'ap_83', 'ap_139', 'ap_342', 'ap_1161', 'ap_369', 'ap_436', 'ap_437', 'ap_438', 'ap_426', 'ap_435', 'ap_434', 'ap_433', 'ap_432', 'ap_431', 'ap_430', 'ap_429', 'ap_428', 'ap_439', 'ap_427', 'ap_411', 'ap_425', 'ap_424', 'ap_423', 'ap_422', 'ap_421', 'ap_420', 'ap_419', 'ap_418', 'ap_417', 'ap_416', 'ap_415', 'ap_414', 'ap_413', 'ap_412', 'ap_441', 'ap_440', 'ap_469', 'ap_442', 'ap_467', 'ap_461', 'ap_462', 'ap_463', 'ap_464', 'ap_465', 'ap_466', 'ap_468', 'ap_443', 'ap_409', 'ap_470', 'ap_471', 'ap_472', 'ap_473', 'ap_474', 'ap_460', 'ap_459', 'ap_458', 'ap_457', 'ap_456', 'ap_455', 'ap_454', 'ap_453', 'ap_452', 'ap_451', 'ap_450', 'ap_449', 'ap_448', 'ap_447', 'ap_446', 'ap_445', 'ap_444', 'ap_410', 'ap_377', 'ap_408', 'ap_357', 'ap_372', 'ap_371', 'ap_370', 'ap_368', 'ap_367', 'ap_366', 'ap_365', 'ap_364', 'ap_363', 'ap_362', 'ap_361', 'ap_360', 'ap_359', 'ap_358', 'ap_356', 'ap_374', 'ap_355', 'ap_354', 'ap_353', 'ap_352', 'ap_351', 'ap_350', 'ap_349', 'ap_348', 'ap_347', 'ap_346', 'ap_345', 'ap_344', 'ap_343', 'ap_341', 'ap_373', 'ap_375', 'ap_407', 'ap_392', 'ap_406', 'ap_405', 'ap_404', 'ap_403', 'ap_402', 'ap_401', 'ap_400', 'ap_399', 'ap_398', 'ap_397', 'ap_396', 'ap_395', 'ap_394', 'ap_393', 'ap_391', 'ap_376', 'ap_390', 'ap_389', 'ap_388', 'ap_387', 'ap_386', 'ap_385', 'ap_384', 'ap_383', 'ap_382', 'ap_381', 'ap_380', 'ap_379', 'ap_378', 'ap_476', 'ap_475', 'ap_509', 'ap_477', 'ap_571', 'ap_565', 'ap_566', 'ap_567', 'ap_568', 'ap_569', 'ap_570', 'ap_572', 'ap_546', 'ap_573', 'ap_574', 'ap_575', 'ap_576', 'ap_577', 'ap_578', 'ap_564', 'ap_563', 'ap_562', 'ap_561', 'ap_560', 'ap_559', 'ap_558', 'ap_557', 'ap_556', 'ap_555', 'ap_554', 'ap_553', 'ap_552', 'ap_551', 'ap_550', 'ap_549', 'ap_548', 'ap_579', 'ap_580', 'ap_581', 'ap_598', 'ap_612', 'ap_611', 'ap_610', 'ap_609', 'ap_608', 'ap_607', 'ap_606', 'ap_605', 'ap_604', 'ap_603', 'ap_602', 'ap_601', 'ap_600', 'ap_599', 'ap_597', 'ap_582', 'ap_596', 'ap_595', 'ap_594', 'ap_593', 'ap_592', 'ap_591', 'ap_590', 'ap_589', 'ap_588', 'ap_587', 'ap_586', 'ap_585', 'ap_584', 'ap_583', 'ap_547', 'ap_545', 'ap_478', 'ap_502', 'ap_496', 'ap_497', 'ap_498', 'ap_499', 'ap_500', 'ap_501', 'ap_503', 'ap_544', 'ap_504', 'ap_505', 'ap_506', 'ap_507', 'ap_508', 'ap_339', 'ap_495', 'ap_494', 'ap_493', 'ap_492', 'ap_491', 'ap_490', 'ap_489', 'ap_488', 'ap_487', 'ap_486', 'ap_485', 'ap_484', 'ap_483', 'ap_482', 'ap_481', 'ap_480', 'ap_479', 'ap_510', 'ap_511', 'ap_512', 'ap_529', 'ap_543', 'ap_542', 'ap_541', 'ap_540', 'ap_539', 'ap_538', 'ap_537', 'ap_536', 'ap_535', 'ap_534', 'ap_533', 'ap_532', 'ap_531', 'ap_530', 'ap_528', 'ap_513', 'ap_527', 'ap_526', 'ap_525', 'ap_524', 'ap_523', 'ap_522', 'ap_521', 'ap_520', 'ap_519', 'ap_518', 'ap_517', 'ap_516', 'ap_515', 'ap_514', 'ap_340', 'ap_306', 'ap_338', 'ap_158', 'ap_152', 'ap_153', 'ap_154', 'ap_155', 'ap_156', 'ap_157', 'ap_159', 'ap_132', 'ap_160', 'ap_161', 'ap_162', 'ap_163', 'ap_164', 'ap_165', 'ap_151', 'ap_150', 'ap_149', 'ap_148', 'ap_147', 'ap_146', 'ap_145', 'ap_144', 'ap_143', 'ap_142', 'ap_141', 'ap_140', 'ap_138', 'ap_137', 'ap_136', 'ap_135', 'ap_134', 'ap_166', 'ap_167', 'ap_168', 'ap_185', 'ap_199', 'ap_198', 'ap_197', 'ap_196', 'ap_195', 'ap_194', 'ap_193', 'ap_192', 'ap_191', 'ap_190', 'ap_189', 'ap_188', 'ap_187', 'ap_186', 'ap_184', 'ap_169', 'ap_183', 'ap_182', 'ap_181', 'ap_180', 'ap_179', 'ap_178', 'ap_177', 'ap_176', 'ap_175', 'ap_174', 'ap_173', 'ap_172', 'ap_171', 'ap_170', 'ap_133', 'ap_131', 'ap_337', 'ap_87', 'ap_80', 'ap_81', 'ap_82', 'ap_84', 'ap_85', 'ap_86', 'ap_88', 'ap_130', 'ap_89', 'ap_90', 'ap_91', 'ap_92', 'ap_93', 'ap_94', 'ap_79', 'ap_78', 'ap_77', 'ap_76', 'ap_75', 'ap_74', 'ap_73', 'ap_72', 'ap_71', 'ap_69', 'ap_67', 'ap_66', 'ap_64', 'ap_63', 'ap_62', 'ap_55', 'ap_49', 'ap_95', 'ap_96', 'ap_97', 'ap_114', 'ap_129', 'ap_128', 'ap_127', 'ap_125', 'ap_124', 'ap_123', 'ap_122', 'ap_121', 'ap_120', 'ap_119', 'ap_118', 'ap_117', 'ap_116', 'ap_115', 'ap_113', 'ap_98', 'ap_112', 'ap_111', 'ap_110', 'ap_109', 'ap_108', 'ap_107', 'ap_106', 'ap_105', 'ap_104', 'ap_103', 'ap_102', 'ap_101', 'ap_100', 'ap_99', 'ap_200', 'ap_201', 'ap_202', 'ap_295', 'ap_289', 'ap_290', 'ap_291', 'ap_292', 'ap_293', 'ap_294', 'ap_296', 'ap_203', 'ap_297', 'ap_298', 'ap_299', 'ap_300', 'ap_301', 'ap_302', 'ap_288', 'ap_287', 'ap_286', 'ap_285', 'ap_284']\n"
          ]
        }
      ],
      "source": [
        "importances = gbm.feature_importances_\n",
        "df_columns = feature_col\n",
        "top_100_indices = importances.argsort()[::-1][:500]\n",
        "\n",
        "# Get the top 100 'ap' column names\n",
        "top_100_columns = [df_columns[i] for i in top_100_indices if df_columns[i].startswith('ap_')]\n",
        "\n",
        "print(top_100_columns)"
      ]
    },
    {
      "cell_type": "code",
      "execution_count": null,
      "metadata": {
        "id": "NziBWUPF23ny"
      },
      "outputs": [],
      "source": [
        "top_features = ['ap_2', 'ap_1', 'ap_3', 'ap_4', 'ap_5', 'ap_6', 'ap_7', 'ap_8', 'ap_9', 'ap_10', 'ap_11', 'ap_12', 'ap_13', 'ap_14', 'ap_15', 'ap_16', 'ap_17', 'ap_18', 'ap_20', 'ap_19', 'ap_22', 'ap_21', 'ap_27', 'ap_26', 'ap_24', 'ap_31', 'ap_29', 'ap_28', 'ap_23', 'ap_25', 'ap_36', 'ap_32', 'ap_30', 'ap_43', 'ap_42', 'ap_38', 'ap_35', 'ap_34', 'ap_50', 'ap_46', 'ap_47', 'ap_33', 'ap_53', 'ap_57', 'ap_45', 'ap_37', 'ap_52', 'ap_59', 'ap_40', 'ap_58', 'ap_48', 'ap_51', 'ap_70', 'ap_44', 'ap_41', 'ap_54', 'ap_60', 'ap_61', 'ap_65', 'ap_39', 'ap_68', 'ap_56', 'ap_126', 'ap_83', 'ap_139', 'ap_342', 'ap_1161', 'ap_369', 'ap_436', 'ap_437', 'ap_438', 'ap_426', 'ap_435', 'ap_434', 'ap_433', 'ap_432', 'ap_431', 'ap_430', 'ap_429', 'ap_428', 'ap_439', 'ap_427', 'ap_411', 'ap_425', 'ap_424', 'ap_423', 'ap_422', 'ap_421', 'ap_420', 'ap_419', 'ap_418', 'ap_417', 'ap_416', 'ap_415', 'ap_414', 'ap_413', 'ap_412', 'ap_441', 'ap_440', 'ap_469']\n",
        "\n",
        "primes = [-301/303, -299/303, -99/101, -295/303, -293/303, -97/101, -289/303, -287/303, -95/101, -283/303, -281/303, -93/101, -277/303, -275/303, -91/101, -271/303, -269/303, -89/101, -265/303, -263/303, -87/101, -259/303, -257/303, -85/101, -253/303, -251/303, -83/101, -247/303, -245/303, -81/101, -241/303, -239/303, -79/101, -235/303, -233/303, -77/101, -229/303, -227/303, -75/101, -223/303, -221/303, -73/101, -217/303, -215/303, -71/101, -211/303, -209/303, -69/101, -205/303, -203/303, -67/101, -199/303, -197/303, -65/101, -193/303, -191/303, -63/101, -187/303, -185/303, -61/101, -181/303, -179/303, -59/101, -175/303, -173/303, -57/101, -169/303, -167/303, -55/101, -163/303, -161/303, -53/101, -157/303, -155/303, -51/101, -151/303, -149/303, -49/101, -145/303, -143/303, -47/101, -139/303, -137/303, -45/101, -133/303, -131/303, -43/101, -127/303, -125/303, -41/101, -121/303, -119/303, -39/101, -115/303, -113/303, -37/101, -109/303, -107/303, -35/101, -103/303, -1/3, -33/101, -97/303, -95/303, -31/101, -91/303, -89/303, -29/101, -85/303, -83/303, -27/101, -79/303, -77/303, -25/101, -73/303, -71/303, -23/101, -67/303, -65/303, -21/101, -61/303, -59/303, -19/101, -55/303, -53/303, -17/101, -49/303, -47/303, -15/101, -43/303, -41/303, -13/101, -37/303, -35/303, -11/101, -31/303, -29/303, -9/101, -25/303, -23/303, -7/101, -19/303, -17/303, -5/101, -13/303, -11/303, -3/101, -7/303, -5/303, -1/101, -1/303, 1/303, 1/101, 5/303, 7/303, 3/101, 11/303, 13/303, 5/101, 17/303, 19/303, 7/101, 23/303, 25/303, 9/101, 29/303, 31/303, 11/101, 35/303, 37/303, 13/101, 41/303, 43/303, 15/101, 47/303, 49/303, 17/101, 53/303, 55/303, 19/101, 59/303, 61/303, 21/101, 65/303, 67/303, 23/101, 71/303, 73/303, 25/101, 77/303, 79/303, 27/101, 83/303, 85/303, 29/101, 89/303, 91/303, 31/101, 95/303, 97/303, 33/101, 1/3, 103/303, 35/101, 107/303, 109/303, 37/101, 113/303, 115/303, 39/101, 119/303, 121/303, 41/101, 125/303, 127/303, 43/101, 131/303, 133/303, 45/101, 137/303, 139/303, 47/101, 143/303, 145/303, 49/101, 149/303, 151/303, 51/101, 155/303, 157/303, 53/101, 161/303, 163/303, 55/101, 167/303, 169/303, 57/101, 173/303, 175/303, 59/101, 179/303, 181/303, 61/101, 185/303, 187/303, 63/101, 191/303, 193/303, 65/101, 197/303, 199/303, 67/101, 203/303, 205/303, 69/101, 209/303, 211/303, 71/101, 215/303, 217/303, 73/101, 221/303, 223/303, 75/101, 227/303, 229/303, 77/101, 233/303, 235/303, 79/101, 239/303, 241/303, 81/101, 245/303, 247/303, 83/101, 251/303, 253/303, 85/101, 257/303, 259/303, 87/101, 263/303, 265/303, 89/101, 269/303, 271/303, 91/101, 275/303, 277/303, 93/101, 281/303, 283/303, 95/101, 287/303, 289/303, 97/101, 293/303, 295/303, 99/101, 299/303, 301/303, 1]\n",
        "abs_prime = [abs(prime) for prime in primes]"
      ]
    },
    {
      "cell_type": "code",
      "execution_count": null,
      "metadata": {
        "id": "uAiEd0RFEa6e"
      },
      "outputs": [],
      "source": [
        "top_features_200 = ['ap_2', 'ap_1', 'ap_3', 'ap_4', 'ap_5', 'ap_6', 'ap_7', 'ap_8', 'ap_9', 'ap_10', 'ap_11', 'ap_12', 'ap_13', 'ap_14', 'ap_15', 'ap_16', 'ap_17', 'ap_18', 'ap_20', 'ap_19', 'ap_22', 'ap_21', 'ap_27', 'ap_26', 'ap_24', 'ap_31', 'ap_29', 'ap_28', 'ap_23', 'ap_25', 'ap_36', 'ap_32', 'ap_30', 'ap_43', 'ap_42', 'ap_38', 'ap_35', 'ap_34', 'ap_50', 'ap_46', 'ap_47', 'ap_33', 'ap_53', 'ap_57', 'ap_45', 'ap_37', 'ap_52', 'ap_59', 'ap_40', 'ap_58', 'ap_48', 'ap_51', 'ap_70', 'ap_44', 'ap_41', 'ap_54', 'ap_60', 'ap_61', 'ap_65', 'ap_39', 'ap_68', 'ap_56', 'ap_126', 'ap_83', 'ap_139', 'ap_342', 'ap_1161', 'ap_369', 'ap_436', 'ap_437', 'ap_438', 'ap_426', 'ap_435', 'ap_434', 'ap_433', 'ap_432', 'ap_431', 'ap_430', 'ap_429', 'ap_428', 'ap_439', 'ap_427', 'ap_411', 'ap_425', 'ap_424', 'ap_423', 'ap_422', 'ap_421', 'ap_420', 'ap_419', 'ap_418', 'ap_417', 'ap_416', 'ap_415', 'ap_414', 'ap_413', 'ap_412', 'ap_441', 'ap_440', 'ap_469', 'ap_442', 'ap_467', 'ap_461', 'ap_462', 'ap_463', 'ap_464', 'ap_465', 'ap_466', 'ap_468', 'ap_443', 'ap_409', 'ap_470', 'ap_471', 'ap_472', 'ap_473', 'ap_474', 'ap_460', 'ap_459', 'ap_458', 'ap_457', 'ap_456', 'ap_455', 'ap_454', 'ap_453', 'ap_452', 'ap_451', 'ap_450', 'ap_449', 'ap_448', 'ap_447', 'ap_446', 'ap_445', 'ap_444', 'ap_410', 'ap_377', 'ap_408', 'ap_357', 'ap_372', 'ap_371', 'ap_370', 'ap_368', 'ap_367', 'ap_366', 'ap_365', 'ap_364', 'ap_363', 'ap_362', 'ap_361', 'ap_360', 'ap_359', 'ap_358', 'ap_356', 'ap_374', 'ap_355', 'ap_354', 'ap_353', 'ap_352', 'ap_351', 'ap_350', 'ap_349', 'ap_348', 'ap_347', 'ap_346', 'ap_345', 'ap_344', 'ap_343', 'ap_341', 'ap_373', 'ap_375', 'ap_407', 'ap_392', 'ap_406', 'ap_405', 'ap_404', 'ap_403', 'ap_402', 'ap_401', 'ap_400', 'ap_399', 'ap_398', 'ap_397', 'ap_396', 'ap_395', 'ap_394', 'ap_393', 'ap_391', 'ap_376', 'ap_390', 'ap_389', 'ap_388', 'ap_387', 'ap_386', 'ap_385', 'ap_384', 'ap_383', 'ap_382', 'ap_381', 'ap_380', 'ap_379', 'ap_378']\n"
      ]
    },
    {
      "cell_type": "code",
      "execution_count": null,
      "metadata": {
        "id": "JzbaoiDsEfO6"
      },
      "outputs": [],
      "source": [
        "top_features_300 =['ap_2', 'ap_1', 'ap_3', 'ap_4', 'ap_5', 'ap_6', 'ap_7', 'ap_8', 'ap_9', 'ap_10', 'ap_11', 'ap_12', 'ap_13', 'ap_14', 'ap_15', 'ap_16', 'ap_17', 'ap_18', 'ap_20', 'ap_19', 'ap_22', 'ap_21', 'ap_27', 'ap_26', 'ap_24', 'ap_31', 'ap_29', 'ap_28', 'ap_23', 'ap_25', 'ap_36', 'ap_32', 'ap_30', 'ap_43', 'ap_42', 'ap_38', 'ap_35', 'ap_34', 'ap_50', 'ap_46', 'ap_47', 'ap_33', 'ap_53', 'ap_57', 'ap_45', 'ap_37', 'ap_52', 'ap_59', 'ap_40', 'ap_58', 'ap_48', 'ap_51', 'ap_70', 'ap_44', 'ap_41', 'ap_54', 'ap_60', 'ap_61', 'ap_65', 'ap_39', 'ap_68', 'ap_56', 'ap_126', 'ap_83', 'ap_139', 'ap_342', 'ap_1161', 'ap_369', 'ap_436', 'ap_437', 'ap_438', 'ap_426', 'ap_435', 'ap_434', 'ap_433', 'ap_432', 'ap_431', 'ap_430', 'ap_429', 'ap_428', 'ap_439', 'ap_427', 'ap_411', 'ap_425', 'ap_424', 'ap_423', 'ap_422', 'ap_421', 'ap_420', 'ap_419', 'ap_418', 'ap_417', 'ap_416', 'ap_415', 'ap_414', 'ap_413', 'ap_412', 'ap_441', 'ap_440', 'ap_469', 'ap_442', 'ap_467', 'ap_461', 'ap_462', 'ap_463', 'ap_464', 'ap_465', 'ap_466', 'ap_468', 'ap_443', 'ap_409', 'ap_470', 'ap_471', 'ap_472', 'ap_473', 'ap_474', 'ap_460', 'ap_459', 'ap_458', 'ap_457', 'ap_456', 'ap_455', 'ap_454', 'ap_453', 'ap_452', 'ap_451', 'ap_450', 'ap_449', 'ap_448', 'ap_447', 'ap_446', 'ap_445', 'ap_444', 'ap_410', 'ap_377', 'ap_408', 'ap_357', 'ap_372', 'ap_371', 'ap_370', 'ap_368', 'ap_367', 'ap_366', 'ap_365', 'ap_364', 'ap_363', 'ap_362', 'ap_361', 'ap_360', 'ap_359', 'ap_358', 'ap_356', 'ap_374', 'ap_355', 'ap_354', 'ap_353', 'ap_352', 'ap_351', 'ap_350', 'ap_349', 'ap_348', 'ap_347', 'ap_346', 'ap_345', 'ap_344', 'ap_343', 'ap_341', 'ap_373', 'ap_375', 'ap_407', 'ap_392', 'ap_406', 'ap_405', 'ap_404', 'ap_403', 'ap_402', 'ap_401', 'ap_400', 'ap_399', 'ap_398', 'ap_397', 'ap_396', 'ap_395', 'ap_394', 'ap_393', 'ap_391', 'ap_376', 'ap_390', 'ap_389', 'ap_388', 'ap_387', 'ap_386', 'ap_385', 'ap_384', 'ap_383', 'ap_382', 'ap_381', 'ap_380', 'ap_379', 'ap_378', 'ap_476', 'ap_475', 'ap_509', 'ap_477', 'ap_571', 'ap_565', 'ap_566', 'ap_567', 'ap_568', 'ap_569', 'ap_570', 'ap_572', 'ap_546', 'ap_573', 'ap_574', 'ap_575', 'ap_576', 'ap_577', 'ap_578', 'ap_564', 'ap_563', 'ap_562', 'ap_561', 'ap_560', 'ap_559', 'ap_558', 'ap_557', 'ap_556', 'ap_555', 'ap_554', 'ap_553', 'ap_552', 'ap_551', 'ap_550', 'ap_549', 'ap_548', 'ap_579', 'ap_580', 'ap_581', 'ap_598', 'ap_612', 'ap_611', 'ap_610', 'ap_609', 'ap_608', 'ap_607', 'ap_606', 'ap_605', 'ap_604', 'ap_603', 'ap_602', 'ap_601', 'ap_600', 'ap_599', 'ap_597', 'ap_582', 'ap_596', 'ap_595', 'ap_594', 'ap_593', 'ap_592', 'ap_591', 'ap_590', 'ap_589', 'ap_588', 'ap_587', 'ap_586', 'ap_585', 'ap_584', 'ap_583', 'ap_547', 'ap_545', 'ap_478', 'ap_502', 'ap_496', 'ap_497', 'ap_498', 'ap_499', 'ap_500', 'ap_501', 'ap_503', 'ap_544', 'ap_504', 'ap_505', 'ap_506', 'ap_507', 'ap_508', 'ap_339', 'ap_495', 'ap_494', 'ap_493', 'ap_492', 'ap_491', 'ap_490', 'ap_489', 'ap_488', 'ap_487', 'ap_486', 'ap_485', 'ap_484']\n"
      ]
    },
    {
      "cell_type": "code",
      "execution_count": null,
      "metadata": {
        "id": "eOAMw-0PEoZx"
      },
      "outputs": [],
      "source": [
        "top_features_400 = ['ap_2', 'ap_1', 'ap_3', 'ap_4', 'ap_5', 'ap_6', 'ap_7', 'ap_8', 'ap_9', 'ap_10', 'ap_11', 'ap_12', 'ap_13', 'ap_14', 'ap_15', 'ap_16', 'ap_17', 'ap_18', 'ap_20', 'ap_19', 'ap_22', 'ap_21', 'ap_27', 'ap_26', 'ap_24', 'ap_31', 'ap_29', 'ap_28', 'ap_23', 'ap_25', 'ap_36', 'ap_32', 'ap_30', 'ap_43', 'ap_42', 'ap_38', 'ap_35', 'ap_34', 'ap_50', 'ap_46', 'ap_47', 'ap_33', 'ap_53', 'ap_57', 'ap_45', 'ap_37', 'ap_52', 'ap_59', 'ap_40', 'ap_58', 'ap_48', 'ap_51', 'ap_70', 'ap_44', 'ap_41', 'ap_54', 'ap_60', 'ap_61', 'ap_65', 'ap_39', 'ap_68', 'ap_56', 'ap_126', 'ap_83', 'ap_139', 'ap_342', 'ap_1161', 'ap_369', 'ap_436', 'ap_437', 'ap_438', 'ap_426', 'ap_435', 'ap_434', 'ap_433', 'ap_432', 'ap_431', 'ap_430', 'ap_429', 'ap_428', 'ap_439', 'ap_427', 'ap_411', 'ap_425', 'ap_424', 'ap_423', 'ap_422', 'ap_421', 'ap_420', 'ap_419', 'ap_418', 'ap_417', 'ap_416', 'ap_415', 'ap_414', 'ap_413', 'ap_412', 'ap_441', 'ap_440', 'ap_469', 'ap_442', 'ap_467', 'ap_461', 'ap_462', 'ap_463', 'ap_464', 'ap_465', 'ap_466', 'ap_468', 'ap_443', 'ap_409', 'ap_470', 'ap_471', 'ap_472', 'ap_473', 'ap_474', 'ap_460', 'ap_459', 'ap_458', 'ap_457', 'ap_456', 'ap_455', 'ap_454', 'ap_453', 'ap_452', 'ap_451', 'ap_450', 'ap_449', 'ap_448', 'ap_447', 'ap_446', 'ap_445', 'ap_444', 'ap_410', 'ap_377', 'ap_408', 'ap_357', 'ap_372', 'ap_371', 'ap_370', 'ap_368', 'ap_367', 'ap_366', 'ap_365', 'ap_364', 'ap_363', 'ap_362', 'ap_361', 'ap_360', 'ap_359', 'ap_358', 'ap_356', 'ap_374', 'ap_355', 'ap_354', 'ap_353', 'ap_352', 'ap_351', 'ap_350', 'ap_349', 'ap_348', 'ap_347', 'ap_346', 'ap_345', 'ap_344', 'ap_343', 'ap_341', 'ap_373', 'ap_375', 'ap_407', 'ap_392', 'ap_406', 'ap_405', 'ap_404', 'ap_403', 'ap_402', 'ap_401', 'ap_400', 'ap_399', 'ap_398', 'ap_397', 'ap_396', 'ap_395', 'ap_394', 'ap_393', 'ap_391', 'ap_376', 'ap_390', 'ap_389', 'ap_388', 'ap_387', 'ap_386', 'ap_385', 'ap_384', 'ap_383', 'ap_382', 'ap_381', 'ap_380', 'ap_379', 'ap_378', 'ap_476', 'ap_475', 'ap_509', 'ap_477', 'ap_571', 'ap_565', 'ap_566', 'ap_567', 'ap_568', 'ap_569', 'ap_570', 'ap_572', 'ap_546', 'ap_573', 'ap_574', 'ap_575', 'ap_576', 'ap_577', 'ap_578', 'ap_564', 'ap_563', 'ap_562', 'ap_561', 'ap_560', 'ap_559', 'ap_558', 'ap_557', 'ap_556', 'ap_555', 'ap_554', 'ap_553', 'ap_552', 'ap_551', 'ap_550', 'ap_549', 'ap_548', 'ap_579', 'ap_580', 'ap_581', 'ap_598', 'ap_612', 'ap_611', 'ap_610', 'ap_609', 'ap_608', 'ap_607', 'ap_606', 'ap_605', 'ap_604', 'ap_603', 'ap_602', 'ap_601', 'ap_600', 'ap_599', 'ap_597', 'ap_582', 'ap_596', 'ap_595', 'ap_594', 'ap_593', 'ap_592', 'ap_591', 'ap_590', 'ap_589', 'ap_588', 'ap_587', 'ap_586', 'ap_585', 'ap_584', 'ap_583', 'ap_547', 'ap_545', 'ap_478', 'ap_502', 'ap_496', 'ap_497', 'ap_498', 'ap_499', 'ap_500', 'ap_501', 'ap_503', 'ap_544', 'ap_504', 'ap_505', 'ap_506', 'ap_507', 'ap_508', 'ap_339', 'ap_495', 'ap_494', 'ap_493', 'ap_492', 'ap_491', 'ap_490', 'ap_489', 'ap_488', 'ap_487', 'ap_486', 'ap_485', 'ap_484', 'ap_483', 'ap_482', 'ap_481', 'ap_480', 'ap_479', 'ap_510', 'ap_511', 'ap_512', 'ap_529', 'ap_543', 'ap_542', 'ap_541', 'ap_540', 'ap_539', 'ap_538', 'ap_537', 'ap_536', 'ap_535', 'ap_534', 'ap_533', 'ap_532', 'ap_531', 'ap_530', 'ap_528', 'ap_513', 'ap_527', 'ap_526', 'ap_525', 'ap_524', 'ap_523', 'ap_522', 'ap_521', 'ap_520', 'ap_519', 'ap_518', 'ap_517', 'ap_516', 'ap_515', 'ap_514', 'ap_340', 'ap_306', 'ap_338', 'ap_158', 'ap_152', 'ap_153', 'ap_154', 'ap_155', 'ap_156', 'ap_157', 'ap_159', 'ap_132', 'ap_160', 'ap_161', 'ap_162', 'ap_163', 'ap_164', 'ap_165', 'ap_151', 'ap_150', 'ap_149', 'ap_148', 'ap_147', 'ap_146', 'ap_145', 'ap_144', 'ap_143', 'ap_142', 'ap_141', 'ap_140', 'ap_138', 'ap_137', 'ap_136', 'ap_135', 'ap_134', 'ap_166', 'ap_167', 'ap_168', 'ap_185', 'ap_199', 'ap_198', 'ap_197', 'ap_196', 'ap_195', 'ap_194', 'ap_193', 'ap_192', 'ap_191', 'ap_190', 'ap_189', 'ap_188', 'ap_187', 'ap_186', 'ap_184', 'ap_169', 'ap_183', 'ap_182', 'ap_181', 'ap_180', 'ap_179', 'ap_178']\n"
      ]
    },
    {
      "cell_type": "code",
      "execution_count": null,
      "metadata": {
        "id": "qqCL3j0QEweo"
      },
      "outputs": [],
      "source": [
        "top_features_500 = ['ap_2', 'ap_1', 'ap_3', 'ap_4', 'ap_5', 'ap_6', 'ap_7', 'ap_8', 'ap_9', 'ap_10', 'ap_11', 'ap_12', 'ap_13', 'ap_14', 'ap_15', 'ap_16', 'ap_17', 'ap_18', 'ap_20', 'ap_19', 'ap_22', 'ap_21', 'ap_27', 'ap_26', 'ap_24', 'ap_31', 'ap_29', 'ap_28', 'ap_23', 'ap_25', 'ap_36', 'ap_32', 'ap_30', 'ap_43', 'ap_42', 'ap_38', 'ap_35', 'ap_34', 'ap_50', 'ap_46', 'ap_47', 'ap_33', 'ap_53', 'ap_57', 'ap_45', 'ap_37', 'ap_52', 'ap_59', 'ap_40', 'ap_58', 'ap_48', 'ap_51', 'ap_70', 'ap_44', 'ap_41', 'ap_54', 'ap_60', 'ap_61', 'ap_65', 'ap_39', 'ap_68', 'ap_56', 'ap_126', 'ap_83', 'ap_139', 'ap_342', 'ap_1161', 'ap_369', 'ap_436', 'ap_437', 'ap_438', 'ap_426', 'ap_435', 'ap_434', 'ap_433', 'ap_432', 'ap_431', 'ap_430', 'ap_429', 'ap_428', 'ap_439', 'ap_427', 'ap_411', 'ap_425', 'ap_424', 'ap_423', 'ap_422', 'ap_421', 'ap_420', 'ap_419', 'ap_418', 'ap_417', 'ap_416', 'ap_415', 'ap_414', 'ap_413', 'ap_412', 'ap_441', 'ap_440', 'ap_469', 'ap_442', 'ap_467', 'ap_461', 'ap_462', 'ap_463', 'ap_464', 'ap_465', 'ap_466', 'ap_468', 'ap_443', 'ap_409', 'ap_470', 'ap_471', 'ap_472', 'ap_473', 'ap_474', 'ap_460', 'ap_459', 'ap_458', 'ap_457', 'ap_456', 'ap_455', 'ap_454', 'ap_453', 'ap_452', 'ap_451', 'ap_450', 'ap_449', 'ap_448', 'ap_447', 'ap_446', 'ap_445', 'ap_444', 'ap_410', 'ap_377', 'ap_408', 'ap_357', 'ap_372', 'ap_371', 'ap_370', 'ap_368', 'ap_367', 'ap_366', 'ap_365', 'ap_364', 'ap_363', 'ap_362', 'ap_361', 'ap_360', 'ap_359', 'ap_358', 'ap_356', 'ap_374', 'ap_355', 'ap_354', 'ap_353', 'ap_352', 'ap_351', 'ap_350', 'ap_349', 'ap_348', 'ap_347', 'ap_346', 'ap_345', 'ap_344', 'ap_343', 'ap_341', 'ap_373', 'ap_375', 'ap_407', 'ap_392', 'ap_406', 'ap_405', 'ap_404', 'ap_403', 'ap_402', 'ap_401', 'ap_400', 'ap_399', 'ap_398', 'ap_397', 'ap_396', 'ap_395', 'ap_394', 'ap_393', 'ap_391', 'ap_376', 'ap_390', 'ap_389', 'ap_388', 'ap_387', 'ap_386', 'ap_385', 'ap_384', 'ap_383', 'ap_382', 'ap_381', 'ap_380', 'ap_379', 'ap_378', 'ap_476', 'ap_475', 'ap_509', 'ap_477', 'ap_571', 'ap_565', 'ap_566', 'ap_567', 'ap_568', 'ap_569', 'ap_570', 'ap_572', 'ap_546', 'ap_573', 'ap_574', 'ap_575', 'ap_576', 'ap_577', 'ap_578', 'ap_564', 'ap_563', 'ap_562', 'ap_561', 'ap_560', 'ap_559', 'ap_558', 'ap_557', 'ap_556', 'ap_555', 'ap_554', 'ap_553', 'ap_552', 'ap_551', 'ap_550', 'ap_549', 'ap_548', 'ap_579', 'ap_580', 'ap_581', 'ap_598', 'ap_612', 'ap_611', 'ap_610', 'ap_609', 'ap_608', 'ap_607', 'ap_606', 'ap_605', 'ap_604', 'ap_603', 'ap_602', 'ap_601', 'ap_600', 'ap_599', 'ap_597', 'ap_582', 'ap_596', 'ap_595', 'ap_594', 'ap_593', 'ap_592', 'ap_591', 'ap_590', 'ap_589', 'ap_588', 'ap_587', 'ap_586', 'ap_585', 'ap_584', 'ap_583', 'ap_547', 'ap_545', 'ap_478', 'ap_502', 'ap_496', 'ap_497', 'ap_498', 'ap_499', 'ap_500', 'ap_501', 'ap_503', 'ap_544', 'ap_504', 'ap_505', 'ap_506', 'ap_507', 'ap_508', 'ap_339', 'ap_495', 'ap_494', 'ap_493', 'ap_492', 'ap_491', 'ap_490', 'ap_489', 'ap_488', 'ap_487', 'ap_486', 'ap_485', 'ap_484', 'ap_483', 'ap_482', 'ap_481', 'ap_480', 'ap_479', 'ap_510', 'ap_511', 'ap_512', 'ap_529', 'ap_543', 'ap_542', 'ap_541', 'ap_540', 'ap_539', 'ap_538', 'ap_537', 'ap_536', 'ap_535', 'ap_534', 'ap_533', 'ap_532', 'ap_531', 'ap_530', 'ap_528', 'ap_513', 'ap_527', 'ap_526', 'ap_525', 'ap_524', 'ap_523', 'ap_522', 'ap_521', 'ap_520', 'ap_519', 'ap_518', 'ap_517', 'ap_516', 'ap_515', 'ap_514', 'ap_340', 'ap_306', 'ap_338', 'ap_158', 'ap_152', 'ap_153', 'ap_154', 'ap_155', 'ap_156', 'ap_157', 'ap_159', 'ap_132', 'ap_160', 'ap_161', 'ap_162', 'ap_163', 'ap_164', 'ap_165', 'ap_151', 'ap_150', 'ap_149', 'ap_148', 'ap_147', 'ap_146', 'ap_145', 'ap_144', 'ap_143', 'ap_142', 'ap_141', 'ap_140', 'ap_138', 'ap_137', 'ap_136', 'ap_135', 'ap_134', 'ap_166', 'ap_167', 'ap_168', 'ap_185', 'ap_199', 'ap_198', 'ap_197', 'ap_196', 'ap_195', 'ap_194', 'ap_193', 'ap_192', 'ap_191', 'ap_190', 'ap_189', 'ap_188', 'ap_187', 'ap_186', 'ap_184', 'ap_169', 'ap_183', 'ap_182', 'ap_181', 'ap_180', 'ap_179', 'ap_178', 'ap_177', 'ap_176', 'ap_175', 'ap_174', 'ap_173', 'ap_172', 'ap_171', 'ap_170', 'ap_133', 'ap_131', 'ap_337', 'ap_87', 'ap_80', 'ap_81', 'ap_82', 'ap_84', 'ap_85', 'ap_86', 'ap_88', 'ap_130', 'ap_89', 'ap_90', 'ap_91', 'ap_92', 'ap_93', 'ap_94', 'ap_79', 'ap_78', 'ap_77', 'ap_76', 'ap_75', 'ap_74', 'ap_73', 'ap_72', 'ap_71', 'ap_69', 'ap_67', 'ap_66', 'ap_64', 'ap_63', 'ap_62', 'ap_55', 'ap_49', 'ap_95', 'ap_96', 'ap_97', 'ap_114', 'ap_129', 'ap_128', 'ap_127', 'ap_125', 'ap_124', 'ap_123', 'ap_122', 'ap_121', 'ap_120', 'ap_119', 'ap_118', 'ap_117', 'ap_116', 'ap_115', 'ap_113', 'ap_98', 'ap_112', 'ap_111', 'ap_110', 'ap_109', 'ap_108', 'ap_107', 'ap_106', 'ap_105', 'ap_104', 'ap_103', 'ap_102', 'ap_101', 'ap_100', 'ap_99', 'ap_200', 'ap_201', 'ap_202', 'ap_295', 'ap_289', 'ap_290', 'ap_291', 'ap_292', 'ap_293', 'ap_294', 'ap_296', 'ap_203', 'ap_297', 'ap_298', 'ap_299', 'ap_300', 'ap_301', 'ap_302', 'ap_288', 'ap_287', 'ap_286', 'ap_285', 'ap_284']\n"
      ]
    },
    {
      "cell_type": "code",
      "execution_count": null,
      "metadata": {
        "id": "BUTX1Gou6pwY"
      },
      "outputs": [],
      "source": [
        "print(X)"
      ]
    },
    {
      "cell_type": "code",
      "execution_count": null,
      "metadata": {
        "id": "lVbIGoy0R97o"
      },
      "outputs": [],
      "source": []
    },
    {
      "cell_type": "code",
      "execution_count": null,
      "metadata": {
        "id": "YNlMX9SyRzZR"
      },
      "outputs": [],
      "source": [
        "primes = [-301/303, -299/303, -99/101, -295/303, -293/303, -97/101, -289/303, -287/303, -95/101, -283/303, -281/303, -93/101, -277/303, -275/303, -91/101, -271/303, -269/303, -89/101, -265/303, -263/303, -87/101, -259/303, -257/303, -85/101, -253/303, -251/303, -83/101, -247/303, -245/303, -81/101, -241/303, -239/303, -79/101, -235/303, -233/303, -77/101, -229/303, -227/303, -75/101, -223/303, -221/303, -73/101, -217/303, -215/303, -71/101, -211/303, -209/303, -69/101, -205/303, -203/303, -67/101, -199/303, -197/303, -65/101, -193/303, -191/303, -63/101, -187/303, -185/303, -61/101, -181/303, -179/303, -59/101, -175/303, -173/303, -57/101, -169/303, -167/303, -55/101, -163/303, -161/303, -53/101, -157/303, -155/303, -51/101, -151/303, -149/303, -49/101, -145/303, -143/303, -47/101, -139/303, -137/303, -45/101, -133/303, -131/303, -43/101, -127/303, -125/303, -41/101, -121/303, -119/303, -39/101, -115/303, -113/303, -37/101, -109/303, -107/303, -35/101, -103/303, -1/3, -33/101, -97/303, -95/303, -31/101, -91/303, -89/303, -29/101, -85/303, -83/303, -27/101, -79/303, -77/303, -25/101, -73/303, -71/303, -23/101, -67/303, -65/303, -21/101, -61/303, -59/303, -19/101, -55/303, -53/303, -17/101, -49/303, -47/303, -15/101, -43/303, -41/303, -13/101, -37/303, -35/303, -11/101, -31/303, -29/303, -9/101, -25/303, -23/303, -7/101, -19/303, -17/303, -5/101, -13/303, -11/303, -3/101, -7/303, -5/303, -1/101, -1/303, 1/303, 1/101, 5/303, 7/303, 3/101, 11/303, 13/303, 5/101, 17/303, 19/303, 7/101, 23/303, 25/303, 9/101, 29/303, 31/303, 11/101, 35/303, 37/303, 13/101, 41/303, 43/303, 15/101, 47/303, 49/303, 17/101, 53/303, 55/303, 19/101, 59/303, 61/303, 21/101, 65/303, 67/303, 23/101, 71/303, 73/303, 25/101, 77/303, 79/303, 27/101, 83/303, 85/303, 29/101, 89/303, 91/303, 31/101, 95/303, 97/303, 33/101, 1/3, 103/303, 35/101, 107/303, 109/303, 37/101, 113/303, 115/303, 39/101, 119/303, 121/303, 41/101, 125/303, 127/303, 43/101, 131/303, 133/303, 45/101, 137/303, 139/303, 47/101, 143/303, 145/303, 49/101, 149/303, 151/303, 51/101, 155/303, 157/303, 53/101, 161/303, 163/303, 55/101, 167/303, 169/303, 57/101, 173/303, 175/303, 59/101, 179/303, 181/303, 61/101, 185/303, 187/303, 63/101, 191/303, 193/303, 65/101, 197/303, 199/303, 67/101, 203/303, 205/303, 69/101, 209/303, 211/303, 71/101, 215/303, 217/303, 73/101, 221/303, 223/303, 75/101, 227/303, 229/303, 77/101, 233/303, 235/303, 79/101, 239/303, 241/303, 81/101, 245/303, 247/303, 83/101, 251/303, 253/303, 85/101, 257/303, 259/303, 87/101, 263/303, 265/303, 89/101, 269/303, 271/303, 91/101, 275/303, 277/303, 93/101, 281/303, 283/303, 95/101, 287/303, 289/303, 97/101, 293/303, 295/303, 99/101, 299/303, 301/303, 1]\n",
        "abs_prime = [abs(prime) for prime in primes]"
      ]
    },
    {
      "cell_type": "code",
      "execution_count": null,
      "metadata": {
        "id": "pup-LCpJR0dR"
      },
      "outputs": [],
      "source": [
        "for i in range(min(len(abs_prime),97)):\n",
        "    ap_col = f\"ap_{i+1}\"\n",
        "    df_sub[ap_col].dropna(inplace=True)\n",
        "    if (df_sub[ap_col] == 0).any():\n",
        "        df_sub[ap_col].replace(0, df_sub[ap_col].mean(), inplace=True)\n",
        "    df_sub[ap_col] = df_sub[ap_col].apply(lambda x, p=abs_prime[i]: x / math.sqrt(p))"
      ]
    },
    {
      "cell_type": "code",
      "execution_count": null,
      "metadata": {
        "id": "_7fMSSXG2dUb"
      },
      "outputs": [],
      "source": [
        "X = df_sub[['root']+ top_features_200]\n",
        "y = df_sub['rank']"
      ]
    },
    {
      "cell_type": "code",
      "execution_count": null,
      "metadata": {
        "id": "k_d4YvxwRbRI"
      },
      "outputs": [],
      "source": [
        "feature_col = [col for col in df.columns if col.startswith('ap_')]\n",
        "X = df_sub[['root']+ feature_col]\n",
        "y = df_sub['rank']"
      ]
    },
    {
      "cell_type": "code",
      "execution_count": null,
      "metadata": {
        "id": "zmsVvxJ76444"
      },
      "outputs": [],
      "source": [
        "X_train, X_test, y_train, y_test = train_test_split(X, y, test_size=0.6, random_state=42)\n",
        "X_train_val, X_test_val, y_train_val, y_test_val = train_test_split(X_train, y_train, test_size=0.5, random_state=42)"
      ]
    },
    {
      "cell_type": "code",
      "execution_count": null,
      "metadata": {
        "colab": {
          "base_uri": "https://localhost:8080/"
        },
        "id": "5OqLKTpv6vcb",
        "outputId": "5306384f-bf2d-47c5-c395-32336a7b1137"
      },
      "outputs": [
        {
          "output_type": "stream",
          "name": "stdout",
          "text": [
            "RMSE: 0.1921\n",
            "R^2 Score: 0.9705\n",
            "ACC Score: 0.9820\n"
          ]
        }
      ],
      "source": [
        "import lightgbm as lgb\n",
        "\n",
        "clf = lgb.LGBMClassifier(n_estimators=500,max_depth=50,learning_rate= 0.1)\n",
        "clf.fit(X_train, y_train)\n",
        "y_pred=clf.predict(X_test_val)\n",
        "\n",
        "print(\"RMSE: {:.4f}\".format(np.sqrt(mean_squared_error(y_test_val, y_pred))))\n",
        "print(\"R^2 Score: {:.4f}\".format(r2_score(y_test_val, y_pred)))\n",
        "print(\"ACC Score: {:.4f}\".format(accuracy_score(y_test_val, y_pred)))"
      ]
    },
    {
      "cell_type": "code",
      "execution_count": null,
      "metadata": {
        "colab": {
          "base_uri": "https://localhost:8080/"
        },
        "id": "fER63Ym_aZwh",
        "outputId": "5b515f88-4c53-4aeb-d61d-8680ccccd9eb"
      },
      "outputs": [
        {
          "name": "stdout",
          "output_type": "stream",
          "text": [
            "RMSE: 0.6320\n",
            "R^2 Score: 0.6819\n",
            "ACC Score: 0.8166\n"
          ]
        }
      ],
      "source": [
        "import lightgbm as lgb\n",
        "#200\n",
        "clf = lgb.LGBMClassifier(n_estimators=100,max_depth=50,learning_rate= 0.1)\n",
        "clf.fit(X_train, y_train)\n",
        "y_pred=clf.predict(X_test_val)\n",
        "\n",
        "print(\"RMSE: {:.4f}\".format(np.sqrt(mean_squared_error(y_test_val, y_pred))))\n",
        "print(\"R^2 Score: {:.4f}\".format(r2_score(y_test_val, y_pred)))\n",
        "print(\"ACC Score: {:.4f}\".format(accuracy_score(y_test_val, y_pred)))"
      ]
    },
    {
      "cell_type": "code",
      "execution_count": null,
      "metadata": {
        "id": "WrLjW8sjDrPZ"
      },
      "outputs": [],
      "source": [
        "feature_col = [col for col in df.columns if col.startswith('ap_')]\n",
        "X = df_sub[ feature_col]\n",
        "y = df_sub['rank']"
      ]
    },
    {
      "cell_type": "code",
      "execution_count": null,
      "metadata": {
        "id": "fdLp7F4ADooE"
      },
      "outputs": [],
      "source": [
        "X_train, X_test, y_train, y_test = train_test_split(X, y, test_size=0.6, random_state=42)\n",
        "X_train_val, X_test_val, y_train_val, y_test_val = train_test_split(X_train, y_train, test_size=0.5, random_state=42)"
      ]
    },
    {
      "cell_type": "code",
      "execution_count": null,
      "metadata": {
        "colab": {
          "base_uri": "https://localhost:8080/"
        },
        "id": "hBhS4_bDDvpo",
        "outputId": "8a78954f-ce04-43fc-a9de-7d06027843ff"
      },
      "outputs": [
        {
          "name": "stdout",
          "output_type": "stream",
          "text": [
            "RMSE: 0.4941\n",
            "R^2 Score: 0.8056\n",
            "ACC Score: 0.9018\n"
          ]
        }
      ],
      "source": [
        "import lightgbm as lgb\n",
        "\n",
        "clf = lgb.LGBMClassifier(n_estimators=100,max_depth=50,learning_rate= 0.1)\n",
        "clf.fit(X_train, y_train)\n",
        "y_pred=clf.predict(X_test_val)\n",
        "\n",
        "print(\"RMSE: {:.4f}\".format(np.sqrt(mean_squared_error(y_test_val, y_pred))))\n",
        "print(\"R^2 Score: {:.4f}\".format(r2_score(y_test_val, y_pred)))\n",
        "print(\"ACC Score: {:.4f}\".format(accuracy_score(y_test_val, y_pred)))"
      ]
    },
    {
      "cell_type": "code",
      "execution_count": null,
      "metadata": {
        "colab": {
          "base_uri": "https://localhost:8080/"
        },
        "id": "1hpFKr3bFbcL",
        "outputId": "7a685028-781b-4443-8cf6-1dba9ee9af66"
      },
      "outputs": [
        {
          "output_type": "stream",
          "name": "stderr",
          "text": [
            "/usr/local/lib/python3.10/dist-packages/sklearn/cluster/_kmeans.py:870: FutureWarning: The default value of `n_init` will change from 10 to 'auto' in 1.4. Set the value of `n_init` explicitly to suppress the warning\n",
            "  warnings.warn(\n"
          ]
        }
      ],
      "source": [
        "n_clusters = 4\n",
        "kmeans = KMeans(n_clusters=n_clusters)\n",
        "kmeans.fit(X)\n",
        "df_sub['cluster_label'] = kmeans.labels_"
      ]
    },
    {
      "cell_type": "code",
      "execution_count": null,
      "metadata": {
        "id": "QjZ3kmRBFjaY"
      },
      "outputs": [],
      "source": [
        "X_reduced = df_sub[['cluster_label']+['root'] + feature_col]\n",
        "y_reduced = df_sub['rank']"
      ]
    },
    {
      "cell_type": "code",
      "execution_count": null,
      "metadata": {
        "id": "zN5V81S4FmIf"
      },
      "outputs": [],
      "source": [
        "X_train, X_test, y_train, y_test = train_test_split(X_reduced, y_reduced, test_size=0.6, random_state=10)\n",
        "X_train_val, X_test_val, y_train_val, y_test_val = train_test_split(X_train, y_train, test_size=0.5, random_state=42)"
      ]
    },
    {
      "cell_type": "code",
      "execution_count": null,
      "metadata": {
        "colab": {
          "base_uri": "https://localhost:8080/"
        },
        "id": "kK0xhmIeFyaC",
        "outputId": "96e00730-d293-41ce-de0d-8e6789a0ecf4"
      },
      "outputs": [
        {
          "output_type": "stream",
          "name": "stdout",
          "text": [
            "[0]\ttrain-auc:0.64117\tvalidation-auc:0.64051\n",
            "[10]\ttrain-auc:0.70362\tvalidation-auc:0.70240\n",
            "[20]\ttrain-auc:0.71092\tvalidation-auc:0.70939\n",
            "[30]\ttrain-auc:0.71865\tvalidation-auc:0.71736\n",
            "[40]\ttrain-auc:0.72535\tvalidation-auc:0.72407\n",
            "[50]\ttrain-auc:0.73095\tvalidation-auc:0.72960\n",
            "[60]\ttrain-auc:0.73714\tvalidation-auc:0.73585\n",
            "[70]\ttrain-auc:0.74446\tvalidation-auc:0.74319\n",
            "[80]\ttrain-auc:0.75013\tvalidation-auc:0.74888\n",
            "[90]\ttrain-auc:0.75599\tvalidation-auc:0.75467\n",
            "[100]\ttrain-auc:0.76149\tvalidation-auc:0.76028\n",
            "[110]\ttrain-auc:0.76708\tvalidation-auc:0.76586\n",
            "[120]\ttrain-auc:0.77230\tvalidation-auc:0.77102\n",
            "[130]\ttrain-auc:0.77696\tvalidation-auc:0.77562\n",
            "[140]\ttrain-auc:0.78178\tvalidation-auc:0.78049\n",
            "[150]\ttrain-auc:0.78609\tvalidation-auc:0.78470\n",
            "[160]\ttrain-auc:0.79041\tvalidation-auc:0.78910\n",
            "[170]\ttrain-auc:0.79414\tvalidation-auc:0.79272\n",
            "[180]\ttrain-auc:0.79783\tvalidation-auc:0.79646\n",
            "[190]\ttrain-auc:0.80136\tvalidation-auc:0.79992\n",
            "[200]\ttrain-auc:0.80498\tvalidation-auc:0.80348\n",
            "[210]\ttrain-auc:0.80796\tvalidation-auc:0.80645\n",
            "[220]\ttrain-auc:0.81111\tvalidation-auc:0.80951\n",
            "[230]\ttrain-auc:0.81437\tvalidation-auc:0.81273\n",
            "[240]\ttrain-auc:0.81729\tvalidation-auc:0.81556\n",
            "[250]\ttrain-auc:0.82034\tvalidation-auc:0.81869\n",
            "[260]\ttrain-auc:0.82283\tvalidation-auc:0.82111\n",
            "[270]\ttrain-auc:0.82551\tvalidation-auc:0.82373\n",
            "[280]\ttrain-auc:0.82815\tvalidation-auc:0.82637\n",
            "[290]\ttrain-auc:0.83069\tvalidation-auc:0.82899\n",
            "[300]\ttrain-auc:0.83321\tvalidation-auc:0.83150\n",
            "[310]\ttrain-auc:0.83568\tvalidation-auc:0.83394\n",
            "[320]\ttrain-auc:0.83786\tvalidation-auc:0.83606\n",
            "[330]\ttrain-auc:0.83995\tvalidation-auc:0.83806\n",
            "[340]\ttrain-auc:0.84196\tvalidation-auc:0.84007\n",
            "[350]\ttrain-auc:0.84406\tvalidation-auc:0.84214\n",
            "[360]\ttrain-auc:0.84603\tvalidation-auc:0.84409\n",
            "[370]\ttrain-auc:0.84807\tvalidation-auc:0.84606\n",
            "[380]\ttrain-auc:0.84982\tvalidation-auc:0.84775\n",
            "[390]\ttrain-auc:0.85172\tvalidation-auc:0.84962\n",
            "[400]\ttrain-auc:0.85373\tvalidation-auc:0.85162\n",
            "[410]\ttrain-auc:0.85542\tvalidation-auc:0.85332\n",
            "[420]\ttrain-auc:0.85725\tvalidation-auc:0.85516\n",
            "[430]\ttrain-auc:0.85909\tvalidation-auc:0.85696\n",
            "[440]\ttrain-auc:0.86074\tvalidation-auc:0.85867\n",
            "[450]\ttrain-auc:0.86221\tvalidation-auc:0.86014\n",
            "[460]\ttrain-auc:0.86384\tvalidation-auc:0.86174\n",
            "[470]\ttrain-auc:0.86543\tvalidation-auc:0.86334\n",
            "[480]\ttrain-auc:0.86699\tvalidation-auc:0.86482\n",
            "[490]\ttrain-auc:0.86842\tvalidation-auc:0.86628\n",
            "[499]\ttrain-auc:0.86978\tvalidation-auc:0.86757\n",
            "Test Accuracy: 0.48188888888888887\n",
            "val Accuracy: 0.6460833333333333\n"
          ]
        }
      ],
      "source": [
        "import xgboost as xgb\n",
        "\n",
        "dtrain = xgb.DMatrix(X_train, label=y_train)\n",
        "dval = xgb.DMatrix(X_train_val, label=y_train_val)\n",
        "\n",
        "params = {\n",
        "    'objective': 'multi:softprob',\n",
        "    'num_class': 4,\n",
        "    'eval_metric': 'auc',\n",
        "    'max_depth': 4,\n",
        "    'learning_rate': 0.05,\n",
        "    'subsample': 0.6,\n",
        "    'colsample_bytree': 0.6,\n",
        "    'reg_alpha': 0.4,\n",
        "    'reg_lambda': 0.4,\n",
        "    'random_state': 42\n",
        "}\n",
        "\n",
        "\n",
        "xgb_model = xgb.train(\n",
        "    params,\n",
        "    dtrain,\n",
        "    num_boost_round=500,\n",
        "    evals=[(dtrain, 'train'), (dval, 'validation')],\n",
        "    early_stopping_rounds=10,\n",
        "    verbose_eval=10\n",
        ")\n",
        "dtest = xgb.DMatrix(X_test)\n",
        "ytest = xgb.DMatrix(y_test)\n",
        "test_pro = xgb_model.predict(dtest)\n",
        "test_pre = np.argmax(test_pro, axis=1)\n",
        "\n",
        "\n",
        "\n",
        "test_accuracy = np.sum(test_pre == y_test) / len(y_test)\n",
        "print(\"Test Accuracy:\", test_accuracy)\n",
        "\n",
        "\n",
        "dtest_val = xgb.DMatrix(X_test_val)\n",
        "ytest_val = xgb.DMatrix(y_test_val)\n",
        "\n",
        "test_pro_val = xgb_model.predict(dtest_val)\n",
        "test_pre_val = np.argmax(test_pro_val, axis=1)\n",
        "\n",
        "\n",
        "\n",
        "test_accuracy = np.sum(test_pre_val == y_test_val) / len(y_test_val)\n",
        "print(\"val Accuracy:\", test_accuracy)"
      ]
    },
    {
      "cell_type": "code",
      "source": [
        "import xgboost as xgb\n",
        "\n",
        "dtrain = xgb.DMatrix(X_train, label=y_train)\n",
        "dval = xgb.DMatrix(X_train_val, label=y_train_val)\n",
        "\n",
        "params = {\n",
        "    'objective': 'multi:softprob',\n",
        "    'num_class': 4,\n",
        "    'eval_metric': 'auc',\n",
        "    'max_depth': 4,\n",
        "    'learning_rate': 0.1,\n",
        "    'subsample': 0.6,\n",
        "    'colsample_bytree': 0.8,\n",
        "    'reg_alpha': 0.5,\n",
        "    'reg_lambda': 0.5,\n",
        "    'random_state': 42\n",
        "}\n",
        "\n",
        "\n",
        "xgb_model = xgb.train(\n",
        "    params,\n",
        "    dtrain,\n",
        "    num_boost_round=200,\n",
        "    evals=[(dtrain, 'train'), (dval, 'validation')],\n",
        "    early_stopping_rounds=10,\n",
        "    verbose_eval=10\n",
        ")\n",
        "dtest = xgb.DMatrix(X_test)\n",
        "ytest = xgb.DMatrix(y_test)\n",
        "test_pro = xgb_model.predict(dtest)\n",
        "test_pre = np.argmax(test_pro, axis=1)\n",
        "\n",
        "\n",
        "\n",
        "test_accuracy = np.sum(test_pre == y_test) / len(y_test)\n",
        "print(\"Test Accuracy:\", test_accuracy)\n",
        "\n",
        "\n",
        "dtest_val = xgb.DMatrix(X_test_val)\n",
        "ytest_val = xgb.DMatrix(y_test_val)\n",
        "\n",
        "test_pro_val = xgb_model.predict(dtest_val)\n",
        "test_pre_val = np.argmax(test_pro_val, axis=1)\n",
        "\n",
        "\n",
        "\n",
        "test_accuracy = np.sum(test_pre_val == y_test_val) / len(y_test_val)\n",
        "print(\"val Accuracy:\", test_accuracy)"
      ],
      "metadata": {
        "colab": {
          "base_uri": "https://localhost:8080/"
        },
        "id": "JonLD8J_E2rZ",
        "outputId": "1e9daf8d-96a4-46ef-82d8-db315faf3e86"
      },
      "execution_count": null,
      "outputs": [
        {
          "output_type": "stream",
          "name": "stdout",
          "text": [
            "[0]\ttrain-auc:0.66163\tvalidation-auc:0.66307\n",
            "[10]\ttrain-auc:0.70044\tvalidation-auc:0.70155\n",
            "[20]\ttrain-auc:0.72008\tvalidation-auc:0.72126\n",
            "[30]\ttrain-auc:0.73522\tvalidation-auc:0.73624\n",
            "[40]\ttrain-auc:0.74880\tvalidation-auc:0.74971\n",
            "[50]\ttrain-auc:0.76040\tvalidation-auc:0.76140\n",
            "[60]\ttrain-auc:0.77166\tvalidation-auc:0.77246\n",
            "[70]\ttrain-auc:0.78071\tvalidation-auc:0.78146\n",
            "[80]\ttrain-auc:0.78924\tvalidation-auc:0.78962\n",
            "[90]\ttrain-auc:0.79642\tvalidation-auc:0.79666\n",
            "[100]\ttrain-auc:0.80326\tvalidation-auc:0.80349\n",
            "[110]\ttrain-auc:0.80932\tvalidation-auc:0.80956\n",
            "[120]\ttrain-auc:0.81544\tvalidation-auc:0.81559\n",
            "[130]\ttrain-auc:0.82093\tvalidation-auc:0.82099\n",
            "[140]\ttrain-auc:0.82639\tvalidation-auc:0.82636\n",
            "[150]\ttrain-auc:0.83158\tvalidation-auc:0.83149\n",
            "[160]\ttrain-auc:0.83632\tvalidation-auc:0.83607\n",
            "[170]\ttrain-auc:0.84042\tvalidation-auc:0.84020\n",
            "[180]\ttrain-auc:0.84472\tvalidation-auc:0.84443\n",
            "[190]\ttrain-auc:0.84868\tvalidation-auc:0.84844\n",
            "[199]\ttrain-auc:0.85189\tvalidation-auc:0.85165\n",
            "Test Accuracy: 0.4752222222222222\n",
            "val Accuracy: 0.6207916666666666\n"
          ]
        }
      ]
    },
    {
      "cell_type": "code",
      "execution_count": null,
      "metadata": {
        "id": "KpNgc3NZF3iw"
      },
      "outputs": [],
      "source": [
        "import xgboost as xgb\n",
        "\n",
        "xgb_model = xgb.XGBClassifier()\n",
        "xgb_model.fit(X_train, y_train)\n",
        "\n",
        "val_predictions = xgb_model.predict(X_test_val)\n",
        "val_accuracy = np.sum(val_predictions == y_test_val) / len(y_test_val)\n",
        "print(\"Validation Accuracy:\", val_accuracy)\n",
        "\n",
        "test_predictions = xgb_model.predict(X_test)\n",
        "test_accuracy = np.sum(test_predictions == y_test) / len(y_test)\n",
        "print(\"Test Accuracy:\", test_accuracy)"
      ]
    },
    {
      "cell_type": "code",
      "execution_count": null,
      "metadata": {
        "id": "CiBV-iozF56E"
      },
      "outputs": [],
      "source": [
        "import matplotlib.pyplot as plt\n",
        "from sklearn.decomposition import PCA\n",
        "\n",
        "pca = PCA(n_components=2)\n",
        "X_pca = pca.fit_transform(X_reduced)"
      ]
    },
    {
      "cell_type": "code",
      "execution_count": null,
      "metadata": {
        "id": "Sqn9n-XrF89k"
      },
      "outputs": [],
      "source": [
        "# Plotting the clusters\n",
        "plt.scatter(X_pca[:, 0], X_pca[:, 1], c=kmeans.labels_, cmap='viridis')\n",
        "plt.xlabel('Principal Component 1')\n",
        "plt.ylabel('Principal Component 2')\n",
        "plt.title('K-means Clustering (PCA)')\n",
        "plt.show()"
      ]
    }
  ],
  "metadata": {
    "colab": {
      "provenance": []
    },
    "kernelspec": {
      "display_name": "Python 3",
      "name": "python3"
    },
    "language_info": {
      "name": "python"
    }
  },
  "nbformat": 4,
  "nbformat_minor": 0
}