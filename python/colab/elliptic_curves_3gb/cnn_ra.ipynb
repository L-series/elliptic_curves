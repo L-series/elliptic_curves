{
  "nbformat": 4,
  "nbformat_minor": 0,
  "metadata": {
    "colab": {
      "provenance": []
    },
    "kernelspec": {
      "name": "python3",
      "display_name": "Python 3"
    },
    "language_info": {
      "name": "python"
    }
  },
  "cells": [
    {
      "cell_type": "code",
      "execution_count": null,
      "metadata": {
        "colab": {
          "base_uri": "https://localhost:8080/"
        },
        "id": "FEx9TMvO5P9Y",
        "outputId": "6bc541cf-9dd6-49ff-90e6-be10348a6b77"
      },
      "outputs": [
        {
          "output_type": "stream",
          "name": "stdout",
          "text": [
            "Looking in indexes: https://pypi.org/simple, https://us-python.pkg.dev/colab-wheels/public/simple/\n",
            "Requirement already satisfied: kaggle in /usr/local/lib/python3.9/dist-packages (1.5.13)\n",
            "Requirement already satisfied: six>=1.10 in /usr/local/lib/python3.9/dist-packages (from kaggle) (1.16.0)\n",
            "Requirement already satisfied: urllib3 in /usr/local/lib/python3.9/dist-packages (from kaggle) (1.26.15)\n",
            "Requirement already satisfied: requests in /usr/local/lib/python3.9/dist-packages (from kaggle) (2.27.1)\n",
            "Requirement already satisfied: python-dateutil in /usr/local/lib/python3.9/dist-packages (from kaggle) (2.8.2)\n",
            "Requirement already satisfied: certifi in /usr/local/lib/python3.9/dist-packages (from kaggle) (2022.12.7)\n",
            "Requirement already satisfied: python-slugify in /usr/local/lib/python3.9/dist-packages (from kaggle) (8.0.1)\n",
            "Requirement already satisfied: tqdm in /usr/local/lib/python3.9/dist-packages (from kaggle) (4.65.0)\n",
            "Requirement already satisfied: text-unidecode>=1.3 in /usr/local/lib/python3.9/dist-packages (from python-slugify->kaggle) (1.3)\n",
            "Requirement already satisfied: idna<4,>=2.5 in /usr/local/lib/python3.9/dist-packages (from requests->kaggle) (3.4)\n",
            "Requirement already satisfied: charset-normalizer~=2.0.0 in /usr/local/lib/python3.9/dist-packages (from requests->kaggle) (2.0.12)\n"
          ]
        }
      ],
      "source": [
        "! pip install kaggle"
      ]
    },
    {
      "cell_type": "code",
      "source": [
        "from google.colab import drive\n",
        "drive.mount('/content/drive')\n",
        "\n",
        "! cp /content/drive/MyDrive/kaggle.json ~/\n",
        "! mkdir ~/.kaggle\n",
        "! mv ~/kaggle.json ~/.kaggle/kaggle.json\n",
        "! chmod 600 ~/.kaggle/kaggle.json"
      ],
      "metadata": {
        "colab": {
          "base_uri": "https://localhost:8080/"
        },
        "id": "f_SDtzDT5aa7",
        "outputId": "485842da-f534-4d15-ae52-cec8fa05fee7"
      },
      "execution_count": null,
      "outputs": [
        {
          "output_type": "stream",
          "name": "stdout",
          "text": [
            "Mounted at /content/drive\n"
          ]
        }
      ]
    },
    {
      "cell_type": "code",
      "source": [
        "! kaggle datasets download -d eldarsultanow/ml-bsd-dataset"
      ],
      "metadata": {
        "colab": {
          "base_uri": "https://localhost:8080/"
        },
        "id": "sVeNeuN55koM",
        "outputId": "8d4b8515-7664-414f-9323-6960bfd2a47d"
      },
      "execution_count": null,
      "outputs": [
        {
          "output_type": "stream",
          "name": "stdout",
          "text": [
            "Downloading ml-bsd-dataset.zip to /content\n",
            " 99% 1.49G/1.51G [00:13<00:00, 103MB/s]\n",
            "100% 1.51G/1.51G [00:13<00:00, 120MB/s]\n"
          ]
        }
      ]
    },
    {
      "cell_type": "code",
      "source": [
        "! unzip ml-bsd-dataset.zip"
      ],
      "metadata": {
        "colab": {
          "base_uri": "https://localhost:8080/"
        },
        "id": "3D2u6rRx5nxb",
        "outputId": "bf7e3841-b4ff-4eb3-bd4d-d279bcec5828"
      },
      "execution_count": null,
      "outputs": [
        {
          "output_type": "stream",
          "name": "stdout",
          "text": [
            "Archive:  ml-bsd-dataset.zip\n",
            "  inflating: rank-vs-ap.csv          \n"
          ]
        }
      ]
    },
    {
      "cell_type": "code",
      "source": [
        "!pip install -q -U git+https://github.com/mljar/mljar-supervised.git@master"
      ],
      "metadata": {
        "colab": {
          "base_uri": "https://localhost:8080/"
        },
        "id": "_Q2uuk695rJS",
        "outputId": "086bbe4a-61d5-4b8c-d1e5-76c9f227e380"
      },
      "execution_count": null,
      "outputs": [
        {
          "output_type": "stream",
          "name": "stdout",
          "text": [
            "  Preparing metadata (setup.py) ... \u001b[?25l\u001b[?25hdone\n",
            "\u001b[2K     \u001b[90m━━━━━━━━━━━━━━━━━━━━━━━━━━━━━━━━━━━━━━━━\u001b[0m \u001b[32m76.6/76.6 MB\u001b[0m \u001b[31m12.0 MB/s\u001b[0m eta \u001b[36m0:00:00\u001b[0m\n",
            "\u001b[2K     \u001b[90m━━━━━━━━━━━━━━━━━━━━━━━━━━━━━━━━━━━━━━━━\u001b[0m \u001b[32m90.5/90.5 KB\u001b[0m \u001b[31m13.1 MB/s\u001b[0m eta \u001b[36m0:00:00\u001b[0m\n",
            "\u001b[2K     \u001b[90m━━━━━━━━━━━━━━━━━━━━━━━━━━━━━━━━━━━━━━\u001b[0m \u001b[32m572.4/572.4 KB\u001b[0m \u001b[31m51.5 MB/s\u001b[0m eta \u001b[36m0:00:00\u001b[0m\n",
            "\u001b[2K     \u001b[90m━━━━━━━━━━━━━━━━━━━━━━━━━━━━━━━━━━━━━━━━\u001b[0m \u001b[32m81.2/81.2 KB\u001b[0m \u001b[31m11.4 MB/s\u001b[0m eta \u001b[36m0:00:00\u001b[0m\n",
            "\u001b[2K     \u001b[90m━━━━━━━━━━━━━━━━━━━━━━━━━━━━━━━━━━━━━━\u001b[0m \u001b[32m365.3/365.3 KB\u001b[0m \u001b[31m36.6 MB/s\u001b[0m eta \u001b[36m0:00:00\u001b[0m\n",
            "\u001b[2K     \u001b[90m━━━━━━━━━━━━━━━━━━━━━━━━━━━━━━━━━━━━━━\u001b[0m \u001b[32m212.2/212.2 KB\u001b[0m \u001b[31m25.0 MB/s\u001b[0m eta \u001b[36m0:00:00\u001b[0m\n",
            "\u001b[2K     \u001b[90m━━━━━━━━━━━━━━━━━━━━━━━━━━━━━━━━━━━━━━━━\u001b[0m \u001b[32m78.7/78.7 KB\u001b[0m \u001b[31m9.9 MB/s\u001b[0m eta \u001b[36m0:00:00\u001b[0m\n",
            "\u001b[?25h  Building wheel for mljar-supervised (setup.py) ... \u001b[?25l\u001b[?25hdone\n"
          ]
        }
      ]
    },
    {
      "cell_type": "code",
      "source": [
        "import pandas as pd\n",
        "import numpy as np\n",
        "import matplotlib.pyplot as plt\n",
        "from sklearn.model_selection import train_test_split\n",
        "from tensorflow.keras.models import Sequential\n",
        "from tensorflow.keras.layers import Dense, Dropout, Conv1D, MaxPooling1D, Flatten\n",
        "from tensorflow.keras.callbacks import EarlyStopping"
      ],
      "metadata": {
        "id": "sSbsXxex50EM"
      },
      "execution_count": null,
      "outputs": []
    },
    {
      "cell_type": "code",
      "source": [
        "df = pd.read_csv(\"rank-vs-ap.csv\", index_col=False)"
      ],
      "metadata": {
        "id": "AFj052sP58-U"
      },
      "execution_count": null,
      "outputs": []
    },
    {
      "cell_type": "code",
      "source": [
        "df.head()"
      ],
      "metadata": {
        "colab": {
          "base_uri": "https://localhost:8080/",
          "height": 299
        },
        "id": "6zko3dlh6Dn8",
        "outputId": "33a2d767-4136-4799-cf9a-9101e94727e4"
      },
      "execution_count": null,
      "outputs": [
        {
          "output_type": "execute_result",
          "data": {
            "text/plain": [
              "   rank      ap_1      ap_2      ap_3      ap_4      ap_5      ap_6      ap_7  \\\n",
              "0     1  0.707107  0.000000  0.000000 -0.755929  1.809068 -1.109400  0.000000   \n",
              "1     1  0.000000  1.154701  0.000000 -0.377964  0.000000  0.554700  0.727607   \n",
              "2     1  0.707107  0.000000 -1.341641  0.755929 -1.206045 -1.664101 -0.242536   \n",
              "3     0 -0.707107  0.000000  0.000000  1.889822 -0.301511  0.554700 -0.970143   \n",
              "4     1 -0.707107 -1.154701  0.894427 -0.377964  0.000000 -0.554700 -0.970143   \n",
              "\n",
              "       ap_8      ap_9  ...   ap_1218   ap_1219   ap_1220   ap_1221   ap_1222  \\\n",
              "0  0.917663 -0.417029  ... -0.553582 -1.116551 -1.196781 -0.974837 -1.707961   \n",
              "1  1.835326  1.668115  ...  0.624038 -1.186964  1.729801 -1.869276  0.934355   \n",
              "2  0.917663 -0.625543  ...  0.312019 -1.599384  1.035869  1.276334 -0.974542   \n",
              "3  1.147079  1.251086  ... -0.161042 -1.850859  1.387864 -0.291446 -0.341592   \n",
              "4  1.835326  0.000000  ... -1.892245 -1.549089 -0.100570 -0.422095  0.713325   \n",
              "\n",
              "    ap_1223   ap_1224   ap_1225   ap_1226   ap_1227  \n",
              "0 -0.311200 -1.696032 -0.762636 -0.371096  0.421075  \n",
              "1 -1.686506  0.662356  1.204162 -0.742193 -0.781997  \n",
              "2 -0.240929  1.224354 -0.672324  0.671985  0.290742  \n",
              "3  0.090349 -0.832962  0.642219  1.404148  1.022611  \n",
              "4  1.023950 -1.264497  0.070243 -1.514474  0.401024  \n",
              "\n",
              "[5 rows x 1228 columns]"
            ],
            "text/html": [
              "\n",
              "  <div id=\"df-f2718cad-cd2a-453c-8df5-5e5d6b940f3f\">\n",
              "    <div class=\"colab-df-container\">\n",
              "      <div>\n",
              "<style scoped>\n",
              "    .dataframe tbody tr th:only-of-type {\n",
              "        vertical-align: middle;\n",
              "    }\n",
              "\n",
              "    .dataframe tbody tr th {\n",
              "        vertical-align: top;\n",
              "    }\n",
              "\n",
              "    .dataframe thead th {\n",
              "        text-align: right;\n",
              "    }\n",
              "</style>\n",
              "<table border=\"1\" class=\"dataframe\">\n",
              "  <thead>\n",
              "    <tr style=\"text-align: right;\">\n",
              "      <th></th>\n",
              "      <th>rank</th>\n",
              "      <th>ap_1</th>\n",
              "      <th>ap_2</th>\n",
              "      <th>ap_3</th>\n",
              "      <th>ap_4</th>\n",
              "      <th>ap_5</th>\n",
              "      <th>ap_6</th>\n",
              "      <th>ap_7</th>\n",
              "      <th>ap_8</th>\n",
              "      <th>ap_9</th>\n",
              "      <th>...</th>\n",
              "      <th>ap_1218</th>\n",
              "      <th>ap_1219</th>\n",
              "      <th>ap_1220</th>\n",
              "      <th>ap_1221</th>\n",
              "      <th>ap_1222</th>\n",
              "      <th>ap_1223</th>\n",
              "      <th>ap_1224</th>\n",
              "      <th>ap_1225</th>\n",
              "      <th>ap_1226</th>\n",
              "      <th>ap_1227</th>\n",
              "    </tr>\n",
              "  </thead>\n",
              "  <tbody>\n",
              "    <tr>\n",
              "      <th>0</th>\n",
              "      <td>1</td>\n",
              "      <td>0.707107</td>\n",
              "      <td>0.000000</td>\n",
              "      <td>0.000000</td>\n",
              "      <td>-0.755929</td>\n",
              "      <td>1.809068</td>\n",
              "      <td>-1.109400</td>\n",
              "      <td>0.000000</td>\n",
              "      <td>0.917663</td>\n",
              "      <td>-0.417029</td>\n",
              "      <td>...</td>\n",
              "      <td>-0.553582</td>\n",
              "      <td>-1.116551</td>\n",
              "      <td>-1.196781</td>\n",
              "      <td>-0.974837</td>\n",
              "      <td>-1.707961</td>\n",
              "      <td>-0.311200</td>\n",
              "      <td>-1.696032</td>\n",
              "      <td>-0.762636</td>\n",
              "      <td>-0.371096</td>\n",
              "      <td>0.421075</td>\n",
              "    </tr>\n",
              "    <tr>\n",
              "      <th>1</th>\n",
              "      <td>1</td>\n",
              "      <td>0.000000</td>\n",
              "      <td>1.154701</td>\n",
              "      <td>0.000000</td>\n",
              "      <td>-0.377964</td>\n",
              "      <td>0.000000</td>\n",
              "      <td>0.554700</td>\n",
              "      <td>0.727607</td>\n",
              "      <td>1.835326</td>\n",
              "      <td>1.668115</td>\n",
              "      <td>...</td>\n",
              "      <td>0.624038</td>\n",
              "      <td>-1.186964</td>\n",
              "      <td>1.729801</td>\n",
              "      <td>-1.869276</td>\n",
              "      <td>0.934355</td>\n",
              "      <td>-1.686506</td>\n",
              "      <td>0.662356</td>\n",
              "      <td>1.204162</td>\n",
              "      <td>-0.742193</td>\n",
              "      <td>-0.781997</td>\n",
              "    </tr>\n",
              "    <tr>\n",
              "      <th>2</th>\n",
              "      <td>1</td>\n",
              "      <td>0.707107</td>\n",
              "      <td>0.000000</td>\n",
              "      <td>-1.341641</td>\n",
              "      <td>0.755929</td>\n",
              "      <td>-1.206045</td>\n",
              "      <td>-1.664101</td>\n",
              "      <td>-0.242536</td>\n",
              "      <td>0.917663</td>\n",
              "      <td>-0.625543</td>\n",
              "      <td>...</td>\n",
              "      <td>0.312019</td>\n",
              "      <td>-1.599384</td>\n",
              "      <td>1.035869</td>\n",
              "      <td>1.276334</td>\n",
              "      <td>-0.974542</td>\n",
              "      <td>-0.240929</td>\n",
              "      <td>1.224354</td>\n",
              "      <td>-0.672324</td>\n",
              "      <td>0.671985</td>\n",
              "      <td>0.290742</td>\n",
              "    </tr>\n",
              "    <tr>\n",
              "      <th>3</th>\n",
              "      <td>0</td>\n",
              "      <td>-0.707107</td>\n",
              "      <td>0.000000</td>\n",
              "      <td>0.000000</td>\n",
              "      <td>1.889822</td>\n",
              "      <td>-0.301511</td>\n",
              "      <td>0.554700</td>\n",
              "      <td>-0.970143</td>\n",
              "      <td>1.147079</td>\n",
              "      <td>1.251086</td>\n",
              "      <td>...</td>\n",
              "      <td>-0.161042</td>\n",
              "      <td>-1.850859</td>\n",
              "      <td>1.387864</td>\n",
              "      <td>-0.291446</td>\n",
              "      <td>-0.341592</td>\n",
              "      <td>0.090349</td>\n",
              "      <td>-0.832962</td>\n",
              "      <td>0.642219</td>\n",
              "      <td>1.404148</td>\n",
              "      <td>1.022611</td>\n",
              "    </tr>\n",
              "    <tr>\n",
              "      <th>4</th>\n",
              "      <td>1</td>\n",
              "      <td>-0.707107</td>\n",
              "      <td>-1.154701</td>\n",
              "      <td>0.894427</td>\n",
              "      <td>-0.377964</td>\n",
              "      <td>0.000000</td>\n",
              "      <td>-0.554700</td>\n",
              "      <td>-0.970143</td>\n",
              "      <td>1.835326</td>\n",
              "      <td>0.000000</td>\n",
              "      <td>...</td>\n",
              "      <td>-1.892245</td>\n",
              "      <td>-1.549089</td>\n",
              "      <td>-0.100570</td>\n",
              "      <td>-0.422095</td>\n",
              "      <td>0.713325</td>\n",
              "      <td>1.023950</td>\n",
              "      <td>-1.264497</td>\n",
              "      <td>0.070243</td>\n",
              "      <td>-1.514474</td>\n",
              "      <td>0.401024</td>\n",
              "    </tr>\n",
              "  </tbody>\n",
              "</table>\n",
              "<p>5 rows × 1228 columns</p>\n",
              "</div>\n",
              "      <button class=\"colab-df-convert\" onclick=\"convertToInteractive('df-f2718cad-cd2a-453c-8df5-5e5d6b940f3f')\"\n",
              "              title=\"Convert this dataframe to an interactive table.\"\n",
              "              style=\"display:none;\">\n",
              "        \n",
              "  <svg xmlns=\"http://www.w3.org/2000/svg\" height=\"24px\"viewBox=\"0 0 24 24\"\n",
              "       width=\"24px\">\n",
              "    <path d=\"M0 0h24v24H0V0z\" fill=\"none\"/>\n",
              "    <path d=\"M18.56 5.44l.94 2.06.94-2.06 2.06-.94-2.06-.94-.94-2.06-.94 2.06-2.06.94zm-11 1L8.5 8.5l.94-2.06 2.06-.94-2.06-.94L8.5 2.5l-.94 2.06-2.06.94zm10 10l.94 2.06.94-2.06 2.06-.94-2.06-.94-.94-2.06-.94 2.06-2.06.94z\"/><path d=\"M17.41 7.96l-1.37-1.37c-.4-.4-.92-.59-1.43-.59-.52 0-1.04.2-1.43.59L10.3 9.45l-7.72 7.72c-.78.78-.78 2.05 0 2.83L4 21.41c.39.39.9.59 1.41.59.51 0 1.02-.2 1.41-.59l7.78-7.78 2.81-2.81c.8-.78.8-2.07 0-2.86zM5.41 20L4 18.59l7.72-7.72 1.47 1.35L5.41 20z\"/>\n",
              "  </svg>\n",
              "      </button>\n",
              "      \n",
              "  <style>\n",
              "    .colab-df-container {\n",
              "      display:flex;\n",
              "      flex-wrap:wrap;\n",
              "      gap: 12px;\n",
              "    }\n",
              "\n",
              "    .colab-df-convert {\n",
              "      background-color: #E8F0FE;\n",
              "      border: none;\n",
              "      border-radius: 50%;\n",
              "      cursor: pointer;\n",
              "      display: none;\n",
              "      fill: #1967D2;\n",
              "      height: 32px;\n",
              "      padding: 0 0 0 0;\n",
              "      width: 32px;\n",
              "    }\n",
              "\n",
              "    .colab-df-convert:hover {\n",
              "      background-color: #E2EBFA;\n",
              "      box-shadow: 0px 1px 2px rgba(60, 64, 67, 0.3), 0px 1px 3px 1px rgba(60, 64, 67, 0.15);\n",
              "      fill: #174EA6;\n",
              "    }\n",
              "\n",
              "    [theme=dark] .colab-df-convert {\n",
              "      background-color: #3B4455;\n",
              "      fill: #D2E3FC;\n",
              "    }\n",
              "\n",
              "    [theme=dark] .colab-df-convert:hover {\n",
              "      background-color: #434B5C;\n",
              "      box-shadow: 0px 1px 3px 1px rgba(0, 0, 0, 0.15);\n",
              "      filter: drop-shadow(0px 1px 2px rgba(0, 0, 0, 0.3));\n",
              "      fill: #FFFFFF;\n",
              "    }\n",
              "  </style>\n",
              "\n",
              "      <script>\n",
              "        const buttonEl =\n",
              "          document.querySelector('#df-f2718cad-cd2a-453c-8df5-5e5d6b940f3f button.colab-df-convert');\n",
              "        buttonEl.style.display =\n",
              "          google.colab.kernel.accessAllowed ? 'block' : 'none';\n",
              "\n",
              "        async function convertToInteractive(key) {\n",
              "          const element = document.querySelector('#df-f2718cad-cd2a-453c-8df5-5e5d6b940f3f');\n",
              "          const dataTable =\n",
              "            await google.colab.kernel.invokeFunction('convertToInteractive',\n",
              "                                                     [key], {});\n",
              "          if (!dataTable) return;\n",
              "\n",
              "          const docLinkHtml = 'Like what you see? Visit the ' +\n",
              "            '<a target=\"_blank\" href=https://colab.research.google.com/notebooks/data_table.ipynb>data table notebook</a>'\n",
              "            + ' to learn more about interactive tables.';\n",
              "          element.innerHTML = '';\n",
              "          dataTable['output_type'] = 'display_data';\n",
              "          await google.colab.output.renderOutput(dataTable, element);\n",
              "          const docLink = document.createElement('div');\n",
              "          docLink.innerHTML = docLinkHtml;\n",
              "          element.appendChild(docLink);\n",
              "        }\n",
              "      </script>\n",
              "    </div>\n",
              "  </div>\n",
              "  "
            ]
          },
          "metadata": {},
          "execution_count": 25
        }
      ]
    },
    {
      "cell_type": "code",
      "source": [
        "X = df.iloc[:, 1:].values\n",
        "y = df.iloc[:, 0].values"
      ],
      "metadata": {
        "id": "_1CA5Ka46GmT"
      },
      "execution_count": null,
      "outputs": []
    },
    {
      "cell_type": "code",
      "source": [
        "X_train, X_test, y_train, y_test = train_test_split(X, y, test_size=0.2, random_state=42)\n"
      ],
      "metadata": {
        "id": "5v-4Jch56Jic"
      },
      "execution_count": null,
      "outputs": []
    },
    {
      "cell_type": "code",
      "source": [
        "exclude_ranks = [1, 2, 3, 4, 5, 6]  \n",
        "X = X[~y.isin(exclude_ranks)]\n",
        "y = y[~y.isin(exclude_ranks)]"
      ],
      "metadata": {
        "id": "zrgHLrZY6Lek"
      },
      "execution_count": null,
      "outputs": []
    },
    {
      "cell_type": "code",
      "source": [
        "print(X.shape)\n",
        "print(y.shape)"
      ],
      "metadata": {
        "colab": {
          "base_uri": "https://localhost:8080/"
        },
        "id": "tzcmOJQY7aUu",
        "outputId": "583931d1-c250-4b51-bcba-c3d0aac11c93"
      },
      "execution_count": null,
      "outputs": [
        {
          "output_type": "stream",
          "name": "stdout",
          "text": [
            "(42291, 1227)\n",
            "(42291, 2)\n"
          ]
        }
      ]
    },
    {
      "cell_type": "code",
      "source": [
        "X_train = X_train.reshape(X_train.shape[0], X_train.shape[1], 1)\n",
        "X_test = X_test.reshape(X_test.shape[0], X_test.shape[1], 1)\n"
      ],
      "metadata": {
        "id": "cpXs1q0m8_4y"
      },
      "execution_count": null,
      "outputs": []
    },
    {
      "cell_type": "code",
      "source": [
        "model = Sequential()\n",
        "model.add(Conv1D(filters=32, kernel_size=3, activation='relu', input_shape=(X_train.shape[1], 1)))\n",
        "model.add(MaxPooling1D(pool_size=2))\n",
        "model.add(Dropout(0.2))\n",
        "model.add(Conv1D(filters=32, kernel_size=3, activation='relu'))\n",
        "model.add(MaxPooling1D(pool_size=2))\n",
        "model.add(Dropout(0.2))\n",
        "model.add(Flatten())\n",
        "model.add(Dense(units=1, activation='sigmoid'))"
      ],
      "metadata": {
        "id": "GQ9RDbP29C0_"
      },
      "execution_count": null,
      "outputs": []
    },
    {
      "cell_type": "code",
      "source": [
        "model.compile(loss='binary_crossentropy', optimizer='adam', metrics=['accuracy'])"
      ],
      "metadata": {
        "id": "47XhOoPm9GJ_"
      },
      "execution_count": null,
      "outputs": []
    },
    {
      "cell_type": "code",
      "source": [
        "early_stopping_monitor = EarlyStopping(patience=3)\n"
      ],
      "metadata": {
        "id": "scgIU9-W9I8v"
      },
      "execution_count": null,
      "outputs": []
    },
    {
      "cell_type": "code",
      "source": [
        "history = model.fit(X_train, y_train, validation_data=(X_test, y_test), epochs=10, callbacks=[early_stopping_monitor])\n"
      ],
      "metadata": {
        "colab": {
          "base_uri": "https://localhost:8080/"
        },
        "id": "76p3aLjJ9ODh",
        "outputId": "e33fd921-2699-44c4-9d81-a82557349c03"
      },
      "execution_count": null,
      "outputs": [
        {
          "output_type": "stream",
          "name": "stdout",
          "text": [
            "Epoch 1/10\n",
            "3750/3750 [==============================] - 169s 45ms/step - loss: -194182928.0000 - accuracy: 0.4176 - val_loss: -279521824.0000 - val_accuracy: 0.4199\n",
            "Epoch 2/10\n",
            "3750/3750 [==============================] - 174s 46ms/step - loss: -414072928.0000 - accuracy: 0.4176 - val_loss: -546135104.0000 - val_accuracy: 0.4199\n",
            "Epoch 3/10\n",
            "3750/3750 [==============================] - 169s 45ms/step - loss: -748526080.0000 - accuracy: 0.4176 - val_loss: -933955968.0000 - val_accuracy: 0.4199\n",
            "Epoch 4/10\n",
            "3750/3750 [==============================] - 173s 46ms/step - loss: -1218958848.0000 - accuracy: 0.4176 - val_loss: -1462630656.0000 - val_accuracy: 0.4199\n",
            "Epoch 5/10\n",
            "3750/3750 [==============================] - 170s 45ms/step - loss: -1844185344.0000 - accuracy: 0.4176 - val_loss: -2155867136.0000 - val_accuracy: 0.4199\n",
            "Epoch 6/10\n",
            "3750/3750 [==============================] - 173s 46ms/step - loss: -2649931008.0000 - accuracy: 0.4176 - val_loss: -3037728000.0000 - val_accuracy: 0.4199\n",
            "Epoch 7/10\n",
            "3750/3750 [==============================] - 174s 46ms/step - loss: -3659194880.0000 - accuracy: 0.4176 - val_loss: -4128037120.0000 - val_accuracy: 0.4199\n",
            "Epoch 8/10\n",
            "3750/3750 [==============================] - 176s 47ms/step - loss: -4892011520.0000 - accuracy: 0.4176 - val_loss: -5448863744.0000 - val_accuracy: 0.4199\n",
            "Epoch 9/10\n",
            "3750/3750 [==============================] - 179s 48ms/step - loss: -6381190656.0000 - accuracy: 0.4176 - val_loss: -7021624832.0000 - val_accuracy: 0.4199\n",
            "Epoch 10/10\n",
            "3750/3750 [==============================] - 179s 48ms/step - loss: -8107949568.0000 - accuracy: 0.4176 - val_loss: -8821320704.0000 - val_accuracy: 0.4199\n"
          ]
        }
      ]
    },
    {
      "cell_type": "code",
      "source": [
        "y_pred = model.predict(X_test)\n"
      ],
      "metadata": {
        "colab": {
          "base_uri": "https://localhost:8080/"
        },
        "id": "EZbRKdcC9SYw",
        "outputId": "f91867e4-0823-454f-ad4f-37a19745bd33"
      },
      "execution_count": null,
      "outputs": [
        {
          "output_type": "stream",
          "name": "stdout",
          "text": [
            "938/938 [==============================] - 14s 14ms/step\n"
          ]
        }
      ]
    },
    {
      "cell_type": "code",
      "source": [
        "y_pred = np.where(y_pred > 0.5, 1, 0)\n"
      ],
      "metadata": {
        "id": "24xeWXzoFrmV"
      },
      "execution_count": null,
      "outputs": []
    },
    {
      "cell_type": "code",
      "source": [
        "accuracy = (y_pred == y_test).mean()\n",
        "print(f\"Accuracy: {accuracy:.4f}\")"
      ],
      "metadata": {
        "colab": {
          "base_uri": "https://localhost:8080/"
        },
        "id": "bEQa3buXFu0W",
        "outputId": "404c49d1-c906-4ec0-b151-3b1b7f1de261"
      },
      "execution_count": null,
      "outputs": [
        {
          "output_type": "stream",
          "name": "stdout",
          "text": [
            "Accuracy: 0.4199\n"
          ]
        }
      ]
    },
    {
      "cell_type": "code",
      "source": [
        "plt.plot(history.history['accuracy'], label='train')\n",
        "plt.plot(history.history['val_accuracy'], label='test')\n",
        "plt.title('Model Accuracy')\n",
        "plt.ylabel('Accuracy')\n",
        "plt.xlabel('Epoch')\n",
        "plt.legend()\n",
        "plt.show()"
      ],
      "metadata": {
        "id": "nkbJgPgjF2al",
        "outputId": "defbd2d9-96b8-49ed-a4e1-132f0a0b147d",
        "colab": {
          "base_uri": "https://localhost:8080/",
          "height": 472
        }
      },
      "execution_count": null,
      "outputs": [
        {
          "output_type": "display_data",
          "data": {
            "text/plain": [
              "<Figure size 640x480 with 1 Axes>"
            ],
            "image/png": "[encoded data removed]"
          },
          "metadata": {}
        }
      ]
    }
  ]
}