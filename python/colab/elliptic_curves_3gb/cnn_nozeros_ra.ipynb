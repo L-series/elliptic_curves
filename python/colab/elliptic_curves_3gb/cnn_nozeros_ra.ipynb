{
  "nbformat": 4,
  "nbformat_minor": 0,
  "metadata": {
    "colab": {
      "provenance": []
    },
    "kernelspec": {
      "name": "python3",
      "display_name": "Python 3"
    },
    "language_info": {
      "name": "python"
    }
  },
  "cells": [
    {
      "cell_type": "code",
      "execution_count": null,
      "metadata": {
        "colab": {
          "base_uri": "https://localhost:8080/"
        },
        "id": "2VBOAy1lm83-",
        "outputId": "e41bd5c6-69fb-444f-e31b-5f5ab46ed0f4"
      },
      "outputs": [
        {
          "output_type": "stream",
          "name": "stdout",
          "text": [
            "Looking in indexes: https://pypi.org/simple, https://us-python.pkg.dev/colab-wheels/public/simple/\n",
            "Requirement already satisfied: kaggle in /usr/local/lib/python3.9/dist-packages (1.5.13)\n",
            "Requirement already satisfied: urllib3 in /usr/local/lib/python3.9/dist-packages (from kaggle) (1.26.15)\n",
            "Requirement already satisfied: tqdm in /usr/local/lib/python3.9/dist-packages (from kaggle) (4.65.0)\n",
            "Requirement already satisfied: python-dateutil in /usr/local/lib/python3.9/dist-packages (from kaggle) (2.8.2)\n",
            "Requirement already satisfied: certifi in /usr/local/lib/python3.9/dist-packages (from kaggle) (2022.12.7)\n",
            "Requirement already satisfied: requests in /usr/local/lib/python3.9/dist-packages (from kaggle) (2.27.1)\n",
            "Requirement already satisfied: six>=1.10 in /usr/local/lib/python3.9/dist-packages (from kaggle) (1.16.0)\n",
            "Requirement already satisfied: python-slugify in /usr/local/lib/python3.9/dist-packages (from kaggle) (8.0.1)\n",
            "Requirement already satisfied: text-unidecode>=1.3 in /usr/local/lib/python3.9/dist-packages (from python-slugify->kaggle) (1.3)\n",
            "Requirement already satisfied: charset-normalizer~=2.0.0 in /usr/local/lib/python3.9/dist-packages (from requests->kaggle) (2.0.12)\n",
            "Requirement already satisfied: idna<4,>=2.5 in /usr/local/lib/python3.9/dist-packages (from requests->kaggle) (3.4)\n"
          ]
        }
      ],
      "source": [
        "! pip install kaggle\n"
      ]
    },
    {
      "cell_type": "code",
      "source": [
        "from google.colab import drive\n",
        "drive.mount('/content/drive')\n",
        "\n",
        "! cp /content/drive/MyDrive/kaggle.json ~/\n",
        "! mkdir ~/.kaggle\n",
        "! mv ~/kaggle.json ~/.kaggle/kaggle.json\n",
        "! chmod 600 ~/.kaggle/kaggle.json"
      ],
      "metadata": {
        "colab": {
          "base_uri": "https://localhost:8080/"
        },
        "id": "APGDUH27nU40",
        "outputId": "1115e62c-c2c6-4ab9-f53b-188c320710ef"
      },
      "execution_count": null,
      "outputs": [
        {
          "output_type": "stream",
          "name": "stdout",
          "text": [
            "Drive already mounted at /content/drive; to attempt to forcibly remount, call drive.mount(\"/content/drive\", force_remount=True).\n",
            "mkdir: cannot create directory ‘/root/.kaggle’: File exists\n"
          ]
        }
      ]
    },
    {
      "cell_type": "code",
      "source": [
        "! kaggle datasets download -d eldarsultanow/ml-bsd-dataset"
      ],
      "metadata": {
        "colab": {
          "base_uri": "https://localhost:8080/"
        },
        "id": "IJV8dU-gnXil",
        "outputId": "dcda592c-32ca-4cce-dad5-c1a2cb1e09e5"
      },
      "execution_count": null,
      "outputs": [
        {
          "output_type": "stream",
          "name": "stdout",
          "text": [
            "ml-bsd-dataset.zip: Skipping, found more recently modified local copy (use --force to force download)\n"
          ]
        }
      ]
    },
    {
      "cell_type": "code",
      "source": [
        "! unzip ml-bsd-dataset.zip"
      ],
      "metadata": {
        "colab": {
          "base_uri": "https://localhost:8080/"
        },
        "id": "jl8PEbm3nciD",
        "outputId": "2d2c4492-1730-4052-fad9-9c748e62c777"
      },
      "execution_count": null,
      "outputs": [
        {
          "output_type": "stream",
          "name": "stdout",
          "text": [
            "Archive:  ml-bsd-dataset.zip\n",
            "replace rank-vs-ap.csv? [y]es, [n]o, [A]ll, [N]one, [r]ename: n\n"
          ]
        }
      ]
    },
    {
      "cell_type": "code",
      "source": [
        "import pandas as pd\n",
        "import numpy as np\n",
        "import sympy\n",
        "from scipy.interpolate import interp1d\n",
        "from sklearn.cluster import KMeans\n",
        "from sklearn.model_selection import GridSearchCV, train_test_split\n",
        "from sklearn.metrics import mean_squared_error\n",
        "from keras.models import Sequential\n",
        "from sklearn.preprocessing import StandardScaler\n",
        "from tensorflow.keras.models import Sequential\n",
        "from tensorflow.keras.layers import Dense, Dropout, Conv1D, MaxPooling1D, Flatten\n",
        "from sklearn.ensemble import RandomForestClassifier, GradientBoostingClassifier\n",
        "from tensorflow.keras.wrappers.scikit_learn import KerasRegressor\n",
        "from keras.optimizers import SGD\n",
        "from keras.callbacks import EarlyStopping\n",
        "from sympy import prime, isprime, primerange\n",
        "import random\n",
        "import math\n",
        "from sklearn.metrics import mean_absolute_error\n",
        "\n",
        "\n",
        "\n"
      ],
      "metadata": {
        "id": "9AYw8fbEngJu"
      },
      "execution_count": null,
      "outputs": []
    },
    {
      "cell_type": "code",
      "source": [
        "df = pd.read_csv(\"rank-vs-ap.csv\", index_col=False)\n"
      ],
      "metadata": {
        "id": "3vzqgYB4ppXc"
      },
      "execution_count": null,
      "outputs": []
    },
    {
      "cell_type": "code",
      "source": [
        "from sympy import primepi\n",
        "\n",
        "def get_r_sequence(N:int):\n",
        "  pi_N = primepi(N)\n",
        "  res = [None]*pi_N\n",
        "\n",
        "  for i in range(1,pi_N+1):\n",
        "    res[i-1] = -1 + i*2/pi_N\n",
        "  return res\n",
        "\n",
        "print(len(get_r_sequence(1990)))\n",
        "print(get_r_sequence(1990))\n"
      ],
      "metadata": {
        "colab": {
          "base_uri": "https://localhost:8080/"
        },
        "id": "D-b7s688h21T",
        "outputId": "a7cd1d9f-066f-4ed6-9569-5976da647576"
      },
      "execution_count": null,
      "outputs": [
        {
          "output_type": "stream",
          "name": "stdout",
          "text": [
            "300\n",
            "[-149/150, -74/75, -49/50, -73/75, -29/30, -24/25, -143/150, -71/75, -47/50, -14/15, -139/150, -23/25, -137/150, -68/75, -9/10, -67/75, -133/150, -22/25, -131/150, -13/15, -43/50, -64/75, -127/150, -21/25, -5/6, -62/75, -41/50, -61/75, -121/150, -4/5, -119/150, -59/75, -39/50, -58/75, -23/30, -19/25, -113/150, -56/75, -37/50, -11/15, -109/150, -18/25, -107/150, -53/75, -7/10, -52/75, -103/150, -17/25, -101/150, -2/3, -33/50, -49/75, -97/150, -16/25, -19/30, -47/75, -31/50, -46/75, -91/150, -3/5, -89/150, -44/75, -29/50, -43/75, -17/30, -14/25, -83/150, -41/75, -27/50, -8/15, -79/150, -13/25, -77/150, -38/75, -1/2, -37/75, -73/150, -12/25, -71/150, -7/15, -23/50, -34/75, -67/150, -11/25, -13/30, -32/75, -21/50, -31/75, -61/150, -2/5, -59/150, -29/75, -19/50, -28/75, -11/30, -9/25, -53/150, -26/75, -17/50, -1/3, -49/150, -8/25, -47/150, -23/75, -3/10, -22/75, -43/150, -7/25, -41/150, -4/15, -13/50, -19/75, -37/150, -6/25, -7/30, -17/75, -11/50, -16/75, -31/150, -1/5, -29/150, -14/75, -9/50, -13/75, -1/6, -4/25, -23/150, -11/75, -7/50, -2/15, -19/150, -3/25, -17/150, -8/75, -1/10, -7/75, -13/150, -2/25, -11/150, -1/15, -3/50, -4/75, -7/150, -1/25, -1/30, -2/75, -1/50, -1/75, -1/150, 0, 1/150, 1/75, 1/50, 2/75, 1/30, 1/25, 7/150, 4/75, 3/50, 1/15, 11/150, 2/25, 13/150, 7/75, 1/10, 8/75, 17/150, 3/25, 19/150, 2/15, 7/50, 11/75, 23/150, 4/25, 1/6, 13/75, 9/50, 14/75, 29/150, 1/5, 31/150, 16/75, 11/50, 17/75, 7/30, 6/25, 37/150, 19/75, 13/50, 4/15, 41/150, 7/25, 43/150, 22/75, 3/10, 23/75, 47/150, 8/25, 49/150, 1/3, 17/50, 26/75, 53/150, 9/25, 11/30, 28/75, 19/50, 29/75, 59/150, 2/5, 61/150, 31/75, 21/50, 32/75, 13/30, 11/25, 67/150, 34/75, 23/50, 7/15, 71/150, 12/25, 73/150, 37/75, 1/2, 38/75, 77/150, 13/25, 79/150, 8/15, 27/50, 41/75, 83/150, 14/25, 17/30, 43/75, 29/50, 44/75, 89/150, 3/5, 91/150, 46/75, 31/50, 47/75, 19/30, 16/25, 97/150, 49/75, 33/50, 2/3, 101/150, 17/25, 103/150, 52/75, 7/10, 53/75, 107/150, 18/25, 109/150, 11/15, 37/50, 56/75, 113/150, 19/25, 23/30, 58/75, 39/50, 59/75, 119/150, 4/5, 121/150, 61/75, 41/50, 62/75, 5/6, 21/25, 127/150, 64/75, 43/50, 13/15, 131/150, 22/25, 133/150, 67/75, 9/10, 68/75, 137/150, 23/25, 139/150, 14/15, 47/50, 71/75, 143/150, 24/25, 29/30, 73/75, 49/50, 74/75, 149/150, 1]\n"
          ]
        }
      ]
    },
    {
      "cell_type": "code",
      "source": [
        "primes = [-149/150, -74/75, -49/50, -73/75, -29/30, -24/25, -143/150, -71/75, -47/50, -14/15, -139/150, -23/25, -137/150, -68/75, -9/10, -67/75, -133/150, -22/25, -131/150, -13/15, -43/50, -64/75, -127/150, -21/25, -5/6, -62/75, -41/50, -61/75, -121/150, -4/5, -119/150, -59/75, -39/50, -58/75, -23/30, -19/25, -113/150, -56/75, -37/50, -11/15, -109/150, -18/25, -107/150, -53/75, -7/10, -52/75, -103/150, -17/25, -101/150, -2/3, -33/50, -49/75, -97/150, -16/25, -19/30, -47/75, -31/50, -46/75, -91/150, -3/5, -89/150, -44/75, -29/50, -43/75, -17/30, -14/25, -83/150, -41/75, -27/50, -8/15, -79/150, -13/25, -77/150, -38/75, -1/2, -37/75, -73/150, -12/25, -71/150, -7/15, -23/50, -34/75, -67/150, -11/25, -13/30, -32/75, -21/50, -31/75, -61/150, -2/5, -59/150, -29/75, -19/50, -28/75, -11/30, -9/25, -53/150, -26/75, -17/50, -1/3, -49/150, -8/25, -47/150, -23/75, -3/10, -22/75, -43/150, -7/25, -41/150, -4/15, -13/50, -19/75, -37/150, -6/25, -7/30, -17/75, -11/50, -16/75, -31/150, -1/5, -29/150, -14/75, -9/50, -13/75, -1/6, -4/25, -23/150, -11/75, -7/50, -2/15, -19/150, -3/25, -17/150, -8/75, -1/10, -7/75, -13/150, -2/25, -11/150, -1/15, -3/50, -4/75, -7/150, -1/25, -1/30, -2/75, -1/50, -1/75, -1/150, 0, 1/150, 1/75, 1/50, 2/75, 1/30, 1/25, 7/150, 4/75, 3/50, 1/15, 11/150, 2/25, 13/150, 7/75, 1/10, 8/75, 17/150, 3/25, 19/150, 2/15, 7/50, 11/75, 23/150, 4/25, 1/6, 13/75, 9/50, 14/75, 29/150, 1/5, 31/150, 16/75, 11/50, 17/75, 7/30, 6/25, 37/150, 19/75, 13/50, 4/15, 41/150, 7/25, 43/150, 22/75, 3/10, 23/75, 47/150, 8/25, 49/150, 1/3, 17/50, 26/75, 53/150, 9/25, 11/30, 28/75, 19/50, 29/75, 59/150, 2/5, 61/150, 31/75, 21/50, 32/75, 13/30, 11/25, 67/150, 34/75, 23/50, 7/15, 71/150, 12/25, 73/150, 37/75, 1/2, 38/75, 77/150, 13/25, 79/150, 8/15, 27/50, 41/75, 83/150, 14/25, 17/30, 43/75, 29/50, 44/75, 89/150, 3/5, 91/150, 46/75, 31/50, 47/75, 19/30, 16/25, 97/150, 49/75, 33/50, 2/3, 101/150, 17/25, 103/150, 52/75, 7/10, 53/75, 107/150, 18/25, 109/150, 11/15, 37/50, 56/75, 113/150, 19/25, 23/30, 58/75, 39/50, 59/75, 119/150, 4/5, 121/150, 61/75, 41/50, 62/75, 5/6, 21/25, 127/150, 64/75, 43/50, 13/15, 131/150, 22/25, 133/150, 67/75, 9/10, 68/75, 137/150, 23/25, 139/150, 14/15, 47/50, 71/75, 143/150, 24/25, 29/30, 73/75, 49/50, 74/75, 149/150, 1]\n"
      ],
      "metadata": {
        "id": "IvjXPlamiKdj"
      },
      "execution_count": null,
      "outputs": []
    },
    {
      "cell_type": "code",
      "source": [
        "abs_prime = [abs(prime) for prime in primes]"
      ],
      "metadata": {
        "id": "WForAwxOquwo"
      },
      "execution_count": null,
      "outputs": []
    },
    {
      "cell_type": "code",
      "source": [
        "ap_cols = [col for col in df.columns if col.startswith(\"ap_\")]\n",
        "df[ap_cols] = df[ap_cols].replace(0, np.nan)\n",
        "df[ap_cols] = df[ap_cols].fillna(df[ap_cols].mean())"
      ],
      "metadata": {
        "id": "Qh57e3buiRG7"
      },
      "execution_count": null,
      "outputs": []
    },
    {
      "cell_type": "code",
      "source": [
        "for i in range(len(abs_prime)):\n",
        "    ap_col = f\"ap_{i+1}\"\n",
        "    df[ap_col].dropna(inplace=True)\n",
        "    if (df[ap_col] == 0).any():\n",
        "        df[ap_col].replace(0, df[ap_col].mean(), inplace=True)\n",
        "    df[ap_col] = df[ap_col].apply(lambda x, p=abs_prime[i]: x / math.sqrt(p))\n",
        "\n"
      ],
      "metadata": {
        "id": "DGS927tkniQ8"
      },
      "execution_count": null,
      "outputs": []
    },
    {
      "cell_type": "code",
      "source": [
        "modified_ap = pd.concat([df['rank'], df.iloc[:,1:301]], axis=1)"
      ],
      "metadata": {
        "id": "slMWQCqFtFpu"
      },
      "execution_count": null,
      "outputs": []
    },
    {
      "cell_type": "code",
      "source": [
        "print(modified_ap)"
      ],
      "metadata": {
        "colab": {
          "base_uri": "https://localhost:8080/"
        },
        "id": "EHEI7Ufltfjq",
        "outputId": "fa59e12a-7e75-496f-c0ff-6c329bf549e0"
      },
      "execution_count": null,
      "outputs": [
        {
          "output_type": "stream",
          "name": "stdout",
          "text": [
            "        rank      ap_1      ap_2      ap_3      ap_4      ap_5      ap_6  \\\n",
            "0          1  0.015302 -0.011886 -0.005834 -0.050121  0.065179 -0.027261   \n",
            "1          1 -0.000975  0.276768 -0.005834 -0.025061 -0.001277  0.013630   \n",
            "2          1  0.015302 -0.011886 -0.159145  0.050121 -0.043452 -0.040891   \n",
            "3          0 -0.015302 -0.011886 -0.005834  0.125304 -0.010863  0.013630   \n",
            "4          1 -0.015302 -0.276768  0.106097 -0.025061 -0.001277 -0.013630   \n",
            "...      ...       ...       ...       ...       ...       ...       ...   \n",
            "149994     3 -0.015302 -0.011886 -0.005834  0.050121  0.032589  0.040891   \n",
            "149995     3  0.015302 -0.011886 -0.106097 -0.002706 -0.065179  0.034076   \n",
            "149996     3 -0.000975 -0.138384 -0.159145 -0.025061  0.021726 -0.013630   \n",
            "149997     3 -0.000975 -0.276768 -0.106097 -0.002706 -0.065179  0.027261   \n",
            "149998     3 -0.000975 -0.276768 -0.212194  0.050121 -0.065179 -0.027261   \n",
            "\n",
            "            ap_7      ap_8      ap_9  ...    ap_291    ap_292    ap_293  \\\n",
            "0      -0.000513  0.012673 -0.004548  ... -0.894486 -0.001721 -1.005994   \n",
            "1       0.012709  0.025346  0.018193  ...  0.596324  0.274793 -1.143174   \n",
            "2      -0.004236  0.012673 -0.006822  ... -0.963293  0.435089  0.480133   \n",
            "3      -0.016945  0.015841  0.013644  ... -0.711002 -0.641184 -0.777359   \n",
            "4      -0.016945  0.025346 -0.000309  ...  1.100906  0.457989  1.646171   \n",
            "...          ...       ...       ...  ...       ...       ...       ...   \n",
            "149994 -0.008472 -0.012673 -0.002274  ... -1.055035  1.328167 -0.960267   \n",
            "149995 -0.033889 -0.025346 -0.006822  ... -0.229355  0.022899 -1.166038   \n",
            "149996  0.008472 -0.015841 -0.020467  ... -0.366969 -1.053374  0.182908   \n",
            "149997 -0.012709  0.012673 -0.006822  ... -1.261455  1.236569 -1.508990   \n",
            "149998 -0.000513  0.015841 -0.013644  ... -1.215584 -1.511362 -1.714762   \n",
            "\n",
            "          ap_294    ap_295    ap_296    ap_297    ap_298    ap_299    ap_300  \n",
            "0      -1.706751  0.295684  0.498330  0.158478  1.891105 -1.123950  0.740312  \n",
            "1      -1.092321  0.932541  0.249165  0.633913 -0.202618  1.213866  0.044867  \n",
            "2       0.682700 -0.978031  0.475678 -1.245186  0.045026 -0.809244 -1.211420  \n",
            "3      -1.319887 -1.796847  1.313778 -1.765899  0.270158  0.202311  1.435757  \n",
            "4      -0.432377  1.250970 -0.090605  1.222546  1.485869 -1.078992  0.628144  \n",
            "...          ...       ...       ...       ...       ...       ...       ...  \n",
            "149994 -0.136540 -1.455674 -0.022651  1.448943 -0.135079  1.416177  1.144119  \n",
            "149995 -0.455134 -0.864306 -1.585594  0.090559  1.936132 -1.461135  0.785180  \n",
            "149996 -1.297131 -1.341949 -1.948016  0.724472  1.215711  1.213866 -1.615227  \n",
            "149997  0.136540  1.410184 -0.294468  0.181118  0.180105  0.359664 -0.269204  \n",
            "149998 -0.864754 -0.591367 -1.223173 -1.358384 -0.742934 -0.134874  1.480625  \n",
            "\n",
            "[149999 rows x 301 columns]\n"
          ]
        }
      ]
    },
    {
      "cell_type": "code",
      "source": [
        "modified_ap.to_csv('final_ap.csv',index=False)"
      ],
      "metadata": {
        "id": "Ep9x9zHSturk"
      },
      "execution_count": null,
      "outputs": []
    },
    {
      "cell_type": "code",
      "source": [
        "df = pd.read_csv('final_ap.csv')"
      ],
      "metadata": {
        "id": "PaIheWGi8Fu0"
      },
      "execution_count": null,
      "outputs": []
    },
    {
      "cell_type": "code",
      "source": [
        "subset = df.sample(frac=0.1, random_state=42)"
      ],
      "metadata": {
        "id": "lpFlQewh2mrm"
      },
      "execution_count": null,
      "outputs": []
    },
    {
      "cell_type": "code",
      "source": [
        "feature_col = [col for col in subset.columns if col.startswith('ap_')]\n",
        "X = subset[feature_col]"
      ],
      "metadata": {
        "id": "nd8emkBH20Xd"
      },
      "execution_count": null,
      "outputs": []
    },
    {
      "cell_type": "code",
      "source": [
        "df_rank = df['rank'][:15000]"
      ],
      "metadata": {
        "id": "zlld_45zIfME"
      },
      "execution_count": null,
      "outputs": []
    },
    {
      "cell_type": "code",
      "source": [
        "y = df_rank\n",
        "y = y.values"
      ],
      "metadata": {
        "id": "nY_SYzUwze7o"
      },
      "execution_count": null,
      "outputs": []
    },
    {
      "cell_type": "code",
      "source": [
        "X_train_reshaped = np.expand_dims(X_train, axis=-1)\n",
        "X_test_reshaped = np.expand_dims(X_test, axis=-1)"
      ],
      "metadata": {
        "id": "D2axA6g441yP"
      },
      "execution_count": null,
      "outputs": []
    },
    {
      "cell_type": "code",
      "source": [
        "X_train, X_test, y_train, y_test = train_test_split(X, y, test_size=0.2, random_state=42)"
      ],
      "metadata": {
        "id": "9DWCd7DR1IMz"
      },
      "execution_count": null,
      "outputs": []
    },
    {
      "cell_type": "code",
      "source": [
        "model = Sequential()\n",
        "\n",
        "model.add(Conv1D(filters=64, kernel_size=3, activation='relu', input_shape=(X_train.shape[1], 1)))\n",
        "model.add(MaxPooling1D(pool_size=2))\n",
        "model.add(Dropout(0.5))\n",
        "\n",
        "model.add(Conv1D(filters=64, kernel_size=3, activation='relu'))\n",
        "model.add(MaxPooling1D(pool_size=2))\n",
        "model.add(Dropout(0.5))\n",
        "\n",
        "model.add(Conv1D(filters=64, kernel_size=3, activation='relu'))\n",
        "model.add(MaxPooling1D(pool_size=2))\n",
        "model.add(Dropout(0.5))\n",
        "\n",
        "model.add(Conv1D(filters=64, kernel_size=3, activation='relu'))\n",
        "model.add(MaxPooling1D(pool_size=2))\n",
        "model.add(Dropout(0.5))\n",
        "\n",
        "model.add(Flatten())\n",
        "\n",
        "model.add(Dense(64, activation='relu'))\n",
        "\n",
        "model.add(Dense(1, activation='sigmoid'))"
      ],
      "metadata": {
        "id": "Iijo7NPd1Lgk"
      },
      "execution_count": null,
      "outputs": []
    },
    {
      "cell_type": "code",
      "source": [
        "sgd = SGD(lr=0.01, momentum=0.9)\n",
        "\n",
        "model.compile(optimizer=sgd,\n",
        "              loss='mse',\n",
        "              metrics=['mae', 'mse',])"
      ],
      "metadata": {
        "colab": {
          "base_uri": "https://localhost:8080/"
        },
        "id": "COkoZDpP1Ycj",
        "outputId": "64f4709a-563a-400d-d8ca-53f413fc71f7"
      },
      "execution_count": null,
      "outputs": [
        {
          "output_type": "stream",
          "name": "stderr",
          "text": [
            "/usr/local/lib/python3.9/dist-packages/keras/optimizers/legacy/gradient_descent.py:114: UserWarning: The `lr` argument is deprecated, use `learning_rate` instead.\n",
            "  super().__init__(name, **kwargs)\n"
          ]
        }
      ]
    },
    {
      "cell_type": "code",
      "source": [
        "history = model.fit(X_train, y_train, epochs=50, batch_size=32, validation_data=(X_test, y_test), verbose=1)\n"
      ],
      "metadata": {
        "id": "kdw7IJ4H1u5k"
      },
      "execution_count": null,
      "outputs": []
    },
    {
      "cell_type": "code",
      "source": [
        "y_pred = model.predict(X_test)\n",
        "\n",
        "abs_error = abs(y_test - y_pred)\n",
        "\n",
        "mae = abs_error.mean()\n",
        "\n",
        "accuracy = 1 - mae\n",
        "\n",
        "print(\"Accuracy: \".format(accuracy))"
      ],
      "metadata": {
        "colab": {
          "base_uri": "https://localhost:8080/"
        },
        "id": "EQNKb0DW9mmU",
        "outputId": "91a23f12-67a7-404f-f1f7-b349e0369214"
      },
      "execution_count": null,
      "outputs": [
        {
          "output_type": "stream",
          "name": "stdout",
          "text": [
            "94/94 [==============================] - 1s 12ms/step\n",
            "Accuracy: \n"
          ]
        }
      ]
    }
  ]
}