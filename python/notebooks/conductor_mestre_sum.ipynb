{
 "cells": [
  {
   "cell_type": "code",
   "execution_count": 20,
   "metadata": {
    "id": "a42M43IPu1cD"
   },
   "outputs": [],
   "source": [
    "import numpy as np\n",
    "import matplotlib.pyplot as plt\n",
    "from matplotlib.pyplot import figure\n",
    "from matplotlib import colors\n",
    "from sympy import sieve, prime, primerange\n",
    "import itertools\n",
    "import pandas as pd"
   ]
  },
  {
   "cell_type": "code",
   "execution_count": 12,
   "metadata": {},
   "outputs": [],
   "source": [
    "df = pd.read_csv('C:/Users/esultano/git/elliptic_curves/data/candidates.txt.result.csv', header=None)\n",
    "num_curves = df.shape[0]\n",
    "mat = [None]*num_curves\n",
    "\n",
    "with open('C:/Users/esultano/git/elliptic_curves/data/candidates.txt') as f:\n",
    "    for i, line in enumerate(f.readlines()):\n",
    "        line = line.strip()\n",
    "        curve = eval(line)\n",
    "        mat[i] = [curve[0], curve[-1]]\n",
    "\n",
    "df_conductor = pd.DataFrame(mat, columns =['conductor', 'sgn']) \n",
    "\n",
    "df['conductor'] = df_conductor['conductor']\n",
    "df['sgn'] = df_conductor['sgn']"
   ]
  },
  {
   "cell_type": "code",
   "execution_count": 14,
   "metadata": {},
   "outputs": [
    {
     "data": {
      "text/html": [
       "<div>\n",
       "<style scoped>\n",
       "    .dataframe tbody tr th:only-of-type {\n",
       "        vertical-align: middle;\n",
       "    }\n",
       "\n",
       "    .dataframe tbody tr th {\n",
       "        vertical-align: top;\n",
       "    }\n",
       "\n",
       "    .dataframe thead th {\n",
       "        text-align: right;\n",
       "    }\n",
       "</style>\n",
       "<table border=\"1\" class=\"dataframe\">\n",
       "  <thead>\n",
       "    <tr style=\"text-align: right;\">\n",
       "      <th></th>\n",
       "      <th>0</th>\n",
       "      <th>1</th>\n",
       "      <th>2</th>\n",
       "      <th>3</th>\n",
       "      <th>4</th>\n",
       "      <th>5</th>\n",
       "      <th>6</th>\n",
       "      <th>conductor</th>\n",
       "      <th>sgn</th>\n",
       "    </tr>\n",
       "  </thead>\n",
       "  <tbody>\n",
       "    <tr>\n",
       "      <th>0</th>\n",
       "      <td>0</td>\n",
       "      <td>1</td>\n",
       "      <td>1</td>\n",
       "      <td>-2170</td>\n",
       "      <td>-22522</td>\n",
       "      <td>2.817892</td>\n",
       "      <td>3.125294</td>\n",
       "      <td>449000984309</td>\n",
       "      <td>1</td>\n",
       "    </tr>\n",
       "    <tr>\n",
       "      <th>1</th>\n",
       "      <td>1</td>\n",
       "      <td>-1</td>\n",
       "      <td>0</td>\n",
       "      <td>239</td>\n",
       "      <td>32148</td>\n",
       "      <td>3.082726</td>\n",
       "      <td>3.556700</td>\n",
       "      <td>449001315611</td>\n",
       "      <td>-1</td>\n",
       "    </tr>\n",
       "    <tr>\n",
       "      <th>2</th>\n",
       "      <td>0</td>\n",
       "      <td>0</td>\n",
       "      <td>1</td>\n",
       "      <td>-32540</td>\n",
       "      <td>-2259073</td>\n",
       "      <td>2.315139</td>\n",
       "      <td>2.724547</td>\n",
       "      <td>449002105613</td>\n",
       "      <td>1</td>\n",
       "    </tr>\n",
       "    <tr>\n",
       "      <th>3</th>\n",
       "      <td>0</td>\n",
       "      <td>1</td>\n",
       "      <td>1</td>\n",
       "      <td>288</td>\n",
       "      <td>32280</td>\n",
       "      <td>3.393803</td>\n",
       "      <td>3.742263</td>\n",
       "      <td>449002390891</td>\n",
       "      <td>-1</td>\n",
       "    </tr>\n",
       "    <tr>\n",
       "      <th>4</th>\n",
       "      <td>0</td>\n",
       "      <td>1</td>\n",
       "      <td>1</td>\n",
       "      <td>-2126</td>\n",
       "      <td>-20328</td>\n",
       "      <td>3.469306</td>\n",
       "      <td>3.777924</td>\n",
       "      <td>449002538981</td>\n",
       "      <td>1</td>\n",
       "    </tr>\n",
       "  </tbody>\n",
       "</table>\n",
       "</div>"
      ],
      "text/plain": [
       "   0  1  2      3        4         5         6     conductor  sgn\n",
       "0  0  1  1  -2170   -22522  2.817892  3.125294  449000984309    1\n",
       "1  1 -1  0    239    32148  3.082726  3.556700  449001315611   -1\n",
       "2  0  0  1 -32540 -2259073  2.315139  2.724547  449002105613    1\n",
       "3  0  1  1    288    32280  3.393803  3.742263  449002390891   -1\n",
       "4  0  1  1  -2126   -20328  3.469306  3.777924  449002538981    1"
      ]
     },
     "execution_count": 14,
     "metadata": {},
     "output_type": "execute_result"
    }
   ],
   "source": [
    "df.head()"
   ]
  },
  {
   "cell_type": "code",
   "execution_count": 24,
   "metadata": {},
   "outputs": [],
   "source": [
    "max_conductor = df['conductor'].max()\n",
    "primelist = list(sieve.primerange(1,max_conductor+1))\n",
    "\n",
    "#df['primeidx'] = df['conductor'].apply(lambda x: sieve.search(x)[0])\n",
    "df['primeidx'] = df['conductor'].apply(lambda x: primelist.index(x))"
   ]
  },
  {
   "cell_type": "code",
   "execution_count": null,
   "metadata": {},
   "outputs": [],
   "source": [
    "df.to_csv('candidates.txt.result_primecond.csv', sep=',')"
   ]
  }
 ],
 "metadata": {
  "colab": {
   "collapsed_sections": [],
   "name": "graphwizz-tree.ipynb",
   "provenance": [],
   "toc_visible": true
  },
  "kernelspec": {
   "display_name": "base",
   "language": "python",
   "name": "python3"
  },
  "language_info": {
   "codemirror_mode": {
    "name": "ipython",
    "version": 3
   },
   "file_extension": ".py",
   "mimetype": "text/x-python",
   "name": "python",
   "nbconvert_exporter": "python",
   "pygments_lexer": "ipython3",
   "version": "3.9.12"
  },
  "vscode": {
   "interpreter": {
    "hash": "10774dab879144ab4b5dc139034ff1511eb939bdd72cd4d6485af79f95a3488f"
   }
  }
 },
 "nbformat": 4,
 "nbformat_minor": 0
}
