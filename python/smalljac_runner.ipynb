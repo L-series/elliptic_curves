{
 "cells": [
  {
   "cell_type": "code",
   "execution_count": 10,
   "metadata": {
    "id": "a42M43IPu1cD"
   },
   "outputs": [],
   "source": [
    "import subprocess\n",
    "import sys\n",
    "import csv"
   ]
  },
  {
   "cell_type": "code",
   "execution_count": 14,
   "metadata": {},
   "outputs": [],
   "source": [
    "curvesfile = 'C:/Users/esultano/git/elliptic_curves/data/candidates_small.txt'\n",
    "numcurves = sum(1 for _ in open(curvesfile))\n",
    "result = [None]*numcurves\n",
    "\n",
    "with open(curvesfile) as f:\n",
    "    for i, line in enumerate(f.readlines()):\n",
    "        line = line.strip()\n",
    "        curve = eval(line)\n",
    "        # call external process (smalljac) to obtain the sums and append them to the line\n",
    "        # result = subprocess.run(\n",
    "        #    [sys.executable, \"-c\", \"C:/Users/esultano/git/elliptic_curves/python/smalljac_emulator.bat\"], capture_output=True, text=True\n",
    "        #)\n",
    "        #sums = result.stdout\n",
    "        cmd1 = [r'C:/Users/esultano/git/elliptic_curves/python/smalljac_emulator.bat']\n",
    "        p = subprocess.Popen(cmd1,stdin=subprocess.PIPE,stdout=subprocess.PIPE)\n",
    "        output = p.communicate(input='x'.encode())[0]\n",
    "        sums = eval(output.decode('ascii').strip())\n",
    "        #result.insert(i, curve+sums)\n",
    "        result[i] = curve+sums\n",
    "\n",
    "with open(curvesfile + '.result.csv', 'w+', newline='') as result_csv:\n",
    "    csvWriter = csv.writer(result_csv, delimiter=',')\n",
    "    csvWriter.writerows(result)\n"
   ]
  }
 ],
 "metadata": {
  "colab": {
   "collapsed_sections": [],
   "name": "graphwizz-tree.ipynb",
   "provenance": [],
   "toc_visible": true
  },
  "kernelspec": {
   "display_name": "base",
   "language": "python",
   "name": "python3"
  },
  "language_info": {
   "codemirror_mode": {
    "name": "ipython",
    "version": 3
   },
   "file_extension": ".py",
   "mimetype": "text/x-python",
   "name": "python",
   "nbconvert_exporter": "python",
   "pygments_lexer": "ipython3",
   "version": "3.9.7"
  },
  "vscode": {
   "interpreter": {
    "hash": "7c936ca26d928ed2f273f5ea0f7b833cbbe474d1d3e789bb1ebcf7d5692368d3"
   }
  }
 },
 "nbformat": 4,
 "nbformat_minor": 0
}
