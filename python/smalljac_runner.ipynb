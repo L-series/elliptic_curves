{
 "cells": [
  {
   "cell_type": "code",
   "execution_count": 3,
   "metadata": {
    "id": "a42M43IPu1cD"
   },
   "outputs": [],
   "source": [
    "import numpy as np\n",
    "import subprocess\n",
    "import sys\n",
    "import pandas as pd"
   ]
  },
  {
   "cell_type": "code",
   "execution_count": 15,
   "metadata": {},
   "outputs": [
    {
     "name": "stdout",
     "output_type": "stream",
     "text": [
      "[449000984309, 0, 1, 1, -2170, -22522, 1, 343, 777]\n",
      "[449001315611, 1, -1, 0, 239, 32148, -1, 343, 777]\n",
      "[449002105613, 0, 0, 1, -32540, -2259073, 1, 343, 777]\n",
      "[449002390891, 0, 1, 1, 288, 32280, -1, 343, 777]\n",
      "[449002538981, 0, 1, 1, -2126, -20328, 1, 343, 777]\n",
      "[19003000236859, 1, 1, 1, 2424, 205652, -1, 343, 777]\n",
      "[19003000236859, 1, 1, 1, 2424, 205652, -1, 343, 777]\n"
     ]
    }
   ],
   "source": [
    "\n",
    "with open('C:/Users/esultano/git/elliptic_curves/data/candidates_small.txt') as f:\n",
    "    for line in f.readlines():\n",
    "        line = line.strip()\n",
    "        curve = eval(line)\n",
    "        # call external process (smalljac) to obtain the sums and append them to the line\n",
    "        # result = subprocess.run(\n",
    "        #    [sys.executable, \"-c\", \"C:/Users/esultano/git/elliptic_curves/python/smalljac_emulator.bat\"], capture_output=True, text=True\n",
    "        #)\n",
    "        #sums = result.stdout\n",
    "        cmd1 = [r'C:/Users/esultano/git/elliptic_curves/python/smalljac_emulator.bat']\n",
    "        p = subprocess.Popen(cmd1,stdin=subprocess.PIPE,stdout=subprocess.PIPE)\n",
    "        output = p.communicate(input='x'.encode())[0]\n",
    "        sums = eval(output.decode('ascii').strip())\n",
    "        curve+=sums\n",
    "        print(curve)\n",
    "    \n"
   ]
  }
 ],
 "metadata": {
  "colab": {
   "collapsed_sections": [],
   "name": "graphwizz-tree.ipynb",
   "provenance": [],
   "toc_visible": true
  },
  "kernelspec": {
   "display_name": "base",
   "language": "python",
   "name": "python3"
  },
  "language_info": {
   "codemirror_mode": {
    "name": "ipython",
    "version": 3
   },
   "file_extension": ".py",
   "mimetype": "text/x-python",
   "name": "python",
   "nbconvert_exporter": "python",
   "pygments_lexer": "ipython3",
   "version": "3.9.12"
  },
  "vscode": {
   "interpreter": {
    "hash": "10774dab879144ab4b5dc139034ff1511eb939bdd72cd4d6485af79f95a3488f"
   }
  }
 },
 "nbformat": 4,
 "nbformat_minor": 0
}
