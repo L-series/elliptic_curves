{
 "cells": [
  {
   "cell_type": "code",
   "execution_count": 16,
   "metadata": {},
   "outputs": [
    {
     "name": "stdout",
     "output_type": "stream",
     "text": [
      "[[0.00000000e+00 2.00000000e+00 4.00000000e+00]\n",
      " [1.00000000e+00 1.00000000e+00 1.00000000e+00]\n",
      " [7.08337220e+07 2.64700090e+09 7.00661374e+18]\n",
      " [6.56031067e+08 2.29447517e+09 5.26461630e+18]\n",
      " [0.00000000e+00 0.00000000e+00 0.00000000e+00]\n",
      " [0.00000000e+00 0.00000000e+00 0.00000000e+00]\n",
      " [0.00000000e+00 0.00000000e+00 0.00000000e+00]\n",
      " [0.00000000e+00 0.00000000e+00 0.00000000e+00]\n",
      " [0.00000000e+00 0.00000000e+00 0.00000000e+00]\n",
      " [0.00000000e+00 0.00000000e+00 0.00000000e+00]]\n",
      "CPU times: user 58.5 s, sys: 4min 5s, total: 5min 4s\n",
      "Wall time: 5min 4s\n"
     ]
    }
   ],
   "source": [
    "%%time\n",
    "from numba import jit, cuda\n",
    "import numpy as np\n",
    "from math import sqrt\n",
    "\n",
    "@cuda.jit\n",
    "def findIntegerSolutionsCuda(arr):\n",
    "    i=0\n",
    "    for x in range(0, 1000000000+1):\n",
    "        y = float(x**6-4*x**2+4)\n",
    "        sqr = int(sqrt(y))\n",
    "        if sqr*sqr == int(y):\n",
    "            arr[i][0]=x\n",
    "            arr[i][1]=sqr\n",
    "            arr[i][2]=y\n",
    "            i+=1\n",
    "\n",
    "arr=np.zeros((10,3))\n",
    "findIntegerSolutionsCuda[128, 255](arr)\n",
    "\n",
    "print(arr)"
   ]
  },
  {
   "cell_type": "code",
   "execution_count": null,
   "metadata": {},
   "outputs": [],
   "source": []
  },
  {
   "cell_type": "code",
   "execution_count": null,
   "metadata": {},
   "outputs": [],
   "source": []
  },
  {
   "cell_type": "code",
   "execution_count": null,
   "metadata": {},
   "outputs": [],
   "source": []
  },
  {
   "cell_type": "code",
   "execution_count": null,
   "metadata": {},
   "outputs": [],
   "source": []
  },
  {
   "cell_type": "code",
   "execution_count": null,
   "metadata": {},
   "outputs": [],
   "source": []
  }
 ],
 "metadata": {
  "kernelspec": {
   "display_name": "Python 3",
   "language": "python",
   "name": "python3"
  },
  "language_info": {
   "codemirror_mode": {
    "name": "ipython",
    "version": 3
   },
   "file_extension": ".py",
   "mimetype": "text/x-python",
   "name": "python",
   "nbconvert_exporter": "python",
   "pygments_lexer": "ipython3",
   "version": "3.7.6"
  }
 },
 "nbformat": 4,
 "nbformat_minor": 4
}
